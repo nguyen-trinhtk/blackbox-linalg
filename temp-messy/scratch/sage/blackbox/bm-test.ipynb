{
 "cells": [
  {
   "cell_type": "code",
   "execution_count": 9,
   "id": "bf72fbe1-ee7f-42db-a014-1f8ba3a96bae",
   "metadata": {},
   "outputs": [],
   "source": [
    "from sage.matrix.berlekamp_massey import berlekamp_massey\n",
    "from sage.matrix.special import *"
   ]
  },
  {
   "cell_type": "code",
   "execution_count": 11,
   "id": "a05b52ef-ba60-4bfd-895a-cb3317f9ae82",
   "metadata": {},
   "outputs": [
    {
     "name": "stdout",
     "output_type": "stream",
     "text": [
      "x^10 + 126*x^9 + 352*x^8 + 132*x^7 + 982*x^6 + 188*x^5 + 43*x^4 + 206*x^3 + 797*x^2 + 858*x + 162\n"
     ]
    }
   ],
   "source": [
    "f = GF(7)\n",
    "# min poly: (x-1)^3\n",
    "jordan = jordan_matrix(f, [1]*3)\n"
   ]
  },
  {
   "cell_type": "code",
   "execution_count": null,
   "id": "ddce71e7-43db-4b9d-808d-3d2c133e702b",
   "metadata": {},
   "outputs": [],
   "source": []
  }
 ],
 "metadata": {
  "kernelspec": {
   "display_name": "SageMath 10.6",
   "language": "sage",
   "name": "sagemath-10.6"
  },
  "language_info": {
   "codemirror_mode": {
    "name": "ipython",
    "version": 3
   },
   "file_extension": ".py",
   "mimetype": "text/x-python",
   "name": "python",
   "nbconvert_exporter": "python",
   "pygments_lexer": "ipython3",
   "version": "3.12.5"
  }
 },
 "nbformat": 4,
 "nbformat_minor": 5
}
