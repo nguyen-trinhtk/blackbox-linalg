{
 "cells": [
  {
   "cell_type": "markdown",
   "id": "6d152b4a-bae3-4969-b261-bf5d35bd972a",
   "metadata": {},
   "source": [
    "# Determinants (DET)\n",
    "### Recall: \n",
    "- $det(M^{-1}) = \\frac{1}{det(M)}$\n",
    "- $det(AB) = det(A) \\times det(B)$\n",
    "- $det(A) = 0 \\iff$ $A$ is singular\n",
    "### Steps: \n",
    "##### For small fields: open problem (!, maybe relative to matrix size)\n",
    "##### For large fields: \n",
    "1. Use PreCondCyc\n",
    "2. Solve MinPoly\n",
    "3. Find Det\n",
    "##### For $\\mathbb{F}_2$:\n",
    "Use Singularity Test (LinSolve0):\n",
    "- Singular: $det(A) = 1$\n",
    "- Else: nonsingular: $det(A) = 0$"
   ]
  },
  {
   "cell_type": "markdown",
   "id": "88f83139-b1bb-440b-a07f-b0d7837ab9d9",
   "metadata": {},
   "source": [
    "### Large fields"
   ]
  },
  {
   "cell_type": "code",
   "execution_count": null,
   "id": "c066bcf5-2f76-4523-9205-fa21506d698d",
   "metadata": {},
   "outputs": [],
   "source": [
    "from sage.misc.prandom import randrange"
   ]
  },
  {
   "cell_type": "code",
   "execution_count": null,
   "id": "e40cb12f-c28f-41a4-8d0b-ea841a0e94c8",
   "metadata": {},
   "outputs": [],
   "source": [
    "# q = 2^64 - 2^32 + 1\n",
    "# q = 997\n",
    "# q = 3\n",
    "q = 11\n",
    "f = GF(q)\n",
    "n = 5"
   ]
  },
  {
   "cell_type": "code",
   "execution_count": null,
   "id": "9e6c62b5-586f-4b04-aca4-8c6b23f5b25c",
   "metadata": {},
   "outputs": [],
   "source": [
    "cyc_v = vector(f, [randrange(1, q) for i in range(n)])"
   ]
  },
  {
   "cell_type": "code",
   "execution_count": null,
   "id": "93e14091-4c69-4b2d-95b0-5195eaea89e6",
   "metadata": {},
   "outputs": [],
   "source": [
    "cyc = matrix.circulant(cyc_v)\n",
    "print(\"PreCondCyc:\")\n",
    "print(cyc)\n",
    "print(\"Nonsingular:\", cyc.is_invertible())\n",
    "det_cyc = cyc.det()\n",
    "print(\"Cyc det:\", det_cyc)"
   ]
  },
  {
   "cell_type": "markdown",
   "id": "a6e7c0c4-0e21-4868-86c5-818a1d9276d8",
   "metadata": {},
   "source": [
    "- Cyclic matrix - diagonalizable: $F \\Lambda F^{-1}$\n",
    "- Inverse of a cyclic is another cyclic"
   ]
  },
  {
   "cell_type": "code",
   "execution_count": null,
   "id": "5344363a-1743-479f-aa6c-8e24013cdca6",
   "metadata": {},
   "outputs": [],
   "source": [
    "cyc_inv = cyc.inverse()\n",
    "cyc_inv"
   ]
  },
  {
   "cell_type": "code",
   "execution_count": null,
   "id": "77341688-f1fe-4f35-8396-52d5caf93558",
   "metadata": {},
   "outputs": [],
   "source": [
    "# A = random_matrix(f, n, n)\n",
    "e = f.random_element()  # eigenvalue for first 2x2 block and 1x1 block\n",
    "g = f.random_element()  # eigenvalue for second 2x2 block\n",
    "\n",
    "A = block_diagonal_matrix([\n",
    "    jordan_block(e, 2),\n",
    "    jordan_block(g, 2),\n",
    "    matrix(f, 1, 1, [e])\n",
    "])"
   ]
  },
  {
   "cell_type": "code",
   "execution_count": null,
   "id": "d8d2ef36-6508-4fd7-9aab-3a40a7e2059c",
   "metadata": {},
   "outputs": [],
   "source": [
    "print(A)\n",
    "print(\"Nonsingular:\", A.is_invertible())\n",
    "print(\"Det A:\", A.det())"
   ]
  },
  {
   "cell_type": "code",
   "execution_count": null,
   "id": "e76fdd6b-f39e-49bf-89dc-34650130954b",
   "metadata": {},
   "outputs": [],
   "source": [
    "pcA = cyc_inv*A\n",
    "print(pcA)\n",
    "# print(\"Det pcA:\", det(pcA))\n",
    "# print(\"Expected det pcA:\", f(1/(det(cyc))*det(A)))"
   ]
  },
  {
   "cell_type": "markdown",
   "id": "89ea6a60-12fb-4841-af79-4cb1040ec3db",
   "metadata": {},
   "source": [
    "- Known det: cyc, cyc_inv\n",
    "- Unknown det: A, pcA"
   ]
  },
  {
   "cell_type": "code",
   "execution_count": null,
   "id": "815dcc71-f7dd-4972-b1b4-93c0c6f32f03",
   "metadata": {},
   "outputs": [],
   "source": [
    "print(minpoly(pcA)) # later: how many iteration?\n",
    "print(charpoly(pcA))"
   ]
  },
  {
   "cell_type": "code",
   "execution_count": null,
   "id": "a7a8b33a-e1fa-46ce-9e73-47edec1cb379",
   "metadata": {},
   "outputs": [],
   "source": [
    "print(minpoly(A))\n",
    "print(charpoly(A))"
   ]
  },
  {
   "cell_type": "markdown",
   "id": "3962a770-13b6-4e27-9f7f-b19ab6ebbcd2",
   "metadata": {},
   "source": [
    "#### PreCondCyc makes minpoly = charpoly"
   ]
  },
  {
   "cell_type": "markdown",
   "id": "c4ab2342-9a79-494b-b02b-a33208264302",
   "metadata": {},
   "source": [
    "### Recall\n",
    "- $p_A$: char poly\n",
    "- Cayley-Hamilton: $p_A(A) = 0$\n",
    "- Expansion & moving around: $det(A)=(−1)^np_A(0)$\n",
    "- If found char poly $\\to$ can found det!"
   ]
  },
  {
   "cell_type": "code",
   "execution_count": null,
   "id": "e7c817a0-169d-45a8-8e3e-4ac7440db66f",
   "metadata": {},
   "outputs": [],
   "source": [
    "m = minpoly(pcA)\n",
    "d = m.degree()\n",
    "det_pcA = (-1)^d*m(0)\n",
    "print(\"Det pcA:\",det_pcA)"
   ]
  },
  {
   "cell_type": "code",
   "execution_count": null,
   "id": "8f9093ed-5259-45a1-ac3c-61cb26611c68",
   "metadata": {},
   "outputs": [],
   "source": [
    "det_A = det_pcA * det_cyc\n",
    "print(\"Computed det A:\", det_A)\n",
    "print(\"Actual det A:\", A.det())"
   ]
  }
 ],
 "metadata": {
  "kernelspec": {
   "display_name": "SageMath 10.6",
   "language": "sage",
   "name": "sagemath-10.6"
  },
  "language_info": {
   "codemirror_mode": {
    "name": "ipython",
    "version": 3
   },
   "file_extension": ".py",
   "mimetype": "text/x-python",
   "name": "python",
   "nbconvert_exporter": "python",
   "pygments_lexer": "ipython3",
   "version": "3.12.5"
  }
 },
 "nbformat": 4,
 "nbformat_minor": 5
}
