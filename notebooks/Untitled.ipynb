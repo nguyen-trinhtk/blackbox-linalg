{
 "cells": [
  {
   "cell_type": "code",
   "execution_count": 5,
   "id": "145572ed-d21e-466d-b32f-a82e54bd3ee2",
   "metadata": {},
   "outputs": [
    {
     "name": "stdout",
     "output_type": "stream",
     "text": [
      "Generating a 1000x1000 sparse matrix over GF(31) with density 2.0%...\n",
      "Performing Gaussian elimination (row echelon form)...\n",
      "✅ Gaussian elimination completed in 1.330 seconds.\n",
      "Rank of matrix: 1000\n"
     ]
    }
   ],
   "source": [
    "import random\n",
    "import time\n",
    "\n",
    "# ====== Parameters ======\n",
    "n = 1000        # matrix size (1000 x 1000)\n",
    "density = 0.02  # fraction of nonzeros (2%)\n",
    "q = 31          # finite field GF(31)\n",
    "seed = 42       # reproducibility\n",
    "# =========================\n",
    "\n",
    "random.seed(int(seed))\n",
    "F = GF(q)\n",
    "\n",
    "print(f\"Generating a {n}x{n} sparse matrix over GF({q}) with density {density*100:.1f}%...\")\n",
    "\n",
    "# Create an empty sparse matrix\n",
    "A = Matrix(F, n, n, sparse=True)\n",
    "\n",
    "# Fill random entries according to density\n",
    "for i in range(n):\n",
    "    for j in range(n):\n",
    "        if random.random() < density:\n",
    "            A[i, j] = F(random.randint(1, q - 1))\n",
    "\n",
    "# Count nonzero entries\n",
    "num_nonzeros = sum(1 for _ in A.list() if _ != 0)\n",
    "\n",
    "# ====== Gaussian elimination ======\n",
    "print(\"Performing Gaussian elimination (row echelon form)...\")\n",
    "\n",
    "t0 = time.time()\n",
    "A_ech = A.echelon_form()\n",
    "t1 = time.time()\n",
    "\n",
    "print(f\"✅ Gaussian elimination completed in {t1 - t0:.3f} seconds.\")\n",
    "print(f\"Rank of matrix: {A.rank()}\")"
   ]
  },
  {
   "cell_type": "code",
   "execution_count": null,
   "id": "2e7cbb46-a7ea-4070-bea0-d62bc506ab10",
   "metadata": {},
   "outputs": [],
   "source": []
  }
 ],
 "metadata": {
  "kernelspec": {
   "display_name": "SageMath 10.6",
   "language": "sage",
   "name": "sagemath-10.6"
  },
  "language_info": {
   "codemirror_mode": {
    "name": "ipython",
    "version": 3
   },
   "file_extension": ".py",
   "mimetype": "text/x-python",
   "name": "python",
   "nbconvert_exporter": "python",
   "pygments_lexer": "ipython3",
   "version": "3.12.5"
  }
 },
 "nbformat": 4,
 "nbformat_minor": 5
}
