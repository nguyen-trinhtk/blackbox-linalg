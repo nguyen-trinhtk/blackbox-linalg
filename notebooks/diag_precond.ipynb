{
 "cells": [
  {
   "cell_type": "markdown",
   "id": "5d696d8a-6623-4aab-a5d5-525efb3acf4a",
   "metadata": {},
   "source": [
    "# Example for Lemma 4.1"
   ]
  },
  {
   "cell_type": "code",
   "execution_count": 21,
   "id": "145572ed-d21e-466d-b32f-a82e54bd3ee2",
   "metadata": {},
   "outputs": [],
   "source": [
    "n = 3\n",
    "q = 11\n",
    "f = GF(q)"
   ]
  },
  {
   "cell_type": "code",
   "execution_count": 22,
   "id": "2e7cbb46-a7ea-4070-bea0-d62bc506ab10",
   "metadata": {},
   "outputs": [],
   "source": [
    "A = random_matrix(f, n, n)\n",
    "D = diagonal_matrix([f.random_element() for _ in range(n)])\n",
    "P = D*A"
   ]
  },
  {
   "cell_type": "code",
   "execution_count": 23,
   "id": "bab79d26-2981-46a3-bd5f-de54ec4a8ecc",
   "metadata": {},
   "outputs": [],
   "source": [
    "u = vector([f.random_element() for _ in range(n)])\n",
    "v = vector([f.random_element() for _ in range(n)])"
   ]
  },
  {
   "cell_type": "code",
   "execution_count": null,
   "id": "2eaf0491-fc76-4bbb-a1b8-770983e0dcf8",
   "metadata": {},
   "outputs": [],
   "source": []
  }
 ],
 "metadata": {
  "kernelspec": {
   "display_name": "SageMath 10.6",
   "language": "sage",
   "name": "sagemath-10.6"
  },
  "language_info": {
   "codemirror_mode": {
    "name": "ipython",
    "version": 3
   },
   "file_extension": ".py",
   "mimetype": "text/x-python",
   "name": "python",
   "nbconvert_exporter": "python",
   "pygments_lexer": "ipython3",
   "version": "3.12.5"
  }
 },
 "nbformat": 4,
 "nbformat_minor": 5
}
