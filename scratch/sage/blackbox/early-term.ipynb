{
 "cells": [
  {
   "cell_type": "code",
   "execution_count": 22,
   "id": "54c1346d-0341-40ff-b1ca-776c67cd000f",
   "metadata": {},
   "outputs": [],
   "source": [
    "f = GF(7)\n",
    "n = 10"
   ]
  },
  {
   "cell_type": "code",
   "execution_count": 23,
   "id": "a4c25141-df9e-42c3-8683-0e0ecabe6577",
   "metadata": {},
   "outputs": [],
   "source": [
    "sparse = Matrix(f, [\n",
    "    [0, 0, 0, 0, 0, 0, 0, 0, 0, 1],\n",
    "    [0, 0, 0, 0, 0, 0, 3, 0, 0, 0],\n",
    "    [0, 0, 0, 0, 0, 0, 0, 0, 5, 0],\n",
    "    [0, 0, 0, 0, 0, 0, 0, 0, 0, 0],\n",
    "    [0, 4, 0, 0, 0, 0, 0, 0, 0, 0],\n",
    "    [0, 0, 0, 6, 0, 0, 0, 0, 0, 0],\n",
    "    [0, 0, 2, 0, 0, 0, 0, 0, 0, 0],\n",
    "    [0, 0, 0, 0, 1, 0, 0, 0, 0, 0],\n",
    "    [0, 0, 0, 0, 0, 0, 0, 2, 0, 0],\n",
    "    [0, 0, 0, 0, 0, 0, 0, 0, 0, 0],\n",
    "])"
   ]
  },
  {
   "cell_type": "code",
   "execution_count": 24,
   "id": "9cdc0ab5-a9f1-4b5d-8d34-cc6b8219f743",
   "metadata": {},
   "outputs": [],
   "source": [
    "toeplitz = Matrix(f, [\n",
    "    [1, 2, 3, 4, 5, 6, 0, 1, 2, 3],\n",
    "    [0, 1, 2, 3, 4, 5, 6, 0, 1, 2],\n",
    "    [6, 0, 1, 2, 3, 4, 5, 6, 0, 1],\n",
    "    [5, 6, 0, 1, 2, 3, 4, 5, 6, 0],\n",
    "    [4, 5, 6, 0, 1, 2, 3, 4, 5, 6],\n",
    "    [3, 4, 5, 6, 0, 1, 2, 3, 4, 5],\n",
    "    [2, 3, 4, 5, 6, 0, 1, 2, 3, 4],\n",
    "    [1, 2, 3, 4, 5, 6, 0, 1, 2, 3],\n",
    "    [0, 1, 2, 3, 4, 5, 6, 0, 1, 2],\n",
    "    [6, 0, 1, 2, 3, 4, 5, 6, 0, 1],\n",
    "])"
   ]
  },
  {
   "cell_type": "code",
   "execution_count": 25,
   "id": "b604b5a7-8801-4987-ab46-96c6b6da0368",
   "metadata": {},
   "outputs": [],
   "source": [
    "hankel = [[(i + j) % 7 for j in range(10)] for i in range(10)]\n",
    "# adjust so that anti-diagonals are constant\n",
    "hankel = [[(i + j) % 7 for j in range(10)] for i in range(10)]\n",
    "for i in range(10):\n",
    "    for j in range(10):\n",
    "        hankel[i][j] = (i + j) % 7\n",
    "hankel = Matrix(f, hankel)"
   ]
  },
  {
   "cell_type": "code",
   "execution_count": 26,
   "id": "a134862a-8db1-4289-bf56-721f9312afb3",
   "metadata": {},
   "outputs": [],
   "source": [
    "diff_diagonal = [[0]*10 for _ in range(10)]\n",
    "for i in range(10):\n",
    "    diff_diagonal[i][i] = (i + 1) % 7\n",
    "diff_diagonal = Matrix(f, diff_diagonal)"
   ]
  },
  {
   "cell_type": "code",
   "execution_count": 27,
   "id": "00a83f1f-90aa-40f5-88b8-454ba30c6904",
   "metadata": {},
   "outputs": [],
   "source": [
    "same_diagonal = [[0]*10 for _ in range(10)]\n",
    "for i in range(10):\n",
    "    same_diagonal[i][i] = 2\n",
    "same_diagonal = Matrix(f, same_diagonal)"
   ]
  },
  {
   "cell_type": "code",
   "execution_count": 28,
   "id": "50dd8219-5b83-4416-bab8-1871e56e49a0",
   "metadata": {},
   "outputs": [],
   "source": [
    "sylvester = Matrix(f, [\n",
    "    [1, 0, 2, 0, 0, 6, 0, 0, 0, 0],\n",
    "    [0, 1, 0, 2, 0, 0, 6, 0, 0, 0],\n",
    "    [0, 0, 1, 0, 2, 0, 0, 6, 0, 0],\n",
    "    [0, 0, 0, 1, 0, 2, 0, 0, 6, 0],\n",
    "    [0, 0, 0, 0, 1, 0, 2, 0, 0, 6],\n",
    "    [1, 0, 3, 0, 0, 1, 0, 0, 0, 0],\n",
    "    [0, 1, 0, 3, 0, 0, 1, 0, 0, 0],\n",
    "    [0, 0, 1, 0, 3, 0, 0, 1, 0, 0],\n",
    "    [0, 0, 0, 1, 0, 3, 0, 0, 1, 0],\n",
    "    [0, 0, 0, 0, 1, 0, 3, 0, 0, 1],\n",
    "])"
   ]
  },
  {
   "cell_type": "code",
   "execution_count": 29,
   "id": "177de94e-ead5-4f68-baf3-6e4f4700dc14",
   "metadata": {},
   "outputs": [],
   "source": [
    "jordan_block = [[0]*10 for _ in range(10)]\n",
    "λ = 3\n",
    "for i in range(10):\n",
    "    jordan_block[i][i] = λ\n",
    "    if i < 9:\n",
    "        jordan_block[i][i+1] = 1\n",
    "jordan_block = Matrix(f, jordan_block)"
   ]
  },
  {
   "cell_type": "code",
   "execution_count": 30,
   "id": "bfb846b7-9c3a-461d-bf83-7d6776cee533",
   "metadata": {},
   "outputs": [],
   "source": [
    "companion = [[0]*10 for _ in range(10)]\n",
    "for i in range(9):\n",
    "    companion[i+1][i] = 1\n",
    "coeffs = [2, 5, 4, 3, 6, 1, 0, 2, 1, 6]  # a_0 to a_9\n",
    "for j in range(10):\n",
    "    companion[0][j] = (-coeffs[9-j]) % 7\n",
    "companion = Matrix(f, companion)"
   ]
  },
  {
   "cell_type": "code",
   "execution_count": 31,
   "id": "a92a7d35-71ec-4087-8f43-6bc9957dac6d",
   "metadata": {},
   "outputs": [],
   "source": [
    "v = [i % 7 for i in range(10)]\n",
    "vandermonde = Matrix(f, [[pow(v[j], i, 7) for j in range(10)] for i in range(10)])\n"
   ]
  },
  {
   "cell_type": "code",
   "execution_count": 32,
   "id": "5d839c7f-79e9-4b72-8c29-ebd67a323e78",
   "metadata": {},
   "outputs": [],
   "source": [
    "from sage.matrix.berlekamp_massey import berlekamp_massey\n",
    "import random\n",
    "\n",
    "def random_vector(n, f):\n",
    "    return vector(f, [f.random_element() for _ in range(n)])"
   ]
  },
  {
   "cell_type": "code",
   "execution_count": 33,
   "id": "90b15b8d-12bd-40ef-99bf-93b8a6b2efc1",
   "metadata": {},
   "outputs": [],
   "source": [
    "mats = [sparse, toeplitz, hankel, diff_diagonal, same_diagonal, sylvester, jordan_block, companion, vandermonde]\n",
    "def avg_early_term(A, trials = 1000):\n",
    "    # write a function that runs 1000 times see on average how many krylov terms \n",
    "    # is needed to recover actual min poly\n",
    "    total = 0\n",
    "    minpoly = A.minpoly()\n",
    "    mu = 0\n",
    "    for _ in range(trials):\n",
    "        k = 0\n",
    "        u = random_vector(n, f)\n",
    "        v = random_vector(n, f)\n",
    "        while k < n:\n",
    "            k += 1\n",
    "            kappa = [u.dot_product((A^i)*v) for i in range(2*k)]\n",
    "            mu = berlekamp_massey(kappa)\n",
    "            mu = mu / mu.leading_coefficient()\n",
    "            if mu == minpoly: \n",
    "                break\n",
    "        total += 2*k\n",
    "        if 2*k != 2*n:\n",
    "            print(2*k)\n",
    "    return float(total/trials)"
   ]
  },
  {
   "cell_type": "code",
   "execution_count": 34,
   "id": "c26f45cb-53d8-45c3-9132-1e4083d3e02f",
   "metadata": {},
   "outputs": [],
   "source": [
    "# for mat in mats: \n",
    "#     avg_early_term(mat)\n",
    "#     print('---')"
   ]
  },
  {
   "cell_type": "code",
   "execution_count": 35,
   "id": "2377aad4-b283-4c6f-b9cc-0f527c68e8fc",
   "metadata": {},
   "outputs": [],
   "source": [
    "# def print_early_term(A):\n",
    "#         minpoly = A.minpoly()\n",
    "#         mu = 0\n",
    "#         k = 1\n",
    "#         u = random_vector(n, f)\n",
    "#         v = random_vector(n, f)\n",
    "#         while k <= n: \n",
    "#             kappa = [u.dot_product((A^i)*v) for i in range(2*k)]\n",
    "#             mu = berlekamp_massey(kappa)\n",
    "#             mu = mu / mu.leading_coefficient()\n",
    "#             print(mu)\n",
    "#             if mu==minpoly:\n",
    "#                 print('Yay')\n",
    "#             k += 1\n",
    "# for mat in mats: \n",
    "#     print(f'---Min poly: {mat.minpoly()}---')\n",
    "#     print_early_term(mat)"
   ]
  },
  {
   "cell_type": "code",
   "execution_count": 36,
   "id": "3665386e-b3bb-4f68-843b-b62b9318c229",
   "metadata": {},
   "outputs": [
    {
     "name": "stdout",
     "output_type": "stream",
     "text": [
      "0.0\n",
      "0.0\n",
      "0.0\n",
      "0.0\n",
      "0.851\n",
      "0.671\n",
      "0.735\n",
      "0.677\n",
      "0.0\n"
     ]
    }
   ],
   "source": [
    "def empirical_success(A, p=7, trials=1000):\n",
    "    f = GF(p)\n",
    "    n = A.nrows()\n",
    "    succeeded = 0\n",
    "    min_poly = A.minpoly()\n",
    "    \n",
    "    for _ in range(trials):\n",
    "        u = random_vector(n, f)\n",
    "        v = random_vector(n, f)\n",
    "        kappa = [u.dot_product((A^i)*v) for i in range(2*n)]\n",
    "        mu = berlekamp_massey(kappa)\n",
    "        if mu == min_poly:\n",
    "            succeeded += 1\n",
    "    prob = succeeded / trials\n",
    "    return float(prob)\n",
    "\n",
    "for mat in mats: \n",
    "    print(empirical_success(mat))"
   ]
  },
  {
   "cell_type": "code",
   "execution_count": null,
   "id": "1171e8b0-8816-42c0-8fd6-614a83c22712",
   "metadata": {},
   "outputs": [],
   "source": []
  }
 ],
 "metadata": {
  "kernelspec": {
   "display_name": "SageMath 10.6",
   "language": "sage",
   "name": "sagemath-10.6"
  },
  "language_info": {
   "codemirror_mode": {
    "name": "ipython",
    "version": 3
   },
   "file_extension": ".py",
   "mimetype": "text/x-python",
   "name": "python",
   "nbconvert_exporter": "python",
   "pygments_lexer": "ipython3",
   "version": "3.12.5"
  }
 },
 "nbformat": 4,
 "nbformat_minor": 5
}
