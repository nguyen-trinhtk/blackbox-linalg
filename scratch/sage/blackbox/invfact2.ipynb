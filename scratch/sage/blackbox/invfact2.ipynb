{
 "cells": [
  {
   "cell_type": "code",
   "execution_count": 1,
   "id": "867f8a6e-bf2b-42b8-b2ae-ac8f4e580941",
   "metadata": {},
   "outputs": [],
   "source": [
    "def companion(f): # companion matrix of \n",
    "    R = f.parent()\n",
    "    K = R.base_ring()\n",
    "    n = f.degree()\n",
    "    if f.leading_coefficient() != 1:\n",
    "        raise ValueError(\"Polynomial must be monic\")\n",
    "    coeffs = [f[i] for i in range(n)]\n",
    "    M = Matrix(K, n, n)\n",
    "    for i in range(n - 1):\n",
    "        M[i, i + 1] = 1\n",
    "    for j in range(n):\n",
    "        M[n - 1, j] = -coeffs[j]\n",
    "    return M"
   ]
  },
  {
   "cell_type": "code",
   "execution_count": 2,
   "id": "aae2e411-9857-46b8-b0d9-52e48bd02182",
   "metadata": {},
   "outputs": [],
   "source": [
    "def block_companion(f, x=1):\n",
    "    # block jordan companion\n",
    "    C = companion(f)\n",
    "    K = C.base_ring()\n",
    "    n = C.nrows()\n",
    "    size = x * n\n",
    "    J = Matrix(K, size, size)\n",
    "    for i in range(x):\n",
    "        J[n*i : n*(i+1), n*i : n*(i+1)] = C\n",
    "        if i < x - 1:\n",
    "            J[n*i : n*(i+1), n*(i+1) : n*(i+2)] = identity_matrix(K, n)\n",
    "    return J"
   ]
  },
  {
   "cell_type": "code",
   "execution_count": 3,
   "id": "545c95a9-01ea-46d5-bf2c-61bea6310848",
   "metadata": {},
   "outputs": [],
   "source": [
    "def Q(q, d, s):\n",
    "    return (1 - 1/(q**d))**2"
   ]
  },
  {
   "cell_type": "code",
   "execution_count": 4,
   "id": "74ec7f22-f33b-468c-8fdd-a5a2441dc399",
   "metadata": {},
   "outputs": [
    {
     "name": "stdout",
     "output_type": "stream",
     "text": [
      "0.7050123672959396\n"
     ]
    }
   ],
   "source": [
    "print(float(Q(7, 2, 1)*Q(7, 1, 3)))"
   ]
  },
  {
   "cell_type": "code",
   "execution_count": 5,
   "id": "953d40f9-6db2-4413-b4bf-3a0932e51392",
   "metadata": {},
   "outputs": [],
   "source": [
    "def build_matrix(poly_config, inv_facts):\n",
    "    blocks = []\n",
    "    for inv_fact in inv_facts:\n",
    "        for i in range(len(poly_config)):\n",
    "            if inv_fact[i] != 0:\n",
    "                blocks.append(block_companion(poly_config[i],inv_fact[i]))\n",
    "    return block_diagonal_matrix(blocks)"
   ]
  },
  {
   "cell_type": "code",
   "execution_count": 6,
   "id": "8724d2e2-7f2b-46be-9936-c3081e942ddf",
   "metadata": {},
   "outputs": [
    {
     "name": "stdout",
     "output_type": "stream",
     "text": [
      "0.7050123672959396\n"
     ]
    }
   ],
   "source": [
    "q = 7\n",
    "R = PolynomialRing(GF(q), 'x')\n",
    "x = R.gen()\n",
    "\n",
    "poly_config = [x^2 + 3*x + 6, x + 4] # check irreducible over field, or generate\n",
    "inv_facts = [[2, 1]] # {fg, g, g}\n",
    "def theoretical(poly_config, inv_facts):\n",
    "    prob = 1\n",
    "    for i in range(len(poly_config)):\n",
    "        d = 0 # max degree\n",
    "        s = 0\n",
    "        for fact in inv_facts: \n",
    "            if fact[i] > d: \n",
    "                d, s = fact[i], 1\n",
    "            elif fact[i] == d:\n",
    "                s += 1\n",
    "        prob *= Q(q, d, s)\n",
    "    return prob\n",
    "print(float(theoretical(poly_config, inv_facts)))"
   ]
  },
  {
   "cell_type": "code",
   "execution_count": null,
   "id": "b76bb5be-9acc-4507-b9ec-842d7fa5a403",
   "metadata": {},
   "outputs": [],
   "source": []
  }
 ],
 "metadata": {
  "kernelspec": {
   "display_name": "SageMath 10.6",
   "language": "sage",
   "name": "sagemath-10.6"
  },
  "language_info": {
   "codemirror_mode": {
    "name": "ipython",
    "version": 3
   },
   "file_extension": ".py",
   "mimetype": "text/x-python",
   "name": "python",
   "nbconvert_exporter": "python",
   "pygments_lexer": "ipython3",
   "version": "3.12.5"
  }
 },
 "nbformat": 4,
 "nbformat_minor": 5
}
