{
 "cells": [
  {
   "cell_type": "code",
   "execution_count": 1,
   "id": "9355bdda-e736-459f-abb4-30aa7d4bbd94",
   "metadata": {},
   "outputs": [],
   "source": [
    "from sage.matrix.berlekamp_massey import berlekamp_massey\n",
    "from sage.matrix.special import *\n",
    "import random\n",
    "def rand_list(n, card):\n",
    "    return [random.randint(0, card) for _ in range(n)]"
   ]
  },
  {
   "cell_type": "code",
   "execution_count": 2,
   "id": "baee8d8b-695a-44ea-b3d0-068910307f45",
   "metadata": {
    "jupyter": {
     "source_hidden": true
    }
   },
   "outputs": [
    {
     "name": "stdout",
     "output_type": "stream",
     "text": [
      "[3 0 0 0 0 0 0 0 0 0]\n",
      "[0 3 0 0 0 0 0 0 0 0]\n",
      "[0 0 3 0 0 0 0 0 0 0]\n",
      "[0 0 0 3 0 0 0 0 0 0]\n",
      "[0 0 0 0 3 0 0 0 0 0]\n",
      "[0 0 0 0 0 3 0 0 0 0]\n",
      "[0 0 0 0 0 0 3 0 0 0]\n",
      "[0 0 0 0 0 0 0 3 0 0]\n",
      "[0 0 0 0 0 0 0 0 3 0]\n",
      "[0 0 0 0 0 0 0 0 0 3]\n",
      "\n",
      "[2 0 0 0 0 0 0 0 0 0]\n",
      "[0 2 0 0 0 0 0 0 0 0]\n",
      "[0 0 6 0 0 0 0 0 0 0]\n",
      "[0 0 0 0 0 0 0 0 0 0]\n",
      "[0 0 0 0 5 0 0 0 0 0]\n",
      "[0 0 0 0 0 2 0 0 0 0]\n",
      "[0 0 0 0 0 0 0 0 0 0]\n",
      "[0 0 0 0 0 0 0 0 0 0]\n",
      "[0 0 0 0 0 0 0 0 2 0]\n",
      "[0 0 0 0 0 0 0 0 0 0]\n",
      "\n",
      "[3 1 0 0 0 0 0 0 0 0]\n",
      "[0 3 1 0 0 0 0 0 0 0]\n",
      "[0 0 3 1 0 0 0 0 0 0]\n",
      "[0 0 0 3 1 0 0 0 0 0]\n",
      "[0 0 0 0 3 1 0 0 0 0]\n",
      "[0 0 0 0 0 3 1 0 0 0]\n",
      "[0 0 0 0 0 0 3 1 0 0]\n",
      "[0 0 0 0 0 0 0 3 1 0]\n",
      "[0 0 0 0 0 0 0 0 3 1]\n",
      "[0 0 0 0 0 0 0 0 0 3]\n",
      "\n",
      "[3|0|0|0|0|0|0|0|0|0]\n",
      "[-+-+-+-+-+-+-+-+-+-]\n",
      "[0|3|0|0|0|0|0|0|0|0]\n",
      "[-+-+-+-+-+-+-+-+-+-]\n",
      "[0|0|3|0|0|0|0|0|0|0]\n",
      "[-+-+-+-+-+-+-+-+-+-]\n",
      "[0|0|0|3|0|0|0|0|0|0]\n",
      "[-+-+-+-+-+-+-+-+-+-]\n",
      "[0|0|0|0|3|0|0|0|0|0]\n",
      "[-+-+-+-+-+-+-+-+-+-]\n",
      "[0|0|0|0|0|3|0|0|0|0]\n",
      "[-+-+-+-+-+-+-+-+-+-]\n",
      "[0|0|0|0|0|0|3|0|0|0]\n",
      "[-+-+-+-+-+-+-+-+-+-]\n",
      "[0|0|0|0|0|0|0|3|0|0]\n",
      "[-+-+-+-+-+-+-+-+-+-]\n",
      "[0|0|0|0|0|0|0|0|3|0]\n",
      "[-+-+-+-+-+-+-+-+-+-]\n",
      "[0|0|0|0|0|0|0|0|0|3]\n",
      "\n",
      "[3 1 0 0 0|0 0 0 0 0]\n",
      "[0 3 1 0 0|0 0 0 0 0]\n",
      "[0 0 3 1 0|0 0 0 0 0]\n",
      "[0 0 0 3 1|0 0 0 0 0]\n",
      "[0 0 0 0 3|0 0 0 0 0]\n",
      "[---------+---------]\n",
      "[0 0 0 0 0|2 1 0 0 0]\n",
      "[0 0 0 0 0|0 2 1 0 0]\n",
      "[0 0 0 0 0|0 0 2 1 0]\n",
      "[0 0 0 0 0|0 0 0 2 1]\n",
      "[0 0 0 0 0|0 0 0 0 2]\n",
      "\n",
      "[3 1 0 0 0|0 0 0|0 0]\n",
      "[0 3 1 0 0|0 0 0|0 0]\n",
      "[0 0 3 1 0|0 0 0|0 0]\n",
      "[0 0 0 3 1|0 0 0|0 0]\n",
      "[0 0 0 0 3|0 0 0|0 0]\n",
      "[---------+-----+---]\n",
      "[0 0 0 0 0|3 1 0|0 0]\n",
      "[0 0 0 0 0|0 3 1|0 0]\n",
      "[0 0 0 0 0|0 0 3|0 0]\n",
      "[---------+-----+---]\n",
      "[0 0 0 0 0|0 0 0|3 1]\n",
      "[0 0 0 0 0|0 0 0|0 3]\n",
      "\n"
     ]
    }
   ],
   "source": [
    "# n = 100, λ (e) = random.randint(q)\n",
    "ref = ['D100', 'DRandom', 'J100', '10*J10', 'J50 + j50', 'J50 + J30 + J20']\n",
    "def mat_gen(q, n=10):\n",
    "    e1 = random.randint(1, q)\n",
    "    e2 = random.randint(1, q)\n",
    "    while e2 == e1: \n",
    "        e2 = random.randint(1, q)\n",
    "    A = diagonal_matrix(GF(q), [e1]*n)\n",
    "    B = diagonal_matrix(GF(q), [random.randint(0, q) for _ in range(n)])\n",
    "    C = jordan_block(e1, n)\n",
    "    D = block_diagonal_matrix([jordan_block(e1, n//10)]*10)\n",
    "    E = block_diagonal_matrix([jordan_block(e1, n//2), jordan_block(e2, n//2)])\n",
    "    F = block_diagonal_matrix([jordan_block(e1, n//2), jordan_block(e1, n//10*3), jordan_block(e1, n//5)])\n",
    "    return [A, B, C, D, E, F]\n",
    "ls = mat_gen(7)\n",
    "for A in ls:\n",
    "    print(A)\n",
    "    print()"
   ]
  },
  {
   "cell_type": "code",
   "execution_count": 3,
   "id": "6711b4a9-85b8-40f5-ae59-2a3ead4e8e0c",
   "metadata": {
    "jupyter": {
     "source_hidden": true
    }
   },
   "outputs": [],
   "source": [
    "def krylov(u, v, A, m, start = 0):\n",
    "    return [u*(A^i*v) for i in range(start, m)]\n",
    "\n",
    "def random_vector(n, f):\n",
    "    return vector(f, [f.random_element() for _ in range(n)])"
   ]
  },
  {
   "cell_type": "code",
   "execution_count": 4,
   "id": "b3fc548f-b5f9-4c94-a598-95da2f3d1953",
   "metadata": {
    "jupyter": {
     "source_hidden": true
    }
   },
   "outputs": [],
   "source": [
    "def early_BM(q, sequence, n, c=3):\n",
    "    ω = c*log(n, q) + 1\n",
    "    f = GF(q)\n",
    "    R = PolynomialRing(f, \"x\")\n",
    "    sequence = [f(s) for s in sequence]\n",
    "    C = [f(1)]\n",
    "    B = [f(1)]\n",
    "    L = 0\n",
    "    m = 1\n",
    "    streak = 1\n",
    "    b = f(1)\n",
    "    stop = 0\n",
    "    for k in range(len(sequence)):\n",
    "        d = sequence[k] + sum(C[i] * sequence[k - i] for i in range(1, L + 1))\n",
    "        if d == 0:\n",
    "            m += 1\n",
    "            streak += 1\n",
    "            if streak >= ω:\n",
    "                stop = k\n",
    "                break\n",
    "        elif 2 * L <= k:\n",
    "            T = C[:]\n",
    "            C += [f(0)] * (m + len(B) - len(C))\n",
    "            for i in range(len(B)):\n",
    "                C[i + m] -= d / b * B[i]\n",
    "            L = k + 1 - L\n",
    "            B = T\n",
    "            b = d\n",
    "            m = 1\n",
    "            streak = 1\n",
    "        else:\n",
    "            C += [f(0)] * (m + len(B) - len(C))\n",
    "            for i in range(len(B)):\n",
    "                C[i + m] -= d / b * B[i]\n",
    "            m += 1\n",
    "            streak = 1\n",
    "    else: \n",
    "        stop = 2*n\n",
    "    # result processing before return\n",
    "    C = C[::-1]\n",
    "    while len(C) > 1 and C[0] == 0:\n",
    "        C = C[1:]\n",
    "    return R(C), stop"
   ]
  },
  {
   "cell_type": "code",
   "execution_count": 5,
   "id": "756057bf-18f8-4556-bd56-7689db7beaaf",
   "metadata": {
    "jupyter": {
     "source_hidden": true
    }
   },
   "outputs": [],
   "source": [
    "import matplotlib.pyplot as plt\n",
    "\n",
    "def plot_success(success_map, x_list, x_lab = 'x'):\n",
    "    min_success = 1\n",
    "    num_plots = len(success_map)\n",
    "    rows = 2\n",
    "    cols = 3\n",
    "    # fig, axes = plt.subplots(rows, cols, figsize=(15, 8))\n",
    "    fig, axes = plt.subplots(rows, cols, figsize=(16, 8))\n",
    "    axes = axes.flatten()\n",
    "    for idx, (mat_type, success_list) in enumerate(success_map.items()):\n",
    "        min_success = min(min_success, min(success_list))\n",
    "        ax = axes[idx]\n",
    "        ax.plot(x_list, success_list)\n",
    "        ax.set_title(mat_type)\n",
    "        ax.set_ylim(0.5, 1.1)\n",
    "        ax.set_xlabel(x_lab)\n",
    "        ax.set_ylabel(\"Prob.\")\n",
    "    for j in range(idx + 1, len(axes)):\n",
    "        fig.delaxes(axes[j])\n",
    "    fig.suptitle('Success Probability by Matrix Type', fontsize=16, y=1.02)\n",
    "    plt.tight_layout()\n",
    "    plt.show()\n",
    "    print(f'Min success rate: {float(min_success):.3f}')\n",
    "\n",
    "def plot_stops(stops_map, x_list, comp_list, x_lab = 'x', y_lim = None):\n",
    "    num_plots = len(stops_map)\n",
    "    rows = 2\n",
    "    cols = 3\n",
    "    fig, axes = plt.subplots(rows, cols, figsize=(16, 8))\n",
    "    axes = axes.flatten()\n",
    "    for idx, (mat_type, stops_list) in enumerate(stops_map.items()):\n",
    "        ax = axes[idx]\n",
    "        ax.plot(x_list, stops_list, label='Early term. at iter. k')\n",
    "        ax.plot(x_list, comp_list, 'r--', label='Standard term. at iter. 2n')\n",
    "        ax.set_title(mat_type)\n",
    "        ax.set_xlabel(x_lab)\n",
    "        ax.set_ylabel(\"k\")\n",
    "        if y_lim:\n",
    "            ax.set_ylim(y_lim)\n",
    "        ax.legend()\n",
    "    for j in range(idx + 1, len(axes)):\n",
    "        fig.delaxes(axes[j])\n",
    "    fig.suptitle('Avg. Stop by Matrix Type', fontsize=16, y=1.02)\n",
    "    plt.tight_layout()\n",
    "    plt.show()"
   ]
  },
  {
   "cell_type": "code",
   "execution_count": 6,
   "id": "0012cdb6-3c7b-4ae7-b170-42d8bea4babe",
   "metadata": {},
   "outputs": [],
   "source": [
    "def varyingN(q = 5, n_lim = 51, trials = 100):\n",
    "    n_list = [10*i for i in range(1, n_lim)]\n",
    "    f = GF(q)\n",
    "    avg_stops = {}\n",
    "    success_rates = {}\n",
    "    for n in n_list:\n",
    "        print(n)\n",
    "        matlist = mat_gen(q, n)\n",
    "        for i in range(6):\n",
    "            sum_stop = 0\n",
    "            failed = 0\n",
    "            A = matlist[i]\n",
    "            mat_type = ref[i]\n",
    "            for _ in range(trials):\n",
    "                u = random_vector(n, f)\n",
    "                v = random_vector(n, f)\n",
    "                k = krylov(u, v, A, 2*n)\n",
    "                b_temp, stop = early_BM(q, k, n)\n",
    "                sum_stop += stop\n",
    "                b = berlekamp_massey(k)\n",
    "                if b!=b_temp:\n",
    "                    failed += 1\n",
    "            success_rates.setdefault(mat_type, []).append(1 - failed / trials)\n",
    "            avg_stops.setdefault(mat_type, []).append(sum_stop / trials)\n",
    "    plot_success(success_rates, n_list, x_lab = 'n')\n",
    "    comp_list = [2*i for i in n_list]\n",
    "    plot_stops(avg_stops, n_list, comp_list, x_lab = 'n')\n",
    "    # return avg_stops, success_rates"
   ]
  },
  {
   "cell_type": "code",
   "execution_count": 7,
   "id": "3138700e-f14b-4c6b-9567-af2903f3c232",
   "metadata": {},
   "outputs": [],
   "source": [
    "def varyingQ(n = 100, q_lim = 100, trials = 100):\n",
    "    q_list = prime_range(0, q_lim)\n",
    "    avg_stops = {}\n",
    "    success_rates = {}\n",
    "    for q in q_list:\n",
    "        print(q)\n",
    "        f = GF(q)\n",
    "        matlist = mat_gen(q, n)\n",
    "        for i in range(len(matlist)):\n",
    "            sum_stop = 0\n",
    "            failed = 0\n",
    "            A = matlist[i]\n",
    "            mat_type = ref[i]\n",
    "            for _ in range(trials):\n",
    "                u = random_vector(n, f)\n",
    "                v = random_vector(n, f)\n",
    "                k = krylov(u, v, A, 2*n)\n",
    "                b_temp, stop = early_BM(q, k, n)\n",
    "                sum_stop += stop\n",
    "                b = berlekamp_massey(k)\n",
    "                if b!=b_temp:\n",
    "                    failed += 1\n",
    "            success_rates.setdefault(mat_type, []).append(float(1 - failed / trials))\n",
    "            avg_stops.setdefault(mat_type, []).append(float(sum_stop / trials))\n",
    "    plot_success(success_rates, q_list, x_lab = 'q')\n",
    "    comp_list = [2*n]*len(q_list)\n",
    "    plot_stops(avg_stops, q_list, comp_list, x_lab = 'q', y_lim = (0, 2*n + 1))\n",
    "    # return avg_stops, success_rates"
   ]
  },
  {
   "cell_type": "code",
   "execution_count": null,
   "id": "5e7bf79c-2975-4266-9fe6-98668937eab8",
   "metadata": {},
   "outputs": [
    {
     "name": "stdout",
     "output_type": "stream",
     "text": [
      "10\n",
      "20\n",
      "30\n",
      "40\n",
      "50\n"
     ]
    }
   ],
   "source": [
    "varyingN()"
   ]
  },
  {
   "cell_type": "code",
   "execution_count": null,
   "id": "717f9b91-a6f1-4a8f-9933-1e39601cd7ec",
   "metadata": {},
   "outputs": [],
   "source": [
    "varyingQ()"
   ]
  },
  {
   "cell_type": "code",
   "execution_count": null,
   "id": "8d050a25-3158-46fb-8ba2-8c64f761166b",
   "metadata": {},
   "outputs": [],
   "source": [
    "# check jordan's success rate\n",
    "# varying jordan block size & diagonals\n",
    "# wiedemann's min poly success with same test cases"
   ]
  },
  {
   "cell_type": "code",
   "execution_count": null,
   "id": "73d85ddc-9991-4af3-9452-af56db689773",
   "metadata": {},
   "outputs": [],
   "source": []
  }
 ],
 "metadata": {
  "kernelspec": {
   "display_name": "SageMath 10.6",
   "language": "sage",
   "name": "sagemath-10.6"
  },
  "language_info": {
   "codemirror_mode": {
    "name": "ipython",
    "version": 3
   },
   "file_extension": ".py",
   "mimetype": "text/x-python",
   "name": "python",
   "nbconvert_exporter": "python",
   "pygments_lexer": "ipython3",
   "version": "3.12.5"
  }
 },
 "nbformat": 4,
 "nbformat_minor": 5
}
