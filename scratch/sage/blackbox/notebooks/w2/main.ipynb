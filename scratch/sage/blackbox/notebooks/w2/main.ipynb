{
 "cells": [
  {
   "cell_type": "markdown",
   "id": "26ed13c1-688a-49be-b3de-122260ddb839",
   "metadata": {},
   "source": [
    "### Imports"
   ]
  },
  {
   "cell_type": "code",
   "execution_count": 37,
   "id": "535b8145-f283-463c-a6f0-12821db37c30",
   "metadata": {},
   "outputs": [],
   "source": [
    "from sage.all import *\n",
    "from sage.matrix.berlekamp_massey import berlekamp_massey\n",
    "import time"
   ]
  },
  {
   "cell_type": "markdown",
   "id": "b6a650f4-1b51-4970-88f2-fc81f7ebbe55",
   "metadata": {},
   "source": [
    "### BlackBox Class"
   ]
  },
  {
   "cell_type": "code",
   "execution_count": 38,
   "id": "808dc09a-09b1-4ee5-8d89-607b49637917",
   "metadata": {},
   "outputs": [],
   "source": [
    "class BlackBox: \n",
    "    def __init__(self, matrix): \n",
    "        self.__matrix = matrix.sparse_matrix()\n",
    "    def prod(self, vector):\n",
    "        return self.__matrix * vector"
   ]
  },
  {
   "cell_type": "markdown",
   "id": "051e538e-7780-4599-8fed-4dc587bf2ebb",
   "metadata": {},
   "source": [
    "### Matrix, Vector & Linear System Generators"
   ]
  },
  {
   "cell_type": "code",
   "execution_count": 39,
   "id": "9b63acd6-ab49-403f-a8ba-2201db56c6c0",
   "metadata": {},
   "outputs": [],
   "source": [
    "# Generate random square & invertible matrix with given field, dimension, sparsity\n",
    "def generate_nonsingular_square_matrix(field, dim, sparsity):\n",
    "    invertible = False\n",
    "    attempts = 0\n",
    "    max_matrix_attempts = 1000 # maximum 1000 attemmpts\n",
    "\n",
    "    # Keep generating new matrices until get an invertible one\n",
    "    while not invertible and attempts < max_matrix_attempts: \n",
    "        attempts += 1\n",
    "        A = random_matrix(field, dim, dim, density=(1 - sparsity), sparse=True)\n",
    "        invertible = A.is_invertible()\n",
    "    if not invertible:\n",
    "        raise RuntimeError(f\"Failed to generate invertible matrix after {max_matrix_attempts} attempts\")\n",
    "    return A\n",
    "\n",
    "# Generate random vector with given field and dimension\n",
    "def generate_vector(field, dim):\n",
    "    return vector(field, [field.random_element() for _ in range(dim)])\n",
    "\n",
    "# Generate random linear system (Ax = b) with invertible square A and b\n",
    "def generate_linear_system(field=None, dim=None, sparsity=0.9):\n",
    "    if not dim: \n",
    "        dim = ZZ.random_element(100, 300)\n",
    "    if not field:\n",
    "        field = GF(1009)\n",
    "    A = generate_nonsingular_square_matrix(field, dim, sparsity)\n",
    "    b = generate_vector(field, dim)\n",
    "    return A, b, dim, field"
   ]
  },
  {
   "cell_type": "markdown",
   "id": "c8514d22-16ad-4e69-95f9-cb74466a1926",
   "metadata": {},
   "source": [
    "### Krylov subspace generator"
   ]
  },
  {
   "cell_type": "code",
   "execution_count": 40,
   "id": "3d97e5a3-ba4e-4929-a0d0-bd95de0ca437",
   "metadata": {},
   "outputs": [],
   "source": [
    "def krylov(black_box, b, order, u=None):\n",
    "    krylov_seq = []\n",
    "    last_element = b\n",
    "    for _ in range(order):\n",
    "        if u == None: \n",
    "            krylov_seq.append(last_element) # {A^ib} sequence\n",
    "        else:\n",
    "            krylov_seq.append(u.dot_product(last_element)) # {u * A^ib} sequence\n",
    "        last_element = black_box.prod(last_element)\n",
    "    return krylov_seq"
   ]
  },
  {
   "cell_type": "markdown",
   "id": "f4f83625-5eeb-4a72-a3d5-6c003ff962c4",
   "metadata": {},
   "source": [
    "### Horner's"
   ]
  },
  {
   "cell_type": "code",
   "execution_count": 41,
   "id": "2fe60a56-b7ff-4e6b-a8c6-4ce24dceb666",
   "metadata": {},
   "outputs": [],
   "source": [
    "# Horner's method to recursively compute poly\n",
    "# c(x) = (..((c_n)x + c_{n-1})x + ... + c_1)x + c_0 \n",
    "# This horner function computes c(A)b\n",
    "def horner(coeffs, black_box, vector):\n",
    "    # No coeffs: return 0\n",
    "    if not coeffs:\n",
    "        return vector * 0\n",
    "    # If only 1 coeff: return c_0*b\n",
    "    if len(coeffs) == 1:\n",
    "        return coeffs[0] * vector\n",
    "    # Recursive call\n",
    "    return black_box.prod(horner(coeffs[1:], black_box, vector)) + coeffs[0] * vector"
   ]
  },
  {
   "cell_type": "markdown",
   "id": "281ec5a9-e494-4b54-89cb-27473c62f9e6",
   "metadata": {},
   "source": [
    "### Wiedemann's Algorithm"
   ]
  },
  {
   "cell_type": "code",
   "execution_count": 42,
   "id": "38b83104-2925-4cb2-a541-1c34201a5b19",
   "metadata": {},
   "outputs": [],
   "source": [
    "# Implementation of Wiedemann's Algorithm on nonsingular matrices\n",
    "def wiedemann(black_box, b, dim, field): \n",
    "    R = PolynomialRing(field, 'x') # Define Poly Ring\n",
    "\n",
    "    max_attempts = 10 # Avoid forever loop\n",
    "    attempt = 0\n",
    "    base_poly = R(1) # Polynomial to store factors of failed min poly\n",
    "\n",
    "    # If RHS is zero, return the zero vector \n",
    "    if b.is_zero():\n",
    "        print(\"zero RHS\")\n",
    "        return vector(field, [0] * dim), 1, base_poly\n",
    "\n",
    "    # Main loop to find solution that satisfies Ax = b\n",
    "    while attempt <= max_attempts:\n",
    "        attempt += 1\n",
    "        u = generate_vector(field, dim) # Random vector u\n",
    "\n",
    "        # Regenerate u if u is zero\n",
    "        while u.is_zero():\n",
    "            u = generate_vector(field, dim)\n",
    "\n",
    "        # Generate Krylov sequence & dot product with u\n",
    "        krylov_sequence = krylov(black_box, b, 2 * dim, u)\n",
    "\n",
    "        # Generate min poly of {u^TA^ib}\n",
    "        m_poly = berlekamp_massey(krylov_sequence)\n",
    "\n",
    "        # Update base_poly with factors from m_poly\n",
    "        factors_m = dict(m_poly.factor())\n",
    "        factors_base = dict(base_poly.factor())\n",
    "        \n",
    "        # For each factor in m_poly, update base_poly if higher multiplicity\n",
    "        for factor, mult_m in factors_m.items():\n",
    "            mult_base = factors_base.get(factor, 0)\n",
    "            if mult_m > mult_base: \n",
    "                base_poly *= factor**(mult_m - mult_base)\n",
    "        \n",
    "        # Check if base_poly has degree equal to matrix dimension\n",
    "        base_poly_coeffs = list(base_poly)\n",
    "        try:\n",
    "                h_coeffs = [-c / base_poly_coeffs[0] for c in base_poly_coeffs[1:]] # h(x)\n",
    "                result = horner(h_coeffs, black_box, b) # x = h(A)b\n",
    "                # Verify solution by checking Ax - b = 0\n",
    "                if (black_box.prod(result) - b).is_zero(): \n",
    "                    print(f\"Valid solution: attempt #{attempt}\")\n",
    "                    return result, attempt, base_poly\n",
    "                else:\n",
    "                    print(f\"Attempt {attempt} failed...\")\n",
    "        except Exception as e:\n",
    "                print(f\"Attempt {attempt} failed: {e}\")\n",
    "    # Failed after max attempts\n",
    "    print(\"Max attempts failed\")\n",
    "    raise RuntimeError(\"Wiedemann failed after max attempts\")"
   ]
  },
  {
   "cell_type": "markdown",
   "id": "9697cdde-98a9-4761-8895-af28adf5a40a",
   "metadata": {},
   "source": [
    "### Timed Test Function"
   ]
  },
  {
   "cell_type": "code",
   "execution_count": 43,
   "id": "a62d53d2-40a2-4fc8-81b4-beb783c44ce8",
   "metadata": {},
   "outputs": [],
   "source": [
    "def wiedemann_timed_test(A, b, dim, field):\n",
    "    bbox_A = BlackBox(A)\n",
    "    start = time.time()\n",
    "    x, attempts, w_minpoly = wiedemann(bbox_A, b, dim, field)\n",
    "    end = time.time()\n",
    "    print(f\"Finished Wiedemann in {end - start:.3f}s ({attempts} attempt{\"s\" if attempts != 1 else \"\"})\")\n",
    "    start_sage = time.time()\n",
    "    assert x == A.solve_right(b), f\"Failed: Solution different from Sage built-in solver\"\n",
    "    end_sage = time.time()\n",
    "    print(f'Solution verified against Sage built-in solver ({end_sage - start_sage:.3f}s)')\n",
    "    assert w_minpoly == A.minpoly(), 'Wiedemann generated min poly is different from actual minpoly'\n",
    "    print('Wiedemann generated min poly is consistent with actual min poly')\n",
    "    return attempts"
   ]
  },
  {
   "cell_type": "markdown",
   "id": "55660960-a627-4c88-aba8-dbe329ef1642",
   "metadata": {},
   "source": [
    "### Random Test"
   ]
  },
  {
   "cell_type": "code",
   "execution_count": 44,
   "id": "c2e2f5ff-def9-4ed4-9325-99974963dd5c",
   "metadata": {},
   "outputs": [],
   "source": [
    "def test_random_matrices(num_tests):\n",
    "    i = 0\n",
    "    failed = 0\n",
    "    while i < num_tests:\n",
    "        i += 1\n",
    "        try:\n",
    "            print('---')\n",
    "            print(f'Case {i}...', end=' ')\n",
    "            sparsity = 0.85 + (0.95 - 0.85) * random() # Random sparsity in [0.85, 0.95]\n",
    "            A, b, dim, field = generate_linear_system(sparsity = sparsity)\n",
    "            wiedemann_timed_test(A, b, dim, field)\n",
    "        except Exception as e:\n",
    "            print(f'Failed: {e}')\n",
    "            failed += 1\n",
    "    print('===')\n",
    "    print(f'Failed {failed} cases')"
   ]
  },
  {
   "cell_type": "code",
   "execution_count": 45,
   "id": "7954115e-755f-4d48-b3af-f72cf9f89e37",
   "metadata": {},
   "outputs": [
    {
     "name": "stdout",
     "output_type": "stream",
     "text": [
      "---\n",
      "Case 1... Valid solution: attempt #1\n",
      "Finished Wiedemann in 2.797s (1 attempt)\n",
      "Solution verified against Sage built-in solver (0.033s)\n",
      "Wiedemann generated min poly is consistent with actual min poly\n",
      "---\n",
      "Case 2... Valid solution: attempt #1\n",
      "Finished Wiedemann in 2.262s (1 attempt)\n",
      "Solution verified against Sage built-in solver (0.031s)\n",
      "Wiedemann generated min poly is consistent with actual min poly\n",
      "---\n",
      "Case 3... Valid solution: attempt #1\n",
      "Finished Wiedemann in 0.404s (1 attempt)\n",
      "Solution verified against Sage built-in solver (0.006s)\n",
      "Wiedemann generated min poly is consistent with actual min poly\n",
      "---\n",
      "Case 4... Valid solution: attempt #1\n",
      "Finished Wiedemann in 2.373s (1 attempt)\n",
      "Solution verified against Sage built-in solver (0.021s)\n",
      "Wiedemann generated min poly is consistent with actual min poly\n",
      "---\n",
      "Case 5... Valid solution: attempt #1\n",
      "Finished Wiedemann in 0.746s (1 attempt)\n",
      "Solution verified against Sage built-in solver (0.009s)\n",
      "Wiedemann generated min poly is consistent with actual min poly\n",
      "===\n",
      "Failed 0 cases\n"
     ]
    }
   ],
   "source": [
    "test_random_matrices(5)"
   ]
  },
  {
   "cell_type": "code",
   "execution_count": null,
   "id": "4b6909db-7817-4ea6-9433-190a08e53336",
   "metadata": {},
   "outputs": [],
   "source": []
  },
  {
   "cell_type": "code",
   "execution_count": null,
   "id": "459fc710-9e4d-4e08-b096-5e6be34bf124",
   "metadata": {},
   "outputs": [],
   "source": []
  }
 ],
 "metadata": {
  "kernelspec": {
   "display_name": "SageMath 10.6",
   "language": "sage",
   "name": "sagemath-10.6"
  },
  "language_info": {
   "codemirror_mode": {
    "name": "ipython",
    "version": 3
   },
   "file_extension": ".py",
   "mimetype": "text/x-python",
   "name": "python",
   "nbconvert_exporter": "python",
   "pygments_lexer": "ipython3",
   "version": "3.12.5"
  }
 },
 "nbformat": 4,
 "nbformat_minor": 5
}
