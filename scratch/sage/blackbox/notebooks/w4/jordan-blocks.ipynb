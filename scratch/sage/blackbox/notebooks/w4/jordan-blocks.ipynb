{
 "cells": [
  {
   "cell_type": "markdown",
   "id": "1cb81978-83b2-4d77-9d74-3102c482b1f8",
   "metadata": {},
   "source": [
    "### 1. Test cases:\n",
    "### Case 1: Same Eigenvalues & Multiplicities, Different Jordan Block Structures\n",
    "- Fix GF(101), $\\mu = (x - 2)^5$\n",
    "- Vary block structure: [5], [3, 2], [2, 2, 1], [2, 1, 1, 1], [1, 1, 1, 1, 1]\n",
    "### Case 2: Same Eigenvalues, Different Multiplicities\n",
    "- Fix GF(101), $\\lambda = 2$\n",
    "- For mult i from $1 \\to 5$, block [i] (one block, diff mult)\n",
    "### Case 3: Same Eigenvalues, Different Multiplicities, Different Jordan Block Structures"
   ]
  },
  {
   "cell_type": "code",
   "execution_count": null,
   "id": "352c5e2b-93bf-4650-8778-7ce36b0d2481",
   "metadata": {},
   "outputs": [],
   "source": []
  }
 ],
 "metadata": {
  "kernelspec": {
   "display_name": "SageMath 10.6",
   "language": "sage",
   "name": "sagemath-10.6"
  },
  "language_info": {
   "codemirror_mode": {
    "name": "ipython",
    "version": 3
   },
   "file_extension": ".py",
   "mimetype": "text/x-python",
   "name": "python",
   "nbconvert_exporter": "python",
   "pygments_lexer": "ipython3",
   "version": "3.12.5"
  }
 },
 "nbformat": 4,
 "nbformat_minor": 5
}
