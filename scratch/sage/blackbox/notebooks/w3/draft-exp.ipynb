{
 "cells": [
  {
   "cell_type": "markdown",
   "id": "81fdb595-6ac1-4b0f-979d-914ceb1cb134",
   "metadata": {},
   "source": [
    "### 1. Bad $u, v$ for Berlekamp-Massey"
   ]
  },
  {
   "cell_type": "code",
   "execution_count": 4,
   "id": "748c6e28-7561-4d9f-96ac-ba77d359828b",
   "metadata": {},
   "outputs": [
    {
     "name": "stdout",
     "output_type": "stream",
     "text": [
      "[98.9000000000000, 0.000000000000000, 100.000000000000]\n"
     ]
    },
    {
     "data": {
      "image/png": "[encoded data removed]",
      "text/plain": [
       "<Figure size 640x480 with 1 Axes>"
      ]
     },
     "metadata": {},
     "output_type": "display_data"
    }
   ],
   "source": [
    "from sage.all import *\n",
    "from sage.matrix.berlekamp_massey import berlekamp_massey\n",
    "import random\n",
    "import matplotlib.pyplot as plt\n",
    "from collections import defaultdict\n",
    "\n",
    "f = GF(1009)\n",
    "# A = matrix(f, [[2, 1, 0, 0], \n",
    "#                [0, 2, 0, 0], \n",
    "#                [0, 0, 3, 0], \n",
    "#                [0, 0, 0, 4]])\n",
    "A = diagonal_matrix(f, [i // 5 for i in range(5, 36)])\n",
    "n = A.nrows()\n",
    "\n",
    "def random_vector():\n",
    "    return vector(f, [f.random_element() for _ in range(n)])\n",
    "\n",
    "def sparse_vector(k):\n",
    "    indices = random.sample(range(n), k)\n",
    "    v = [f(0)] * n\n",
    "    for i in indices:\n",
    "        v[i] = f.random_element()\n",
    "    return vector(f, v)\n",
    "\n",
    "def structured_vector():\n",
    "    return vector(f, [1]*n)\n",
    "\n",
    "def generate_vectors(category):\n",
    "    if category == \"Random\":\n",
    "        return random_vector(), random_vector()\n",
    "    elif category == \"Sparse\":\n",
    "        return sparse_vector(10), sparse_vector(10)\n",
    "    elif category == \"Structured\":\n",
    "        return structured_vector(), structured_vector()\n",
    "    else:\n",
    "        raise ValueError(\"Unknown category\")\n",
    "\n",
    "def test(A, trials=1000):\n",
    "    # maybe split into different data types, take it as a parameters?\n",
    "    categories = [\"Random\", \"Sparse\", \"Structured\"]\n",
    "    data = []\n",
    "    min_poly = A.minpoly()\n",
    "    for cat in categories:\n",
    "        for _ in range(trials):\n",
    "            u, v = generate_vectors(cat)\n",
    "            kappa = [u.dot_product((A^i)*v) for i in range(2*n)]\n",
    "            mu = berlekamp_massey(kappa)\n",
    "            bm_poly = PolynomialRing(f, 'x')(mu)\n",
    "            data.append({\n",
    "                'type': cat,\n",
    "                'degree': bm_poly.degree(),\n",
    "                'equals': bm_poly == min_poly,\n",
    "                'divides' : min_poly.quo_rem(bm_poly)[0] == 0\n",
    "            })\n",
    "    return data\n",
    "\n",
    "def plot_fix_trials():\n",
    "    results = test(A, trials=1000)\n",
    "    summary = {}\n",
    "    for r in results:\n",
    "        t = r['type']\n",
    "        if t not in summary:\n",
    "            summary[t] = {'count': 0, 'degree_sum': 0, 'success': 0}\n",
    "        summary[t]['count'] += 1\n",
    "        summary[t]['degree_sum'] += r['degree']\n",
    "        summary[t]['success'] += int(r['equals'])\n",
    "    \n",
    "    types = list(summary.keys())\n",
    "    rates = [100.0 * summary[t]['success'] / summary[t]['count'] for t in types]\n",
    "    print(rates)\n",
    "    counts = [summary[t]['count'] for t in types]\n",
    "    bars = plt.bar(types, rates)\n",
    "    plt.ylabel(\"Exact Minimal Polynomial Match (%)\")\n",
    "    plt.title(\"Success Rate by Vector Type\")\n",
    "    plt.show()\n",
    "    \n",
    "plot_fix_trials()"
   ]
  },
  {
   "cell_type": "markdown",
   "id": "a416d3f4-9251-493c-a634-858f5062f72e",
   "metadata": {},
   "source": [
    "### Conclusion\n",
    "Matrix: \n",
    "- More mult eigenvalues: Random success rate closer to 100, sparse success rate higher (roughly 20) -> maybe plot sparsity vs success rate, or multiplicity vs success rate or dimension vs success rate\n",
    "- No mult: Random success roughly 75, sparse 0\n",
    "- Structured always 100\n",
    "- A = diagonal_matrix(f, [i for i in range(1, 31)]) have really low success rate (~15%) -> take LCM\n",
    "- Success rate independent from eigenvalues (range 1->15 similar to range 15->30), but is dependent on multiplicity / number of distinct eigenvalues\n",
    "- diag(1,2,...15) has lower success rate than diag(1, 1, 2, 2, ..., 15, 15) -> stronger correlation w mult than no of distinct eigenvalues\n",
    "- test on both random matrix, random sparse matrix, diagonal matrices, block diagonal matrix, jordan matrix over varying field\n",
    "\n",
    "Vector:\n",
    "- Random: high prob (75-95)\n",
    "- Sparse: almost 0\n",
    "- Structured: 100"
   ]
  },
  {
   "cell_type": "code",
   "execution_count": null,
   "id": "4f278574-2940-4788-a49c-890ba32fa0dc",
   "metadata": {},
   "outputs": [],
   "source": []
  },
  {
   "cell_type": "code",
   "execution_count": null,
   "id": "23d7918b-5a7e-43ec-82a5-15ab56e5e858",
   "metadata": {},
   "outputs": [],
   "source": []
  }
 ],
 "metadata": {
  "kernelspec": {
   "display_name": "SageMath 10.6",
   "language": "sage",
   "name": "sagemath-10.6"
  },
  "language_info": {
   "codemirror_mode": {
    "name": "ipython",
    "version": 3
   },
   "file_extension": ".py",
   "mimetype": "text/x-python",
   "name": "python",
   "nbconvert_exporter": "python",
   "pygments_lexer": "ipython3",
   "version": "3.12.5"
  }
 },
 "nbformat": 4,
 "nbformat_minor": 5
}
