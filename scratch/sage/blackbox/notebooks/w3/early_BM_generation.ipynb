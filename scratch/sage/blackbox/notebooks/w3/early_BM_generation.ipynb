{
 "cells": [
  {
   "cell_type": "markdown",
   "id": "e27cf3e0-c205-483f-bdde-86e74fcb76a9",
   "metadata": {},
   "source": [
    "- Given u, A (n x n), v, generate Krylov sequence u^TA^iv from i = 0 to i = 2*n - 1\n",
    "- Find the min poly of the sequence using Berlekamp-Massey\n",
    "- Check if the Berlekamp Massey min poly of k first elements of the sequence is the min poly of the final sequence\n",
    "- What types of u, A, v may influence k?"
   ]
  },
  {
   "cell_type": "markdown",
   "id": "9bd0338e-9f03-40be-893a-15527bf22b8d",
   "metadata": {},
   "source": [
    "# Early Min Poly Generation from Krylov Sequence"
   ]
  },
  {
   "cell_type": "code",
   "execution_count": 22,
   "id": "3b1edd34-c3cc-496f-a08e-c234bf5493ac",
   "metadata": {},
   "outputs": [],
   "source": [
    "from sage.matrix.berlekamp_massey import berlekamp_massey\n",
    "def krylov_sequence(u, A, v, length):\n",
    "    return [u.dot_product((A^i)*v) for i in range(length)]"
   ]
  },
  {
   "cell_type": "code",
   "execution_count": 23,
   "id": "54161e15-e674-4990-9a41-025974f6cb49",
   "metadata": {},
   "outputs": [],
   "source": [
    "def generate_fullrank_matrix(n, F):\n",
    "    return random_matrix(F, n, algorithm='unimodular')\n",
    "def generate_nilpotent_matrix(n, F):\n",
    "    A = zero_matrix(F, n)\n",
    "    for i in range(n - 1):\n",
    "        A[i, i + 1] = 1\n",
    "    return A"
   ]
  },
  {
   "cell_type": "code",
   "execution_count": 42,
   "id": "45f8dab7-a9a8-4920-badc-5adba220a816",
   "metadata": {},
   "outputs": [],
   "source": [
    "def experiment_minpoly_degree_effect(n=5, p=7, trials=1000):\n",
    "    F = GF(p)\n",
    "    print(f\"Running experiment over GF({p}) with matrix size n = {n}\\n\")\n",
    "\n",
    "    def run_case(matrix_label, A):\n",
    "        true_poly = A.minpoly()\n",
    "        deg = true_poly.degree()\n",
    "        early_count = 0\n",
    "        early_ks = []\n",
    "\n",
    "        for _ in range(trials):\n",
    "            u = random_vector(F, n)\n",
    "            v = random_vector(F, n)\n",
    "            seq = [u.dot_product((A^i) * v) for i in range(2 * n)]\n",
    "            mu = berlekamp_massey(seq)\n",
    "            if mu != true_poly:\n",
    "                continue\n",
    "            for k in range(2 * deg, 2 * n, 2):  # must be even\n",
    "                if berlekamp_massey(seq[:k]) == mu:\n",
    "                    early_count += 1\n",
    "                    early_ks.append(k)\n",
    "                    break\n",
    "\n",
    "        rate = 100 * early_count / trials\n",
    "        avg_k = sum(early_ks)/len(early_ks) if early_ks else \"N/A\"\n",
    "\n",
    "        print(f\"{matrix_label}\")\n",
    "        print(f\"  Minpoly degree: {deg}\")\n",
    "        print(f\"  Early recovery rate: {float(rate):.2f}%\")\n",
    "        print(f\"  Avg early k: {avg_k}\\n\")\n",
    "\n",
    "    A_full = generate_fullrank_matrix(n, F)\n",
    "    A_nil = generate_nilpotent_matrix(n, F)\n",
    "\n",
    "    run_case(\"Full-rank matrix\", A_full)\n",
    "    run_case(\"Nilpotent matrix\", A_nil)"
   ]
  },
  {
   "cell_type": "code",
   "execution_count": 43,
   "id": "3537e674-9e1c-4e17-885c-94cb76d88df6",
   "metadata": {},
   "outputs": [
    {
     "name": "stdout",
     "output_type": "stream",
     "text": [
      "Running experiment over GF(1009) with matrix size n = 100\n",
      "\n",
      "Full-rank matrix\n",
      "  Minpoly degree: 100\n",
      "  Early recovery rate: 0.00%\n",
      "  Avg early k: N/A\n",
      "\n",
      "Nilpotent matrix\n",
      "  Minpoly degree: 100\n",
      "  Early recovery rate: 0.00%\n",
      "  Avg early k: N/A\n",
      "\n"
     ]
    }
   ],
   "source": [
    "experiment_minpoly_degree_effect(n=100, p=1009, trials=10)"
   ]
  },
  {
   "cell_type": "code",
   "execution_count": null,
   "id": "48d604d0-c5df-4c07-b043-f51a3de2d6f5",
   "metadata": {},
   "outputs": [],
   "source": []
  }
 ],
 "metadata": {
  "kernelspec": {
   "display_name": "SageMath 10.6",
   "language": "sage",
   "name": "sagemath-10.6"
  },
  "language_info": {
   "codemirror_mode": {
    "name": "ipython",
    "version": 3
   },
   "file_extension": ".py",
   "mimetype": "text/x-python",
   "name": "python",
   "nbconvert_exporter": "python",
   "pygments_lexer": "ipython3",
   "version": "3.12.5"
  }
 },
 "nbformat": 4,
 "nbformat_minor": 5
}
