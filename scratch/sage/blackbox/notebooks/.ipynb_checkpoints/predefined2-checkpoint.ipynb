{
 "cells": [
  {
   "cell_type": "markdown",
   "id": "a8f13f2a-5ad4-4ad5-b009-02c226bf5041",
   "metadata": {},
   "source": [
    "### Test Wiedemann's algorithm over predefined special cases"
   ]
  },
  {
   "cell_type": "code",
   "execution_count": 131,
   "id": "503551a5-b640-4660-9089-0cb2e4362afd",
   "metadata": {},
   "outputs": [],
   "source": [
    "import sys\n",
    "import os\n",
    "modules_path = os.path.abspath(os.path.join(os.getcwd(), '..', 'modules'))\n",
    "if modules_path not in sys.path:\n",
    "    sys.path.insert(0, modules_path)\n",
    "from wiedemann import wiedemann\n",
    "from blackbox import BlackBox"
   ]
  },
  {
   "cell_type": "markdown",
   "id": "d36d7563-35ce-4a09-8238-777c18cd7e6f",
   "metadata": {},
   "source": [
    "#### Timed test function"
   ]
  },
  {
   "cell_type": "code",
   "execution_count": 133,
   "id": "8dbca1d6-b58d-4729-9751-501f23202f71",
   "metadata": {},
   "outputs": [],
   "source": [
    "import time\n",
    "def wiedemann_timed_test(A, b, dim, field):\n",
    "    bbox_A = BlackBox(A)\n",
    "    start = time.time()\n",
    "    x, attempts = wiedemann(bbox_A, b, dim, field)\n",
    "    end = time.time()\n",
    "    print(f\"Finished Wiedemann in {end - start:.3f}s ({attempts} attempts)\")\n",
    "    start_sage = time.time()\n",
    "    assert x == A.solve_right(b), f\"Failed: Solution different from Sage built-in solver\"\n",
    "    end_sage = time.time()\n",
    "    print(f'Solution verified against Sage built-in solver ({end_sage - start_sage:.3f}s)')"
   ]
  },
  {
   "cell_type": "markdown",
   "id": "75bb06f7-f10e-4487-b8e8-ea00913c8929",
   "metadata": {},
   "source": [
    "#### Tests"
   ]
  },
  {
   "cell_type": "code",
   "execution_count": 134,
   "id": "e9f72286-b277-4a52-9d9a-d047c5b5f552",
   "metadata": {},
   "outputs": [
    {
     "name": "stdout",
     "output_type": "stream",
     "text": [
      "True\n",
      "Attempt 1 failed...\n",
      "Valid solution: attempt #2\n",
      "Finished Wiedemann in 0.002s (2 attempts)\n",
      "Solution verified against Sage built-in solver (0.000s)\n"
     ]
    }
   ],
   "source": [
    "# Known matrix - unknown solution\n",
    "F1 = GF(7)\n",
    "n1 = 5\n",
    "A1 = Matrix(F1, [\n",
    "  [1, 0, 0, 2, 0],\n",
    "  [0, 3, 0, 0, 0],\n",
    "  [0, 0, 0, 0, 1],\n",
    "  [4, 0, 0, 0, 0],\n",
    "  [0, 0, 5, 0, 2]\n",
    "])\n",
    "print(A1.is_invertible())\n",
    "b1 = vector(F1, [1, 2, 3, 4, 5])\n",
    "wiedemann_timed_test(A1, b1, n1, F1)"
   ]
  },
  {
   "cell_type": "code",
   "execution_count": 117,
   "id": "5e1163ef-9a96-49b4-b184-16427eaa9420",
   "metadata": {},
   "outputs": [
    {
     "name": "stdout",
     "output_type": "stream",
     "text": [
      "Valid solution: attempt #1\n",
      "Finished Wiedemann in 0.001s (1 attempts)\n",
      "Solution verified against Sage built-in solver (0.000s)\n"
     ]
    }
   ],
   "source": [
    "# Random sparse matrix\n",
    "n2 = 10\n",
    "F2 = GF(13)\n",
    "density = 0.1\n",
    "A2 = random_matrix(F2, n2, n2, density=density)\n",
    "while not A2.is_invertible():\n",
    "    A2 = random_matrix(F2, n2, n2, density=density)\n",
    "b2 = random_vector(F2, n2)\n",
    "wiedemann_timed_test(A2, b2, n2, F2)"
   ]
  },
  {
   "cell_type": "code",
   "execution_count": 118,
   "id": "23b7dafa-981d-4df7-b515-211e229bf8a4",
   "metadata": {},
   "outputs": [
    {
     "name": "stdout",
     "output_type": "stream",
     "text": [
      "Attempt 1 failed...\n",
      "Valid solution: attempt #2\n",
      "Finished Wiedemann in 0.003s (2 attempts)\n",
      "Solution verified against Sage built-in solver (0.000s)\n"
     ]
    }
   ],
   "source": [
    "# Known matrix - Known solution\n",
    "F3 = GF(13)\n",
    "n3 = 6\n",
    "diag_entries = [2, 3, 5, 7, 11, 1]\n",
    "A3 = diagonal_matrix(F3, diag_entries)\n",
    "x_true = vector(F3, [1, 2, 3, 4, 5, 6])\n",
    "b3 = A3 * x_true\n",
    "wiedemann_timed_test(A3, b3, n3, F3)"
   ]
  },
  {
   "cell_type": "code",
   "execution_count": 119,
   "id": "d5336a54-62d9-4622-8a44-4c757faf1f62",
   "metadata": {},
   "outputs": [
    {
     "name": "stdout",
     "output_type": "stream",
     "text": [
      "Attempt 1 failed...\n",
      "Attempt 2 failed...\n",
      "Valid solution: attempt #3\n",
      "Finished Wiedemann in 0.004s (3 attempts)\n",
      "Solution verified against Sage built-in solver (0.000s)\n"
     ]
    }
   ],
   "source": [
    "# Diagonal matrix\n",
    "F45 = GF(13)\n",
    "n45 = 5\n",
    "diag_entries = [2, 3, 5, 7, 11]\n",
    "A4 = diagonal_matrix(F45, diag_entries)\n",
    "x_true_45 = vector(F45, [1, 2, 3, 4, 5])\n",
    "b4 = A4 * x_true_45\n",
    "wiedemann_timed_test(A4, b4, n45, F45)"
   ]
  },
  {
   "cell_type": "code",
   "execution_count": 120,
   "id": "8676baa7-bd96-464e-9524-23249ef92254",
   "metadata": {},
   "outputs": [
    {
     "name": "stdout",
     "output_type": "stream",
     "text": [
      "True\n",
      "Valid solution: attempt #1\n",
      "Finished Wiedemann in 0.001s (1 attempts)\n",
      "Solution verified against Sage built-in solver (0.000s)\n"
     ]
    }
   ],
   "source": [
    "# Scalar matrix\n",
    "scalar_val = F45(4)\n",
    "A5 = scalar_val * identity_matrix(F45, 5)\n",
    "b5 = A5 * x_true_45\n",
    "print(A5.is_invertible())\n",
    "wiedemann_timed_test(A5, b5, n45, F45)"
   ]
  },
  {
   "cell_type": "code",
   "execution_count": 121,
   "id": "9764129d-f412-4c93-8423-b2eef25b76cd",
   "metadata": {},
   "outputs": [
    {
     "name": "stdout",
     "output_type": "stream",
     "text": [
      "Valid solution: attempt #1\n",
      "Finished Wiedemann in 0.004s (1 attempts)\n",
      "Solution verified against Sage built-in solver (0.000s)\n"
     ]
    }
   ],
   "source": [
    "# Block diagonal\n",
    "F6 = GF(11)\n",
    "n6 = 5\n",
    "# Block diagonal matrix with two invertible blocks (2x2 and 3x3)\n",
    "B1 = matrix(F6, [[2, 1], [1, 3]])\n",
    "B2 = matrix(F6, [[4, 0, 1], [0, 5, 2], [1, 0, 6]])\n",
    "A6 = block_diagonal_matrix([B1, B2])\n",
    "x_true_6 = vector(F6, [1, 2, 3, 4, 5])\n",
    "b6 = A6 * x_true_6\n",
    "wiedemann_timed_test(A6, b6, n6, F6)"
   ]
  },
  {
   "cell_type": "code",
   "execution_count": 122,
   "id": "b72ef051-ed5a-4c09-a5bb-466f4cc17da1",
   "metadata": {},
   "outputs": [
    {
     "name": "stdout",
     "output_type": "stream",
     "text": [
      "Attempt 1 failed...\n",
      "Valid solution: attempt #2\n",
      "Finished Wiedemann in 0.004s (2 attempts)\n",
      "Solution verified against Sage built-in solver (0.000s)\n"
     ]
    }
   ],
   "source": [
    "# Over different GF\n",
    "F2 = GF(2)\n",
    "A2 = random_matrix(F2, 5, 5)\n",
    "while not A2.is_invertible():\n",
    "    A2 = random_matrix(F2, 5, 5)\n",
    "x_true_2 = vector(F2, [1, 0, 1, 0, 1])\n",
    "b2 = A2 * x_true_2\n",
    "wiedemann_timed_test(A2, b2, 5, F2)"
   ]
  },
  {
   "cell_type": "code",
   "execution_count": 123,
   "id": "fad0e284-e91b-499e-88df-9f63d11222ca",
   "metadata": {},
   "outputs": [
    {
     "name": "stdout",
     "output_type": "stream",
     "text": [
      "Valid solution: attempt #1\n",
      "Finished Wiedemann in 0.003s (1 attempts)\n",
      "Solution verified against Sage built-in solver (0.000s)\n"
     ]
    }
   ],
   "source": [
    "# GF(101)\n",
    "F101 = GF(101)\n",
    "A101 = random_matrix(F101, 5, 5)\n",
    "while not A101.is_invertible():\n",
    "    A101 = random_matrix(F101, 5, 5)\n",
    "x_true101 = vector(F101, [10, 20, 30, 40, 50])\n",
    "b101 = A101 * x_true101\n",
    "wiedemann_timed_test(A101, b101, 5, F101)"
   ]
  },
  {
   "cell_type": "code",
   "execution_count": 124,
   "id": "f21cc0f0-5d31-4758-b298-1776eab5dabb",
   "metadata": {},
   "outputs": [
    {
     "name": "stdout",
     "output_type": "stream",
     "text": [
      "Valid solution: attempt #1\n",
      "Finished Wiedemann in 0.002s (1 attempts)\n",
      "Solution verified against Sage built-in solver (0.000s)\n"
     ]
    }
   ],
   "source": [
    "# Known min \n",
    "F = GF(7)\n",
    "J = matrix(F, [\n",
    "    [2, 1, 0],\n",
    "    [0, 2, 1],\n",
    "    [0, 0, 2]\n",
    "])\n",
    "x_true = vector(F, [1, 0, 0])\n",
    "b = J * x_true\n",
    "wiedemann_timed_test(J, b, 3, F)"
   ]
  },
  {
   "cell_type": "code",
   "execution_count": 125,
   "id": "1d2397e1-0ae8-4049-b130-6784f403e698",
   "metadata": {},
   "outputs": [
    {
     "name": "stdout",
     "output_type": "stream",
     "text": [
      "Valid solution: attempt #1\n",
      "Finished Wiedemann in 0.002s (1 attempts)\n",
      "Solution verified against Sage built-in solver (0.000s)\n"
     ]
    }
   ],
   "source": [
    "# 1x1 matrix\n",
    "F = GF(13)\n",
    "A_1x1 = matrix(F, [[5]])\n",
    "x_true_1x1 = vector(F, [7])\n",
    "b_1x1 = A_1x1 * x_true_1x1\n",
    "wiedemann_timed_test(A_1x1, b_1x1, 1, F)"
   ]
  },
  {
   "cell_type": "code",
   "execution_count": 126,
   "id": "4246e15e-9eda-40fb-8a40-0824d81d6add",
   "metadata": {},
   "outputs": [
    {
     "name": "stdout",
     "output_type": "stream",
     "text": [
      "Valid solution: attempt #1\n",
      "Finished Wiedemann in 0.002s (1 attempts)\n",
      "Solution verified against Sage built-in solver (0.000s)\n"
     ]
    }
   ],
   "source": [
    "# Identity\n",
    "F = GF(17)\n",
    "A_id = identity_matrix(F, 4)\n",
    "x_true_id = vector(F, [3, 6, 9, 12])\n",
    "b_id = A_id * x_true_id\n",
    "wiedemann_timed_test(A_id, b_id, 4, F)"
   ]
  },
  {
   "cell_type": "code",
   "execution_count": null,
   "id": "30b028b0-4e14-4f9f-921f-facbedfe9c3a",
   "metadata": {},
   "outputs": [],
   "source": []
  },
  {
   "cell_type": "code",
   "execution_count": null,
   "id": "1e8847af-1d04-45a8-8c1d-c7615922f218",
   "metadata": {},
   "outputs": [],
   "source": []
  },
  {
   "cell_type": "code",
   "execution_count": null,
   "id": "a758866f-9c3e-455d-9e96-fe1ef0768f3e",
   "metadata": {},
   "outputs": [],
   "source": []
  }
 ],
 "metadata": {
  "kernelspec": {
   "display_name": "SageMath 10.6",
   "language": "sage",
   "name": "sagemath-10.6"
  },
  "language_info": {
   "codemirror_mode": {
    "name": "ipython",
    "version": 3
   },
   "file_extension": ".py",
   "mimetype": "text/x-python",
   "name": "python",
   "nbconvert_exporter": "python",
   "pygments_lexer": "ipython3",
   "version": "3.12.5"
  }
 },
 "nbformat": 4,
 "nbformat_minor": 5
}
