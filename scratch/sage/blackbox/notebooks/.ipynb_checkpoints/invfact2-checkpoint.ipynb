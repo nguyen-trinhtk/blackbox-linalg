{
 "cells": [
  {
   "cell_type": "code",
   "execution_count": 1,
   "id": "867f8a6e-bf2b-42b8-b2ae-ac8f4e580941",
   "metadata": {},
   "outputs": [],
   "source": [
    "def companion(f):\n",
    "    R = f.parent()\n",
    "    K = R.base_ring()\n",
    "    n = f.degree()\n",
    "    if f.leading_coefficient() != 1:\n",
    "        raise ValueError(\"Polynomial must be monic\")\n",
    "    coeffs = [f[i] for i in range(n)]\n",
    "    M = Matrix(K, n, n)\n",
    "    for i in range(n - 1):\n",
    "        M[i, i + 1] = 1\n",
    "    for j in range(n):\n",
    "        M[n - 1, j] = -coeffs[j]\n",
    "    return M"
   ]
  },
  {
   "cell_type": "code",
   "execution_count": 2,
   "id": "aae2e411-9857-46b8-b0d9-52e48bd02182",
   "metadata": {},
   "outputs": [],
   "source": [
    "def block_companion(f, x=1):\n",
    "    # block jordan companion\n",
    "    C = companion(f)\n",
    "    K = C.base_ring()\n",
    "    n = C.nrows()\n",
    "    size = x * n\n",
    "    J = Matrix(K, size, size)\n",
    "    for i in range(x):\n",
    "        J[n*i : n*(i+1), n*i : n*(i+1)] = C\n",
    "        if i < x - 1:\n",
    "            J[n*i : n*(i+1), n*(i+1) : n*(i+2)] = identity_matrix(K, n)\n",
    "    return J"
   ]
  },
  {
   "cell_type": "code",
   "execution_count": 3,
   "id": "545c95a9-01ea-46d5-bf2c-61bea6310848",
   "metadata": {},
   "outputs": [],
   "source": [
    "def D(q, n, r): \n",
    "    return (q**(r - 1))*(q**r - 1)/q**(2*n)\n",
    "def U(q, n, r): \n",
    "    return (q**(n - r) - 1)**2 / q**(2*(n - r))\n",
    "def N(q, n, r):\n",
    "    return 1 - D(q, n, r) - U(q, n, r)\n",
    "def Q(q, n, r, t): # r = 0\n",
    "    if r == 0 and t == 0:\n",
    "        return 1\n",
    "    if r < 0 or r > min(t, n):\n",
    "        return 0\n",
    "    return Q(q, n, r - 1, t - 1)*U(q, n, r - 1) + Q(q, n, r, t - 1)*N(q, n, r) + Q(q, n, r + 1, t - 1)*D(q, n, r + 1) \n",
    "def Q_0(q, n, t):\n",
    "    return Q(q, n, 0, t)"
   ]
  },
  {
   "cell_type": "code",
   "execution_count": 4,
   "id": "74ec7f22-f33b-468c-8fdd-a5a2441dc399",
   "metadata": {},
   "outputs": [],
   "source": [
    "def Pr(q, d, s, b = 1):\n",
    "    return (1 - Q_0(q**d, b, s))"
   ]
  },
  {
   "cell_type": "code",
   "execution_count": 5,
   "id": "953d40f9-6db2-4413-b4bf-3a0932e51392",
   "metadata": {},
   "outputs": [],
   "source": [
    "def build_matrix(poly_config, inv_facts):\n",
    "    blocks = []\n",
    "    for inv_fact in inv_facts:\n",
    "        for i in range(len(poly_config)):\n",
    "            if inv_fact[i] != 0:\n",
    "                blocks.append(block_companion(poly_config[i],inv_fact[i]))\n",
    "    return block_diagonal_matrix(blocks)"
   ]
  },
  {
   "cell_type": "code",
   "execution_count": 6,
   "id": "108f1d75-d373-4bd4-867e-289de1682e11",
   "metadata": {},
   "outputs": [],
   "source": [
    "def theoretical(poly_config, inv_facts):\n",
    "    prob = 1\n",
    "    q = poly_config[0].parent().base_ring().cardinality()    \n",
    "    for i in range(len(poly_config)):\n",
    "        d = poly_config[i].degree()\n",
    "        max_exp = 0\n",
    "        for fact in inv_facts:\n",
    "            max_exp = max(max_exp, fact[i])\n",
    "        s = sum(1 for fact in inv_facts if fact[i] == max_exp)\n",
    "        prob *= Pr(q, d, s)\n",
    "    return prob"
   ]
  },
  {
   "cell_type": "code",
   "execution_count": 7,
   "id": "b76bb5be-9acc-4507-b9ec-842d7fa5a403",
   "metadata": {},
   "outputs": [],
   "source": [
    "from sage.matrix.berlekamp_massey import berlekamp_massey\n",
    "import random\n",
    "\n",
    "def random_vector(n, f):\n",
    "    return vector(f, [f.random_element() for _ in range(n)])\n",
    "\n",
    "def empirical(poly_config, inv_facts, trials=10000, verbose=False):\n",
    "    \"\"\"\n",
    "    Estimates the probability that Wiedemann projection (b = 1) \n",
    "    preserves the minimal polynomial.\n",
    "\n",
    "    Args:\n",
    "        poly_config: list of irreducible polynomials [f, g, ...]\n",
    "        inv_facts: list of invariant factor exponent lists [[f_exp, g_exp], ...]\n",
    "        trials: number of random u, v trials\n",
    "        verbose: if True, prints each failed trial\n",
    "    \n",
    "    Returns:\n",
    "        float: empirical probability of success\n",
    "    \"\"\"\n",
    "    # Get base field from poly_config\n",
    "    f = poly_config[0].parent().base_ring()\n",
    "\n",
    "    # Construct the matrix A from invariant factor structure\n",
    "    A = build_matrix(poly_config, inv_facts)\n",
    "    n = A.nrows()\n",
    "\n",
    "    # Ground truth minimal polynomial\n",
    "    min_poly = A.minpoly()\n",
    "    \n",
    "    succeeded = 0\n",
    "    for t in range(trials):\n",
    "        u = random_vector(n, f)\n",
    "        v = random_vector(n, f)\n",
    "        kappa = [u.dot_product((A^i)*v) for i in range(2*n)]\n",
    "        mu = berlekamp_massey(kappa)\n",
    "        \n",
    "        # Normalize both to monic for accurate comparison\n",
    "        mu_monic = mu / mu.leading_coefficient()\n",
    "\n",
    "        if mu_monic == min_poly:\n",
    "            succeeded += 1\n",
    "        elif verbose:\n",
    "            print(f\"[Trial {t}] Failed: mu = {mu}, minpoly = {min_poly}\")\n",
    "\n",
    "    return succeeded / trials\n"
   ]
  },
  {
   "cell_type": "code",
   "execution_count": 8,
   "id": "423b2117-fc98-4199-9d6a-e57263541b82",
   "metadata": {},
   "outputs": [],
   "source": [
    "def exp(poly_config, inv_facts_configs, trials = 10000):\n",
    "    # configs = { poly_config_1 : [inv_facts_1, inv_facts_2,..] } \n",
    "        th = []\n",
    "        em = []\n",
    "    # for poly_config, inv_facts_configs in configs.items(): \n",
    "        for inv_facts in inv_facts_configs: \n",
    "            th.append(theoretical(poly_config, inv_facts))\n",
    "            em.append(empirical(poly_config, inv_facts, trials))\n",
    "        return th, em"
   ]
  },
  {
   "cell_type": "code",
   "execution_count": null,
   "id": "19bcd19b-5a22-4950-a645-f399659a0fef",
   "metadata": {},
   "outputs": [],
   "source": [
    "import matplotlib.pyplot as plt\n",
    "def plot(th, em, x, x_label, title = 'Theoretical vs Empirical Success'):\n",
    "    plt.plot(x, th, color='blue', label='Theoretical Success')\n",
    "    plt.plot(x, em, color='red', label='Empirical Success')\n",
    "    plt.ylabel('Success Rate')\n",
    "    plt.xlabel(x_label)\n",
    "    plt.legend()\n",
    "    plt.title(title)\n",
    "    plt.grid(True)\n",
    "    # plt.ylim(0, 1)\n",
    "    plt.show()"
   ]
  },
  {
   "cell_type": "code",
   "execution_count": 10,
   "id": "6fdd326d-31df-458b-b0d4-5882e58efc74",
   "metadata": {},
   "outputs": [],
   "source": [
    "def MAE(th, em):\n",
    "    n = len(th)\n",
    "    if not n == len(em):\n",
    "        raise ValueError('Two lists must have equal lengths.')\n",
    "    err = 0\n",
    "    for i in range(n):\n",
    "        err += abs(em[i] - th[i])\n",
    "    return f'{float(err * 100 / n):.2f}%'"
   ]
  },
  {
   "cell_type": "markdown",
   "id": "1c053820-fe81-4f00-a6c9-f71534cbd042",
   "metadata": {},
   "source": [
    "#### 1. how many trials needed to converge to prob + % error\n",
    "#### 2. Single Irreducible, Varying Multiplicities (varying s)\n",
    "#### 3. Varying d\n",
    "#### 4. Worst case matrices\n",
    "#### 5. Fixed poly degree & inv fact structure, changing field cardinality"
   ]
  },
  {
   "cell_type": "code",
   "execution_count": 11,
   "id": "bc8c9ae0-c539-4c46-af0d-3b77e0930a45",
   "metadata": {},
   "outputs": [
    {
     "name": "stdout",
     "output_type": "stream",
     "text": [
      "P(A_0) = 0.8201164272626237\n",
      "P(A_1) = 0.7050123672959396\n",
      "P(A_2) = 0.7194003747917751\n",
      "P(A_3) = 0.7050123672959396\n"
     ]
    }
   ],
   "source": [
    "q = 7\n",
    "R = PolynomialRing(GF(q), 'x')\n",
    "x = R.gen()\n",
    "pcon = [x^2 + 3*x + 6, x + 4]\n",
    "invf = [\n",
    "    [[1, 1,], [0, 1], [0, 1]],\n",
    "    [[2,1]],\n",
    "    [[1,1],[1,0]],\n",
    "    [[1, 2],[0,1]],\n",
    "]\n",
    "for i in range(len(invf)):\n",
    "    print(f'P(A_{i}) = {float(theoretical(pcon,invf[i]))}')"
   ]
  },
  {
   "cell_type": "code",
   "execution_count": null,
   "id": "d652b1a0-7c93-42d4-a51b-2424b802f743",
   "metadata": {},
   "outputs": [],
   "source": [
    "q = 7\n",
    "R = PolynomialRing(GF(q), 'x')\n",
    "x = R.gen()\n",
    "mult = [i for i in range(1, 21)]\n",
    "pcon = [x + 4]\n",
    "invf1 = []\n",
    "for i in mult:\n",
    "    invf1.append([[1]]*i)\n",
    "th, em = exp(pcon, invf1, trials=10000)\n",
    "plot(th, em, mult, 'Theoretical vs Empirical Probability: Varied Field Cardinality')\n",
    "print(f'Mean Absolute Error: {MAE(th, em)}')"
   ]
  },
  {
   "cell_type": "code",
   "execution_count": 13,
   "id": "53a278dd-a7fe-4fef-b9c6-6989ccd18ad5",
   "metadata": {},
   "outputs": [],
   "source": [
    "def irreducible(q, d):\n",
    "    R = PolynomialRing(GF(q), 'x')\n",
    "    x = R.gen()\n",
    "    while True:\n",
    "        # Generate random polynomial of degree d-1\n",
    "        coeffs = [GF(q).random_element() for _ in range(d)]\n",
    "        # Ensure leading coefficient is 1 (monic)\n",
    "        f = x**d + sum(coeffs[i] * x**i for i in range(d))\n",
    "        if f.is_irreducible():\n",
    "            return f"
   ]
  },
  {
   "cell_type": "code",
   "execution_count": 14,
   "id": "b6d4587c-9898-4af4-9296-18be7b145aae",
   "metadata": {},
   "outputs": [
    {
     "data": {
      "image/png": "[encoded data removed]",
      "text/plain": [
       "<Figure size 640x480 with 1 Axes>"
      ]
     },
     "metadata": {},
     "output_type": "display_data"
    },
    {
     "name": "stdout",
     "output_type": "stream",
     "text": [
      "Mean Absolute Error: 0.22%\n"
     ]
    }
   ],
   "source": [
    "# Changing field cardinality\n",
    "primes_list = prime_range(1, 100)\n",
    "invf = [[1, 1, 1], [0, 1, 1], [0, 0, 1]]\n",
    "th = []\n",
    "em = []\n",
    "for q in primes_list:\n",
    "    pcon = [irreducible(q, 1), irreducible(q, 2), irreducible(q, 3)]\n",
    "    th.append(theoretical(pcon, invf))\n",
    "    em.append(empirical(pcon, invf, trials=10000))\n",
    "plot(th, em, primes_list, 'Field Cardinality', 'Theoretical vs Empirical Probability: Varied Field Cardinality')\n",
    "print(f'Mean Absolute Error: {MAE(th, em)}')"
   ]
  },
  {
   "cell_type": "code",
   "execution_count": null,
   "id": "d46a2660-eca7-496a-bd47-05cb5f48ffb8",
   "metadata": {},
   "outputs": [],
   "source": [
    "# more trial convergence to theoretical probability\n",
    "q = 7\n",
    "num_trials = 10000\n",
    "trials = [i for i in range(1, num_trials + 1)]\n",
    "pcon = [irreducible(q, 1), irreducible(q, 2), irreducible(q, 3)]\n",
    "invf = [[1, 1, 1], [0, 1, 1], [0, 0, 1]]\n",
    "th = [theoretical(pcon, invf)]*num_trials\n",
    "em = []\n",
    "for t in trials:\n",
    "    em.append(empirical(pcon, invf, t))\n",
    "plot(th, em, trials, 'Mult')"
   ]
  },
  {
   "cell_type": "code",
   "execution_count": null,
   "id": "55768aa6-3218-422b-b021-27db7fbb28fb",
   "metadata": {},
   "outputs": [],
   "source": []
  }
 ],
 "metadata": {
  "kernelspec": {
   "display_name": "SageMath 10.6",
   "language": "sage",
   "name": "sagemath-10.6"
  },
  "language_info": {
   "codemirror_mode": {
    "name": "ipython",
    "version": 3
   },
   "file_extension": ".py",
   "mimetype": "text/x-python",
   "name": "python",
   "nbconvert_exporter": "python",
   "pygments_lexer": "ipython3",
   "version": "3.12.5"
  }
 },
 "nbformat": 4,
 "nbformat_minor": 5
}
