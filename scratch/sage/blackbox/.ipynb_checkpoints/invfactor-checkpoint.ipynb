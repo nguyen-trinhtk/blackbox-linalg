{
 "cells": [
  {
   "cell_type": "code",
   "execution_count": 1,
   "id": "3958f6ac-d7af-4887-b784-f78ccfd4da83",
   "metadata": {},
   "outputs": [],
   "source": [
    "from sage.matrix.berlekamp_massey import berlekamp_massey\n",
    "import random\n",
    "from matplotlib import pyplot as plt"
   ]
  },
  {
   "cell_type": "code",
   "execution_count": 2,
   "id": "1af70eb6-0c74-4376-96f4-e4366e0edac4",
   "metadata": {},
   "outputs": [],
   "source": [
    "def custom_companion_matrix(poly, F):\n",
    "    n = poly.degree()\n",
    "    coeffs = poly.list()\n",
    "    coeffs = [F(c) for c in coeffs]\n",
    "    leading = coeffs[-1]\n",
    "    if leading == 0:\n",
    "        raise ValueError(\"Leading coefficient a_n must be non-zero.\")\n",
    "    coeffs = [c / leading for c in coeffs]\n",
    "    a = coeffs[:-1]\n",
    "\n",
    "    C = matrix(F, n, n, sparse=True)\n",
    "    for i in range(n - 1):\n",
    "        C[i + 1, i] = 1\n",
    "    for i in range(n):\n",
    "        C[i, n - 1] = -a[i]\n",
    "    return C\n",
    "\n",
    "def block_companion_matrix(poly_list, F):\n",
    "    blocks = [custom_companion_matrix(f, F) for f in poly_list]\n",
    "    return block_diagonal_matrix(blocks)"
   ]
  },
  {
   "cell_type": "code",
   "execution_count": 3,
   "id": "ce5ecb96-1dca-4955-ad94-a36c6d0b03b9",
   "metadata": {},
   "outputs": [],
   "source": [
    "def theoretical_success(inv_factors, p):\n",
    "    degrees = [f.degree() for f in inv_factors]\n",
    "    gaps = [degrees[0]] + [degrees[i] - degrees[i - 1] for i in range(1, len(degrees))]\n",
    "    prob = 1.0\n",
    "    for gap in gaps:\n",
    "        prob *= (1 - 1 / (p ** gap))\n",
    "    return float(prob)"
   ]
  },
  {
   "cell_type": "code",
   "execution_count": 4,
   "id": "befe3c06-37da-44b4-9576-877fd39a8b38",
   "metadata": {},
   "outputs": [],
   "source": [
    "def random_vector(n, f):\n",
    "    return vector(f, [f.random_element() for _ in range(n)])\n",
    "\n",
    "def emperical_success(inv_factors, p, trials=1000):\n",
    "    f = GF(p)\n",
    "    A = block_companion_matrix(inv_factors, f)\n",
    "    n = A.nrows()\n",
    "    succeeded = 0\n",
    "    min_poly = A.minpoly()\n",
    "    \n",
    "    for _ in range(trials):\n",
    "        u = random_vector(n, f)\n",
    "        v = random_vector(n, f)\n",
    "        kappa = [u.dot_product((A^i)*v) for i in range(2*n)]\n",
    "        mu = berlekamp_massey(kappa)\n",
    "        if mu == min_poly:\n",
    "            succeeded += 1\n",
    "    prob = succeeded / trials\n",
    "    return float(prob)"
   ]
  },
  {
   "cell_type": "code",
   "execution_count": 5,
   "id": "0a965c5d-3a94-459a-b0a8-07dd7824dac6",
   "metadata": {},
   "outputs": [],
   "source": [
    "def generate_invariant_factors_divisible(p, g, k):\n",
    "    if len(g) != k - 1:\n",
    "        raise ValueError(\"Length of g must be k - 1\")\n",
    "    F = GF(p)\n",
    "    R.<x> = PolynomialRing(F)\n",
    "    degs = [randint(1, 3)]\n",
    "    for gap in g:\n",
    "        degs.append(degs[-1] + gap)\n",
    "    f = R.irreducible_element(degs[0])\n",
    "    invariant_factors = [f]\n",
    "    for i in range(1, k):\n",
    "        gap = degs[i] - f.degree()\n",
    "        q = R.irreducible_element(gap)\n",
    "        f = f * q\n",
    "        invariant_factors.append(f)\n",
    "    return invariant_factors"
   ]
  },
  {
   "cell_type": "code",
   "execution_count": 6,
   "id": "8bd4f2fa-6dd4-4a79-b856-2af3abb36e06",
   "metadata": {},
   "outputs": [
    {
     "name": "stdout",
     "output_type": "stream",
     "text": [
      "[x^3 + 6*x^2 + 4, x^4 + 5*x^3 + x^2 + 4*x + 3, x^6 + 4*x^5 + 6*x^4 + 4*x^3 + 2*x^2 + 2*x + 2, x^8 + 3*x^7 + 5*x^6 + 3*x^5 + 2*x^4 + 5*x^3 + 6*x^2 + 4*x + 6]\n"
     ]
    }
   ],
   "source": [
    "p = 7\n",
    "gaps = [1, 2, 2]\n",
    "k = 4\n",
    "\n",
    "invs = generate_invariant_factors_divisible(p, gaps, k)\n",
    "print(invs)"
   ]
  },
  {
   "cell_type": "markdown",
   "id": "838d837a-9bdb-4ace-814f-037809ad729d",
   "metadata": {},
   "source": [
    "## Experiment 1: Field Size"
   ]
  },
  {
   "cell_type": "code",
   "execution_count": null,
   "id": "ce926de9-aa7a-40a9-a6e0-f4b363bf0089",
   "metadata": {},
   "outputs": [],
   "source": [
    "if __name__=='__main__':\n",
    "    primes_list = prime_range(1, 10)\n",
    "    em_ls = []\n",
    "    th_ls = []\n",
    "    gaps = [1, 2, 2]\n",
    "    k = 4\n",
    "    for p in primes_list:\n",
    "        inv_factors = generate_invariant_factors_divisible(p, gaps, k)\n",
    "        print(inv_factors)\n",
    "        em = emperical_success(inv_factors, p, trials=200)\n",
    "        th = theoretical_success(inv_factors, p)\n",
    "        em_ls.append(em)\n",
    "        th_ls.append(th)\n",
    "        \n",
    "    plt.figure(figsize=(10, 6))\n",
    "    plt.plot(primes_list, em_ls, '--', label='Empirical Success')\n",
    "    plt.plot(primes_list, th_ls, '-', label='Theoretical Success')\n",
    "    plt.xlabel('Prime p')\n",
    "    plt.ylabel('Success Rate')\n",
    "    plt.title('Empirical vs Theoretical Success Rates')\n",
    "    plt.legend()\n",
    "    plt.grid(True)\n",
    "    plt.tight_layout()\n",
    "    plt.show()"
   ]
  },
  {
   "cell_type": "markdown",
   "id": "684b24f8-4f8d-4997-9389-437ed8aef0dd",
   "metadata": {},
   "source": [
    "## Experiment 2: Number of Invariant Factors"
   ]
  },
  {
   "cell_type": "code",
   "execution_count": null,
   "id": "7a649f47-3250-4dbe-ba8b-98661dab00e1",
   "metadata": {},
   "outputs": [
    {
     "name": "stdout",
     "output_type": "stream",
     "text": [
      "2\n",
      "3\n",
      "4\n",
      "5\n",
      "6\n",
      "7\n",
      "8\n",
      "9\n",
      "10\n"
     ]
    }
   ],
   "source": [
    "if __name__=='__main__':\n",
    "    max_k = 20\n",
    "    k_ls = [i for i in range(2, max_k)]\n",
    "    p = 7\n",
    "    em_ls = []\n",
    "    th_ls = []\n",
    "    for k in k_ls:\n",
    "        print(k)\n",
    "        gaps = [2]*(k-1)\n",
    "        inv_factors = generate_invariant_factors_divisible(p, gaps, k)\n",
    "        em = emperical_success(inv_factors, p, trials=200)\n",
    "        th = theoretical_success(inv_factors, p)\n",
    "        em_ls.append(em)\n",
    "        th_ls.append(th)\n",
    "        \n",
    "    plt.figure(figsize=(10, 6))\n",
    "    plt.plot(k_ls, em_ls, '--', label='Empirical Success')\n",
    "    plt.plot(k_ls, th_ls, '-', label='Theoretical Success')\n",
    "    plt.xlabel('Prime p')\n",
    "    plt.ylabel('Success Rate')\n",
    "    plt.title('Empirical vs Theoretical Success Rates')\n",
    "    plt.legend()\n",
    "    plt.grid(True)\n",
    "    plt.tight_layout()\n",
    "    plt.show()"
   ]
  },
  {
   "cell_type": "markdown",
   "id": "13217973-4e3c-4ed4-86d6-8d17baf28926",
   "metadata": {},
   "source": [
    "## Experiment 3: Varying Degree Gap"
   ]
  },
  {
   "cell_type": "code",
   "execution_count": null,
   "id": "dcb30f03-005b-494c-a011-24daef5cb7c1",
   "metadata": {},
   "outputs": [],
   "source": [
    "if __name__=='__main__':\n",
    "    k = 2\n",
    "    p = 7\n",
    "    gap_ls = [i for i in range(1, 100)]\n",
    "    em_ls = []\n",
    "    th_ls = []\n",
    "    for g in gap_ls:\n",
    "        gaps = [g]\n",
    "        inv_factors = generate_invariant_factors_divisible(p, gaps, k)\n",
    "        em = emperical_success(inv_factors, p, trials=200)\n",
    "        th = theoretical_success(inv_factors, p)\n",
    "        em_ls.append(em)\n",
    "        th_ls.append(th)\n",
    "        \n",
    "    plt.figure(figsize=(10, 6))\n",
    "    plt.plot(gap_ls, em_ls, '--', label='Empirical Success')\n",
    "    plt.plot(gap_ls, th_ls, '-', label='Theoretical Success')\n",
    "    plt.xlabel('Prime p')\n",
    "    plt.ylabel('Success Rate')\n",
    "    plt.title('Empirical vs Theoretical Success Rates')\n",
    "    plt.legend()\n",
    "    plt.grid(True)\n",
    "    plt.tight_layout()\n",
    "    plt.show()"
   ]
  },
  {
   "cell_type": "code",
   "execution_count": null,
   "id": "1be48efe-e05a-4aae-94c7-ab0de7553b34",
   "metadata": {},
   "outputs": [],
   "source": []
  }
 ],
 "metadata": {
  "kernelspec": {
   "display_name": "SageMath 10.6",
   "language": "sage",
   "name": "sagemath-10.6"
  },
  "language_info": {
   "codemirror_mode": {
    "name": "ipython",
    "version": 3
   },
   "file_extension": ".py",
   "mimetype": "text/x-python",
   "name": "python",
   "nbconvert_exporter": "python",
   "pygments_lexer": "ipython3",
   "version": "3.12.5"
  }
 },
 "nbformat": 4,
 "nbformat_minor": 5
}
