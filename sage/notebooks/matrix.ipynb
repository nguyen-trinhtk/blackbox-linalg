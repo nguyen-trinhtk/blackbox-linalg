{
 "cells": [
  {
   "cell_type": "markdown",
   "id": "314fa4ce-746a-47ab-b9e3-332065c32900",
   "metadata": {},
   "source": [
    "#### Matrix Constructions in Sage"
   ]
  },
  {
   "cell_type": "markdown",
   "id": "5f46f12a-ebef-4920-b164-a9164934afdc",
   "metadata": {},
   "source": [
    "##### Over the integers"
   ]
  },
  {
   "cell_type": "code",
   "execution_count": 1,
   "id": "9bd715ae-afd9-4ee7-b641-a481a8d8cf9f",
   "metadata": {},
   "outputs": [
    {
     "data": {
      "text/html": [
       "<html>\\(\\displaystyle \\left(\\begin{array}{rr}\n",
       "1 & 2 \\\\\n",
       "3 & 4 \\\\\n",
       "5 & 6\n",
       "\\end{array}\\right)\\)</html>"
      ],
      "text/latex": [
       "$\\displaystyle \\left(\\begin{array}{rr}\n",
       "1 & 2 \\\\\n",
       "3 & 4 \\\\\n",
       "5 & 6\n",
       "\\end{array}\\right)$"
      ],
      "text/plain": [
       "[1 2]\n",
       "[3 4]\n",
       "[5 6]"
      ]
     },
     "metadata": {},
     "output_type": "display_data"
    }
   ],
   "source": [
    "A = matrix(ZZ, [[1, 2], [3, 4], [5, 6]])\n",
    "show(A)"
   ]
  },
  {
   "cell_type": "markdown",
   "id": "e47e8a63-187f-427c-86f4-8012e67dfad6",
   "metadata": {},
   "source": [
    "##### From a list & known number of rows"
   ]
  },
  {
   "cell_type": "code",
   "execution_count": 2,
   "id": "2f1d88f8-efb9-45b9-959a-c080c86ea6a8",
   "metadata": {},
   "outputs": [
    {
     "data": {
      "text/html": [
       "<html>\\(\\displaystyle \\left(\\begin{array}{rrr}\n",
       "1 & 2 & 3 \\\\\n",
       "4 & 5 & 6\n",
       "\\end{array}\\right)\\)</html>"
      ],
      "text/latex": [
       "$\\displaystyle \\left(\\begin{array}{rrr}\n",
       "1 & 2 & 3 \\\\\n",
       "4 & 5 & 6\n",
       "\\end{array}\\right)$"
      ],
      "text/plain": [
       "[1 2 3]\n",
       "[4 5 6]"
      ]
     },
     "metadata": {},
     "output_type": "display_data"
    }
   ],
   "source": [
    "B = matrix(QQ, 2, [1, 2, 3, 4, 5, 6]) # 2 rows\n",
    "show(B)"
   ]
  },
  {
   "cell_type": "markdown",
   "id": "fbaeb5c1-a292-4dfb-9798-59be2e3fa697",
   "metadata": {},
   "source": [
    "##### Zero matrix"
   ]
  },
  {
   "cell_type": "code",
   "execution_count": 3,
   "id": "fa03009d-287e-4136-9397-31768ae89ccd",
   "metadata": {},
   "outputs": [
    {
     "data": {
      "text/html": [
       "<html>\\(\\displaystyle \\left(\\begin{array}{rr}\n",
       "0 & 0 \\\\\n",
       "0 & 0\n",
       "\\end{array}\\right)\\)</html>"
      ],
      "text/latex": [
       "$\\displaystyle \\left(\\begin{array}{rr}\n",
       "0 & 0 \\\\\n",
       "0 & 0\n",
       "\\end{array}\\right)$"
      ],
      "text/plain": [
       "[0 0]\n",
       "[0 0]"
      ]
     },
     "metadata": {},
     "output_type": "display_data"
    }
   ],
   "source": [
    "Z = matrix(QQ, 2, 2, 0)\n",
    "show(Z)"
   ]
  },
  {
   "cell_type": "markdown",
   "id": "caad9a65-f519-4cbb-baf2-be38f999f246",
   "metadata": {},
   "source": [
    "##### Diagonal matrix"
   ]
  },
  {
   "cell_type": "code",
   "execution_count": 4,
   "id": "4bc88c7f-ee42-4129-aa16-7caa93a1f9c6",
   "metadata": {},
   "outputs": [
    {
     "data": {
      "text/html": [
       "<html>\\(\\displaystyle \\left(\\begin{array}{rr}\n",
       "8 & 0 \\\\\n",
       "0 & 8\n",
       "\\end{array}\\right)\\)</html>"
      ],
      "text/latex": [
       "$\\displaystyle \\left(\\begin{array}{rr}\n",
       "8 & 0 \\\\\n",
       "0 & 8\n",
       "\\end{array}\\right)$"
      ],
      "text/plain": [
       "[8 0]\n",
       "[0 8]"
      ]
     },
     "metadata": {},
     "output_type": "display_data"
    }
   ],
   "source": [
    "D = matrix(QQ, 2, 2, 8)\n",
    "show(D)"
   ]
  },
  {
   "cell_type": "markdown",
   "id": "0db1feba-d23a-48ab-9c73-88bbd4b9a645",
   "metadata": {},
   "source": [
    "##### Identity matrix"
   ]
  },
  {
   "cell_type": "code",
   "execution_count": 5,
   "id": "3bda47b9-2ea9-486e-9240-47df94eb306f",
   "metadata": {},
   "outputs": [
    {
     "data": {
      "text/html": [
       "<html>\\(\\displaystyle \\left(\\begin{array}{rrrrr}\n",
       "1 & 0 & 0 & 0 & 0 \\\\\n",
       "0 & 1 & 0 & 0 & 0 \\\\\n",
       "0 & 0 & 1 & 0 & 0 \\\\\n",
       "0 & 0 & 0 & 1 & 0 \\\\\n",
       "0 & 0 & 0 & 0 & 1\n",
       "\\end{array}\\right)\\)</html>"
      ],
      "text/latex": [
       "$\\displaystyle \\left(\\begin{array}{rrrrr}\n",
       "1 & 0 & 0 & 0 & 0 \\\\\n",
       "0 & 1 & 0 & 0 & 0 \\\\\n",
       "0 & 0 & 1 & 0 & 0 \\\\\n",
       "0 & 0 & 0 & 1 & 0 \\\\\n",
       "0 & 0 & 0 & 0 & 1\n",
       "\\end{array}\\right)$"
      ],
      "text/plain": [
       "[1 0 0 0 0]\n",
       "[0 1 0 0 0]\n",
       "[0 0 1 0 0]\n",
       "[0 0 0 1 0]\n",
       "[0 0 0 0 1]"
      ]
     },
     "metadata": {},
     "output_type": "display_data"
    }
   ],
   "source": [
    "I = identity_matrix(5) # 5 x 5 identity matrix\n",
    "show(I)"
   ]
  },
  {
   "cell_type": "markdown",
   "id": "d52c5efd-6ee6-4a8f-abb5-7f477e7d2e8f",
   "metadata": {},
   "source": [
    "##### Jordan matrix"
   ]
  },
  {
   "cell_type": "code",
   "execution_count": 6,
   "id": "418d9eec-ec8e-47f7-a1e7-d3b23611a43c",
   "metadata": {},
   "outputs": [
    {
     "data": {
      "text/html": [
       "<html>\\(\\displaystyle \\left(\\begin{array}{rrr}\n",
       "-2 & 1 & 0 \\\\\n",
       "0 & -2 & 1 \\\\\n",
       "0 & 0 & -2\n",
       "\\end{array}\\right)\\)</html>"
      ],
      "text/latex": [
       "$\\displaystyle \\left(\\begin{array}{rrr}\n",
       "-2 & 1 & 0 \\\\\n",
       "0 & -2 & 1 \\\\\n",
       "0 & 0 & -2\n",
       "\\end{array}\\right)$"
      ],
      "text/plain": [
       "[-2  1  0]\n",
       "[ 0 -2  1]\n",
       "[ 0  0 -2]"
      ]
     },
     "metadata": {},
     "output_type": "display_data"
    }
   ],
   "source": [
    "J = jordan_block(-2, 3) # -2 on diagonal, 1's on super-diagonal\n",
    "show(J)"
   ]
  },
  {
   "cell_type": "markdown",
   "id": "03e6d4fe-9bca-4858-9a87-18d2cbbf4649",
   "metadata": {},
   "source": [
    "#### Basic Operations"
   ]
  },
  {
   "cell_type": "code",
   "execution_count": 7,
   "id": "a8ff6bac-615a-48d8-a27d-7da8fab5a69f",
   "metadata": {},
   "outputs": [],
   "source": [
    "u = vector(QQ, [1, 2, 3])\n",
    "v = vector(QQ, [1, 2])"
   ]
  },
  {
   "cell_type": "code",
   "execution_count": 8,
   "id": "3e0bddef-5318-40b3-8b8a-9ce9651aa043",
   "metadata": {},
   "outputs": [],
   "source": [
    "S = matrix(QQ, [[1, 2], [3, 4]])"
   ]
  },
  {
   "cell_type": "code",
   "execution_count": 9,
   "id": "65ea8209-a0f8-4a1c-a66c-f8539c0102c3",
   "metadata": {},
   "outputs": [
    {
     "data": {
      "text/html": [
       "<html>\\(\\displaystyle \\left(5,\\,11,\\,17\\right)\\)</html>"
      ],
      "text/latex": [
       "$\\displaystyle \\left(5,\\,11,\\,17\\right)$"
      ],
      "text/plain": [
       "(5, 11, 17)"
      ]
     },
     "metadata": {},
     "output_type": "display_data"
    }
   ],
   "source": [
    "show(A*v)"
   ]
  },
  {
   "cell_type": "code",
   "execution_count": 10,
   "id": "77cdf65f-04a1-4289-a07e-73867acc7da4",
   "metadata": {},
   "outputs": [
    {
     "data": {
      "text/html": [
       "<html>\\(\\displaystyle \\left(22,\\,28\\right)\\)</html>"
      ],
      "text/latex": [
       "$\\displaystyle \\left(22,\\,28\\right)$"
      ],
      "text/plain": [
       "(22, 28)"
      ]
     },
     "metadata": {},
     "output_type": "display_data"
    }
   ],
   "source": [
    "show(u*A)"
   ]
  },
  {
   "cell_type": "code",
   "execution_count": 11,
   "id": "95ac28e5-05b1-4903-a5c0-2a3e4c896710",
   "metadata": {},
   "outputs": [
    {
     "data": {
      "text/html": [
       "<html>\\(\\displaystyle \\left(\\begin{array}{rr}\n",
       "22 & 28 \\\\\n",
       "49 & 64\n",
       "\\end{array}\\right)\\)</html>"
      ],
      "text/latex": [
       "$\\displaystyle \\left(\\begin{array}{rr}\n",
       "22 & 28 \\\\\n",
       "49 & 64\n",
       "\\end{array}\\right)$"
      ],
      "text/plain": [
       "[22 28]\n",
       "[49 64]"
      ]
     },
     "metadata": {},
     "output_type": "display_data"
    }
   ],
   "source": [
    "show(B*A)"
   ]
  },
  {
   "cell_type": "markdown",
   "id": "c0f138ff-353f-454b-8eb8-f234f028efc8",
   "metadata": {},
   "source": [
    "For square matrix $A$, $A^x = AAA...A$ ($x$ times)"
   ]
  },
  {
   "cell_type": "code",
   "execution_count": 12,
   "id": "6bab1f53-5f80-4485-9cb8-e0b5ab011db2",
   "metadata": {},
   "outputs": [
    {
     "data": {
      "text/html": [
       "<html>\\(\\displaystyle \\left(\\begin{array}{rr}\n",
       "5743 & 8370 \\\\\n",
       "12555 & 18298\n",
       "\\end{array}\\right)\\)</html>"
      ],
      "text/latex": [
       "$\\displaystyle \\left(\\begin{array}{rr}\n",
       "5743 & 8370 \\\\\n",
       "12555 & 18298\n",
       "\\end{array}\\right)$"
      ],
      "text/plain": [
       "[ 5743  8370]\n",
       "[12555 18298]"
      ]
     },
     "metadata": {},
     "output_type": "display_data"
    }
   ],
   "source": [
    "show(S^6)"
   ]
  },
  {
   "cell_type": "markdown",
   "id": "98a0a077-93d8-4144-870f-1c9dd143080a",
   "metadata": {},
   "source": [
    "Computing $S^0v, S^1v, ..., S^6v$ "
   ]
  },
  {
   "cell_type": "code",
   "execution_count": 13,
   "id": "502f3713-e675-447b-838f-646b07303217",
   "metadata": {},
   "outputs": [
    {
     "data": {
      "text/html": [
       "<html>\\(\\displaystyle \\left(\\begin{array}{rr}\n",
       "1 & 2 \\\\\n",
       "7 & 10 \\\\\n",
       "37 & 54 \\\\\n",
       "199 & 290 \\\\\n",
       "1069 & 1558 \\\\\n",
       "5743 & 8370\n",
       "\\end{array}\\right)\\)</html>"
      ],
      "text/latex": [
       "$\\displaystyle \\left(\\begin{array}{rr}\n",
       "1 & 2 \\\\\n",
       "7 & 10 \\\\\n",
       "37 & 54 \\\\\n",
       "199 & 290 \\\\\n",
       "1069 & 1558 \\\\\n",
       "5743 & 8370\n",
       "\\end{array}\\right)$"
      ],
      "text/plain": [
       "[   1    2]\n",
       "[   7   10]\n",
       "[  37   54]\n",
       "[ 199  290]\n",
       "[1069 1558]\n",
       "[5743 8370]"
      ]
     },
     "metadata": {},
     "output_type": "display_data"
    }
   ],
   "source": [
    "show(S.iterates(v, 6)) # images of v under first 6 powers of B"
   ]
  },
  {
   "cell_type": "code",
   "execution_count": 14,
   "id": "ebaf8891-17b8-43d0-ba04-3d3397b66fa9",
   "metadata": {},
   "outputs": [
    {
     "data": {
      "text/html": [
       "<html>\\(\\displaystyle \\left(\\begin{array}{rr}\n",
       "15 & 20 \\\\\n",
       "30 & 45\n",
       "\\end{array}\\right)\\)</html>"
      ],
      "text/latex": [
       "$\\displaystyle \\left(\\begin{array}{rr}\n",
       "15 & 20 \\\\\n",
       "30 & 45\n",
       "\\end{array}\\right)$"
      ],
      "text/plain": [
       "[15 20]\n",
       "[30 45]"
      ]
     },
     "metadata": {},
     "output_type": "display_data"
    }
   ],
   "source": [
    "R.<x> = PolynomialRing(QQ)\n",
    "f = x^2 + 5*x + 3\n",
    "show(f(S))"
   ]
  },
  {
   "cell_type": "code",
   "execution_count": 15,
   "id": "8398709c-b431-4e02-88af-adfcd5b5b7d2",
   "metadata": {},
   "outputs": [
    {
     "data": {
      "text/html": [
       "<html>\\(\\displaystyle \\left(\\begin{array}{rr}\n",
       "1 & 2 \\\\\n",
       "3 & 4 \\\\\n",
       "5 & 6\n",
       "\\end{array}\\right)\\)</html>"
      ],
      "text/latex": [
       "$\\displaystyle \\left(\\begin{array}{rr}\n",
       "1 & 2 \\\\\n",
       "3 & 4 \\\\\n",
       "5 & 6\n",
       "\\end{array}\\right)$"
      ],
      "text/plain": [
       "[1 2]\n",
       "[3 4]\n",
       "[5 6]"
      ]
     },
     "metadata": {},
     "output_type": "display_data"
    },
    {
     "data": {
      "text/html": [
       "<html>\\(\\displaystyle \\left(\\begin{array}{rrr}\n",
       "1 & 3 & 5 \\\\\n",
       "2 & 4 & 6\n",
       "\\end{array}\\right)\\)</html>"
      ],
      "text/latex": [
       "$\\displaystyle \\left(\\begin{array}{rrr}\n",
       "1 & 3 & 5 \\\\\n",
       "2 & 4 & 6\n",
       "\\end{array}\\right)$"
      ],
      "text/plain": [
       "[1 3 5]\n",
       "[2 4 6]"
      ]
     },
     "metadata": {},
     "output_type": "display_data"
    }
   ],
   "source": [
    "show(A)\n",
    "show(A.transpose())"
   ]
  },
  {
   "cell_type": "markdown",
   "id": "90b0a256-df02-4bf6-9a70-a7b1ea06ed66",
   "metadata": {},
   "source": [
    "#### Gaussian Row Operations\n",
    "Swap"
   ]
  },
  {
   "cell_type": "code",
   "execution_count": 16,
   "id": "b4aba8a0-5ab4-42c0-9db1-7b1c3f8e32e6",
   "metadata": {},
   "outputs": [
    {
     "data": {
      "text/html": [
       "<html>\\(\\displaystyle \\left(\\begin{array}{rrr}\n",
       "1 & 2 & 3 \\\\\n",
       "4 & 5 & 6\n",
       "\\end{array}\\right)\\)</html>"
      ],
      "text/latex": [
       "$\\displaystyle \\left(\\begin{array}{rrr}\n",
       "1 & 2 & 3 \\\\\n",
       "4 & 5 & 6\n",
       "\\end{array}\\right)$"
      ],
      "text/plain": [
       "[1 2 3]\n",
       "[4 5 6]"
      ]
     },
     "metadata": {},
     "output_type": "display_data"
    },
    {
     "data": {
      "text/html": [
       "<html>\\(\\displaystyle \\left(\\begin{array}{rrr}\n",
       "4 & 5 & 6 \\\\\n",
       "1 & 2 & 3\n",
       "\\end{array}\\right)\\)</html>"
      ],
      "text/latex": [
       "$\\displaystyle \\left(\\begin{array}{rrr}\n",
       "4 & 5 & 6 \\\\\n",
       "1 & 2 & 3\n",
       "\\end{array}\\right)$"
      ],
      "text/plain": [
       "[4 5 6]\n",
       "[1 2 3]"
      ]
     },
     "metadata": {},
     "output_type": "display_data"
    }
   ],
   "source": [
    "swap_mat = matrix([[1, 2, 3],[4, 5, 6]])\n",
    "show(swap_mat)\n",
    "swap_mat.swap_rows(0, 1) # (i, j) \n",
    "show(swap_mat)"
   ]
  },
  {
   "cell_type": "markdown",
   "id": "94d246a5-0169-40d9-9dbe-9fcc0eb6661c",
   "metadata": {},
   "source": [
    "Scaling (multiply with a nonzero scalar)"
   ]
  },
  {
   "cell_type": "code",
   "execution_count": 17,
   "id": "162af941-bb33-4800-a89b-df436a09b8cb",
   "metadata": {},
   "outputs": [
    {
     "data": {
      "text/html": [
       "<html>\\(\\displaystyle \\left(\\begin{array}{rrr}\n",
       "1 & 2 & 3 \\\\\n",
       "4 & 5 & 6\n",
       "\\end{array}\\right)\\)</html>"
      ],
      "text/latex": [
       "$\\displaystyle \\left(\\begin{array}{rrr}\n",
       "1 & 2 & 3 \\\\\n",
       "4 & 5 & 6\n",
       "\\end{array}\\right)$"
      ],
      "text/plain": [
       "[1 2 3]\n",
       "[4 5 6]"
      ]
     },
     "metadata": {},
     "output_type": "display_data"
    },
    {
     "data": {
      "text/html": [
       "<html>\\(\\displaystyle \\left(\\begin{array}{rrr}\n",
       "1 & 2 & 3 \\\\\n",
       "12 & 15 & 18\n",
       "\\end{array}\\right)\\)</html>"
      ],
      "text/latex": [
       "$\\displaystyle \\left(\\begin{array}{rrr}\n",
       "1 & 2 & 3 \\\\\n",
       "12 & 15 & 18\n",
       "\\end{array}\\right)$"
      ],
      "text/plain": [
       "[ 1  2  3]\n",
       "[12 15 18]"
      ]
     },
     "metadata": {},
     "output_type": "display_data"
    }
   ],
   "source": [
    "scale_mat = matrix([[1, 2, 3],[4, 5, 6]])\n",
    "show(scale_mat)\n",
    "scale_mat.rescale_row(1, 3) # (i, a) -> a * row i\n",
    "show(scale_mat)"
   ]
  },
  {
   "cell_type": "markdown",
   "id": "2fa4daf0-7a0e-4ac2-b845-5ec742046b39",
   "metadata": {},
   "source": [
    "Row combination"
   ]
  },
  {
   "cell_type": "code",
   "execution_count": 18,
   "id": "855411fb-4f7d-4070-930b-a63cef365690",
   "metadata": {},
   "outputs": [
    {
     "data": {
      "text/html": [
       "<html>\\(\\displaystyle \\left(\\begin{array}{rrr}\n",
       "1 & 2 & 3 \\\\\n",
       "4 & 5 & 6\n",
       "\\end{array}\\right)\\)</html>"
      ],
      "text/latex": [
       "$\\displaystyle \\left(\\begin{array}{rrr}\n",
       "1 & 2 & 3 \\\\\n",
       "4 & 5 & 6\n",
       "\\end{array}\\right)$"
      ],
      "text/plain": [
       "[1 2 3]\n",
       "[4 5 6]"
      ]
     },
     "metadata": {},
     "output_type": "display_data"
    }
   ],
   "source": [
    "rcomb_mat = matrix([[1, 2, 3],[4, 5, 6]])\n",
    "show(rcomb_mat)\n",
    "rcomb_mat.add_multiple_of_row(0, 1, 7) # (i, j, a) -> a * row j + row i"
   ]
  },
  {
   "cell_type": "markdown",
   "id": "b3c2798d-815d-429d-aac2-38269164fa0d",
   "metadata": {},
   "source": [
    "##### Augmented matrix from matrix $S_{2 \\times 2}$ and vector $v_2 \\to (B | v)$ "
   ]
  },
  {
   "cell_type": "code",
   "execution_count": 19,
   "id": "c72158a1-c0f3-4383-9163-b4139800ac79",
   "metadata": {},
   "outputs": [
    {
     "data": {
      "text/html": [
       "<html>\\(\\displaystyle \\left(\\begin{array}{rrr}\n",
       "1 & 2 & 1 \\\\\n",
       "3 & 4 & 2\n",
       "\\end{array}\\right)\\)</html>"
      ],
      "text/latex": [
       "$\\displaystyle \\left(\\begin{array}{rrr}\n",
       "1 & 2 & 1 \\\\\n",
       "3 & 4 & 2\n",
       "\\end{array}\\right)$"
      ],
      "text/plain": [
       "[1 2 1]\n",
       "[3 4 2]"
      ]
     },
     "metadata": {},
     "output_type": "display_data"
    }
   ],
   "source": [
    "G = S.augment(v)\n",
    "show(G)"
   ]
  },
  {
   "cell_type": "code",
   "execution_count": 20,
   "id": "9c3b23b8-6452-4042-b009-27aee5c8c85e",
   "metadata": {},
   "outputs": [
    {
     "data": {
      "text/html": [
       "<html>\\(\\displaystyle \\left(\\begin{array}{rrr}\n",
       "1 & 0 & 0 \\\\\n",
       "0 & 1 & \\frac{1}{2}\n",
       "\\end{array}\\right)\\)</html>"
      ],
      "text/latex": [
       "$\\displaystyle \\left(\\begin{array}{rrr}\n",
       "1 & 0 & 0 \\\\\n",
       "0 & 1 & \\frac{1}{2}\n",
       "\\end{array}\\right)$"
      ],
      "text/plain": [
       "[  1   0   0]\n",
       "[  0   1 1/2]"
      ]
     },
     "metadata": {},
     "output_type": "display_data"
    },
    {
     "data": {
      "text/html": [
       "<html>\\(\\displaystyle \\left(\\begin{array}{rrr}\n",
       "1 & 0 & 0 \\\\\n",
       "0 & 1 & \\frac{1}{2}\n",
       "\\end{array}\\right)\\)</html>"
      ],
      "text/latex": [
       "$\\displaystyle \\left(\\begin{array}{rrr}\n",
       "1 & 0 & 0 \\\\\n",
       "0 & 1 & \\frac{1}{2}\n",
       "\\end{array}\\right)$"
      ],
      "text/plain": [
       "[  1   0   0]\n",
       "[  0   1 1/2]"
      ]
     },
     "metadata": {},
     "output_type": "display_data"
    }
   ],
   "source": [
    "show(G.echelon_form()) # Row EF\n",
    "show(G.rref()) # Reduced Row EF (RREF)"
   ]
  },
  {
   "cell_type": "code",
   "execution_count": 21,
   "id": "6149efa3-5520-430c-b8af-1e191e89dc92",
   "metadata": {},
   "outputs": [
    {
     "data": {
      "text/html": [
       "<html>\\(\\displaystyle \\left(0, 1\\right)\\)</html>"
      ],
      "text/latex": [
       "$\\displaystyle \\left(0, 1\\right)$"
      ],
      "text/plain": [
       "(0, 1)"
      ]
     },
     "metadata": {},
     "output_type": "display_data"
    },
    {
     "data": {
      "text/html": [
       "<html>\\(\\displaystyle \\left(0, 1\\right)\\)</html>"
      ],
      "text/latex": [
       "$\\displaystyle \\left(0, 1\\right)$"
      ],
      "text/plain": [
       "(0, 1)"
      ]
     },
     "metadata": {},
     "output_type": "display_data"
    }
   ],
   "source": [
    "show(G.pivots()) # indices of columns that span column space\n",
    "show(G.pivot_rows()) # indices of rows that span row space"
   ]
  },
  {
   "cell_type": "markdown",
   "id": "21c07b47-1098-4006-8536-6f109733b83a",
   "metadata": {},
   "source": [
    "#### Singular/Nonsingular, Inverse"
   ]
  },
  {
   "cell_type": "code",
   "execution_count": 22,
   "id": "689a3568-b7ff-4b34-bdb4-4666304de3b1",
   "metadata": {},
   "outputs": [
    {
     "data": {
      "text/html": [
       "<html>\\(\\displaystyle \\left(\\begin{array}{rr}\n",
       "1 & 2 \\\\\n",
       "3 & 4\n",
       "\\end{array}\\right)\\)</html>"
      ],
      "text/latex": [
       "$\\displaystyle \\left(\\begin{array}{rr}\n",
       "1 & 2 \\\\\n",
       "3 & 4\n",
       "\\end{array}\\right)$"
      ],
      "text/plain": [
       "[1 2]\n",
       "[3 4]"
      ]
     },
     "metadata": {},
     "output_type": "display_data"
    },
    {
     "data": {
      "text/html": [
       "<html>\\(\\displaystyle \\mathrm{False}\\)</html>"
      ],
      "text/latex": [
       "$\\displaystyle \\mathrm{False}$"
      ],
      "text/plain": [
       "False"
      ]
     },
     "metadata": {},
     "output_type": "display_data"
    },
    {
     "data": {
      "text/html": [
       "<html>\\(\\displaystyle \\mathrm{True}\\)</html>"
      ],
      "text/latex": [
       "$\\displaystyle \\mathrm{True}$"
      ],
      "text/plain": [
       "True"
      ]
     },
     "metadata": {},
     "output_type": "display_data"
    },
    {
     "data": {
      "text/html": [
       "<html>\\(\\displaystyle \\left(\\begin{array}{rr}\n",
       "-2 & 1 \\\\\n",
       "\\frac{3}{2} & -\\frac{1}{2}\n",
       "\\end{array}\\right)\\)</html>"
      ],
      "text/latex": [
       "$\\displaystyle \\left(\\begin{array}{rr}\n",
       "-2 & 1 \\\\\n",
       "\\frac{3}{2} & -\\frac{1}{2}\n",
       "\\end{array}\\right)$"
      ],
      "text/plain": [
       "[  -2    1]\n",
       "[ 3/2 -1/2]"
      ]
     },
     "metadata": {},
     "output_type": "display_data"
    }
   ],
   "source": [
    "show(S)\n",
    "show(S.is_singular())\n",
    "show(S.is_invertible())\n",
    "show(S.inverse())"
   ]
  },
  {
   "cell_type": "code",
   "execution_count": 23,
   "id": "1977cdae-c536-42e1-93dd-0626b4002d99",
   "metadata": {},
   "outputs": [
    {
     "data": {
      "text/html": [
       "<html>\\(\\displaystyle \\mathrm{True}\\)</html>"
      ],
      "text/latex": [
       "$\\displaystyle \\mathrm{True}$"
      ],
      "text/plain": [
       "True"
      ]
     },
     "metadata": {},
     "output_type": "display_data"
    },
    {
     "data": {
      "text/html": [
       "<html>\\(\\displaystyle \\mathrm{False}\\)</html>"
      ],
      "text/latex": [
       "$\\displaystyle \\mathrm{False}$"
      ],
      "text/plain": [
       "False"
      ]
     },
     "metadata": {},
     "output_type": "display_data"
    }
   ],
   "source": [
    "R = matrix([[1, 2],[2, 4]])\n",
    "show(R.is_singular())\n",
    "show(R.is_invertible())\n",
    "# show(R.inverse()) will prompt error"
   ]
  },
  {
   "cell_type": "markdown",
   "id": "820d32a5-91a5-4813-9213-6bd60125ba20",
   "metadata": {},
   "source": [
    "#### Determinants"
   ]
  },
  {
   "cell_type": "code",
   "execution_count": 24,
   "id": "ca9d2dac-1bcc-4683-ada5-a8b48fb3dbf7",
   "metadata": {},
   "outputs": [
    {
     "data": {
      "text/html": [
       "<html>\\(\\displaystyle \\left(\\begin{array}{rr}\n",
       "1 & 2 \\\\\n",
       "3 & 4\n",
       "\\end{array}\\right)\\)</html>"
      ],
      "text/latex": [
       "$\\displaystyle \\left(\\begin{array}{rr}\n",
       "1 & 2 \\\\\n",
       "3 & 4\n",
       "\\end{array}\\right)$"
      ],
      "text/plain": [
       "[1 2]\n",
       "[3 4]"
      ]
     },
     "metadata": {},
     "output_type": "display_data"
    },
    {
     "data": {
      "text/html": [
       "<html>\\(\\displaystyle -2\\)</html>"
      ],
      "text/latex": [
       "$\\displaystyle -2$"
      ],
      "text/plain": [
       "-2"
      ]
     },
     "metadata": {},
     "output_type": "display_data"
    }
   ],
   "source": [
    "show(S)\n",
    "show(S.determinant()) # or S.det()"
   ]
  },
  {
   "cell_type": "markdown",
   "id": "deb5e321-a04a-467a-b72b-74aa4678c06d",
   "metadata": {},
   "source": [
    "#### Adjugate\n"
   ]
  },
  {
   "cell_type": "code",
   "execution_count": 25,
   "id": "05f96768-ef56-4e13-8375-a05459a12f58",
   "metadata": {},
   "outputs": [
    {
     "data": {
      "text/html": [
       "<html>\\(\\displaystyle \\left(\\begin{array}{rrr}\n",
       "-3 & 6 & -3 \\\\\n",
       "6 & -12 & 6 \\\\\n",
       "-3 & 6 & -3\n",
       "\\end{array}\\right)\\)</html>"
      ],
      "text/latex": [
       "$\\displaystyle \\left(\\begin{array}{rrr}\n",
       "-3 & 6 & -3 \\\\\n",
       "6 & -12 & 6 \\\\\n",
       "-3 & 6 & -3\n",
       "\\end{array}\\right)$"
      ],
      "text/plain": [
       "[ -3   6  -3]\n",
       "[  6 -12   6]\n",
       "[ -3   6  -3]"
      ]
     },
     "metadata": {},
     "output_type": "display_data"
    }
   ],
   "source": [
    "T = matrix([[1,2,3], [4, 5, 6], [7, 8, 9]])\n",
    "show(T.adjoint())"
   ]
  }
 ],
 "metadata": {
  "kernelspec": {
   "display_name": "SageMath 10.6",
   "language": "sage",
   "name": "sagemath-10.6"
  },
  "language_info": {
   "codemirror_mode": {
    "name": "ipython",
    "version": 3
   },
   "file_extension": ".py",
   "mimetype": "text/x-python",
   "name": "python",
   "nbconvert_exporter": "python",
   "pygments_lexer": "ipython3",
   "version": "3.12.5"
  }
 },
 "nbformat": 4,
 "nbformat_minor": 5
}
