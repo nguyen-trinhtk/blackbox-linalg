{
 "cells": [
  {
   "cell_type": "markdown",
   "id": "3dbdfcfb-2cdf-4860-8fdb-730b366060e3",
   "metadata": {},
   "source": [
    "- expectation: write example. do example sparse matrix. test with different types of matrices. check if minpoly of utaib is min poly of aib. check how many iterations needed to solve. "
   ]
  },
  {
   "cell_type": "markdown",
   "id": "73e16e40-244c-4f40-9ce5-f3ab3e72564a",
   "metadata": {},
   "source": [
    "### Black-box set up"
   ]
  },
  {
   "cell_type": "code",
   "execution_count": null,
   "id": "5eb2884e-0ec4-4fb9-9c24-0e857a9b7b80",
   "metadata": {},
   "outputs": [],
   "source": [
    "from sage.all import *\n",
    "from sage.matrix.berlekamp_massey import berlekamp_massey\n",
    "from functools import reduce\n",
    "import time"
   ]
  },
  {
   "cell_type": "code",
   "execution_count": null,
   "id": "2a05b99c-3a59-4f13-89a9-9068c49569da",
   "metadata": {},
   "outputs": [],
   "source": [
    "class BlackBox: \n",
    "    def __init__(self, matrix): \n",
    "        self.__matrix = matrix\n",
    "    def prod(self, vector):\n",
    "        return self.__matrix * vector\n",
    "    def get_matrix(self):\n",
    "        return self.__matrix"
   ]
  },
  {
   "cell_type": "code",
   "execution_count": null,
   "id": "e926adc0-84e5-41aa-9c1f-8d5992707221",
   "metadata": {},
   "outputs": [],
   "source": [
    "def generate_nonsingular_square_matrix(field, dim, sparsity):\n",
    "    invertible = False\n",
    "    attempts = 0\n",
    "    max_matrix_attempts = 1000\n",
    "    while not invertible and attempts < max_matrix_attempts: \n",
    "        attempts += 1\n",
    "        A = random_matrix(field, dim, dim, density=(1 - sparsity), sparse=True)\n",
    "        invertible = A.is_invertible()\n",
    "    if not invertible:\n",
    "        raise RuntimeError(f\"Failed to generate invertible matrix after {max_matrix_attempts} attempts\")\n",
    "    return A"
   ]
  },
  {
   "cell_type": "code",
   "execution_count": null,
   "id": "09c9176f-2c73-47a6-b423-756508cd6c31",
   "metadata": {},
   "outputs": [],
   "source": [
    "def generate_vector(field, dim):\n",
    "    return vector(field, [field.random_element() for _ in range(dim)])"
   ]
  },
  {
   "cell_type": "code",
   "execution_count": null,
   "id": "b94e7ebf-ba67-4ee4-a348-de3d782db813",
   "metadata": {},
   "outputs": [],
   "source": [
    "def generate_linear_system(field=None, dim=None, sparsity=0.8):\n",
    "    if not dim: \n",
    "        dim = ZZ.random_element(100, 300)\n",
    "    if not field:\n",
    "        field = GF(random_prime(2, 57))\n",
    "    if dim <= 5:\n",
    "        sparsity = min(sparsity, 0.3)\n",
    "    elif dim <= 10:\n",
    "        sparsity = min(sparsity, 0.5)\n",
    "        \n",
    "    A = generate_nonsingular_square_matrix(field, dim, sparsity)\n",
    "    b = generate_vector(field, dim)\n",
    "    return A, b, dim, field"
   ]
  },
  {
   "cell_type": "code",
   "execution_count": null,
   "id": "fd4445d4-dcbd-4141-9c50-1eb44fc8a9ea",
   "metadata": {},
   "outputs": [],
   "source": [
    "def krylov(black_box, b, order, u):\n",
    "    krylov_seq = []\n",
    "    v = b\n",
    "    for _ in range(order):\n",
    "        krylov_seq.append(u.dot_product(v))\n",
    "        v = black_box.prod(v)\n",
    "    return krylov_seq"
   ]
  },
  {
   "cell_type": "code",
   "execution_count": null,
   "id": "143e01fd-7c6e-451d-a94b-85541aa0e1e4",
   "metadata": {},
   "outputs": [],
   "source": [
    "def horner(coeffs, black_box, vector, scale=1):\n",
    "    if not coeffs:\n",
    "        return vector * 0\n",
    "    result = vector * 0\n",
    "    for coeff in reversed(coeffs):\n",
    "        result = black_box.prod(result) + scale * coeff * vector\n",
    "    return result"
   ]
  },
  {
   "cell_type": "code",
   "execution_count": null,
   "id": "92fac213-fc03-4e71-9dc6-a964a6c4c822",
   "metadata": {},
   "outputs": [],
   "source": [
    "def wiedemann(black_box, b, dim, field): \n",
    "    R = PolynomialRing(field, 'x')\n",
    "    max_attempts = 10\n",
    "    attempt = 0\n",
    "    polys = []\n",
    "    \n",
    "    if b.is_zero():\n",
    "        print(\"Zero vector b - returning zero solution\")\n",
    "        return vector(field, [0] * dim)\n",
    "\n",
    "    while attempt < max_attempts:\n",
    "        attempt += 1\n",
    "        u = generate_vector(field, dim)\n",
    "        if u.is_zero():\n",
    "            continue\n",
    "\n",
    "        krylov_sequence = krylov(black_box, b, 2 * dim, u)\n",
    "\n",
    "        try:\n",
    "            m_poly = list(berlekamp_massey(krylov_sequence))\n",
    "        except Exception as e:\n",
    "            print(f\"Berlekamp-Massey failed: {e}\")\n",
    "            continue\n",
    "\n",
    "        if not m_poly or m_poly[0] == 0:\n",
    "            print(\"Invalid minimal polynomial, retrying...\")\n",
    "            continue\n",
    "\n",
    "        polys.append(R(m_poly))\n",
    "        try:\n",
    "            m_0 = m_poly[0]\n",
    "            h_coeffs = [-c / m_0 for c in m_poly[1:]]\n",
    "            result = horner(h_coeffs, black_box, b)\n",
    "            Ax = black_box.prod(result)\n",
    "            residual = Ax - b\n",
    "\n",
    "            if residual.is_zero():\n",
    "                print(f\"Solution verified in {attempt} attempts.\")\n",
    "                return result\n",
    "\n",
    "            elif len(polys) > 1:\n",
    "                print(\"First poly failed, trying LCM of all collected minimal polynomials...\")\n",
    "                try:\n",
    "                    lcm_poly = reduce(lambda a, b: a.lcm(b), polys)\n",
    "                    lcm_coeffs = lcm_poly.list()\n",
    "                    if lcm_coeffs and lcm_coeffs[0] != 0:\n",
    "                        m_0 = lcm_coeffs[0]\n",
    "                        h_coeffs = [-c / m_0 for c in lcm_coeffs[1:]]\n",
    "                        result = horner(h_coeffs, black_box, b)\n",
    "                        residual = black_box.prod(result) - b\n",
    "                        if residual.is_zero():\n",
    "                            print(f\"LCM poly succeeded in attempt {attempt}.\")\n",
    "                            return result\n",
    "                        else:\n",
    "                            print(\"LCM residual nonzero, continuing...\")\n",
    "                except Exception as e:\n",
    "                    print(f\"LCM computation failed in attempt {attempt}: {e}\")\n",
    "                    continue\n",
    "            else:\n",
    "                print(\"First attempt failed, moving on...\")\n",
    "        except Exception as e:\n",
    "            print(f\"Exception during Horner or residual check: {e}\")\n",
    "\n",
    "    print(\"All individual and LCM attempts failed.\")\n",
    "    raise RuntimeError(\"Wiedemann failed after multiple attempts.\")"
   ]
  },
  {
   "cell_type": "code",
   "execution_count": null,
   "id": "4170ab7d-db88-40b4-a596-ae08400feb03",
   "metadata": {},
   "outputs": [],
   "source": [
    "def main():\n",
    "    A, b, dim, field = generate_linear_system()\n",
    "    bbox_A = BlackBox(A)\n",
    "    start = time.time()\n",
    "    x = wiedemann(bbox_A, b, dim, field)\n",
    "    end = time.time()\n",
    "    print(f\"Finished Wiedemann in {end - start:.3f}s\")\n",
    "    return True\n"
   ]
  },
  {
   "cell_type": "code",
   "execution_count": null,
   "id": "b6f1602c-ab9d-4675-9dd8-d399504bdd84",
   "metadata": {},
   "outputs": [],
   "source": [
    "if __name__ == '__main__':\n",
    "    i = 0\n",
    "    failed = 0\n",
    "    while failed == 0:\n",
    "        i += 1\n",
    "        try:\n",
    "            print(f'Case {i}...', end=' ')\n",
    "            main()\n",
    "            print('Passed')\n",
    "        except Exception as e:\n",
    "            print(f'Failed: {e}')\n",
    "            failed += 1\n",
    "    print(f'Failed {failed} cases')"
   ]
  },
  {
   "cell_type": "code",
   "execution_count": null,
   "id": "15a83443-7dfd-40ab-af7d-4933b142bdb0",
   "metadata": {},
   "outputs": [],
   "source": []
  },
  {
   "cell_type": "code",
   "execution_count": null,
   "id": "7cb40a92-a4f4-421f-b819-a1a76e22c4d5",
   "metadata": {},
   "outputs": [],
   "source": []
  },
  {
   "cell_type": "code",
   "execution_count": null,
   "id": "bd450141-e172-4e55-9b2e-0057a5cb1675",
   "metadata": {},
   "outputs": [],
   "source": []
  },
  {
   "cell_type": "code",
   "execution_count": null,
   "id": "d3afe282-c604-4db1-92b8-36e93ce57697",
   "metadata": {},
   "outputs": [],
   "source": []
  },
  {
   "cell_type": "code",
   "execution_count": null,
   "id": "32542087-ed3b-4da5-8a20-871a9b464399",
   "metadata": {},
   "outputs": [],
   "source": []
  },
  {
   "cell_type": "code",
   "execution_count": null,
   "id": "4fec9eb0-5dea-4152-a72e-5a390bdffa80",
   "metadata": {},
   "outputs": [],
   "source": []
  },
  {
   "cell_type": "code",
   "execution_count": null,
   "id": "c57498ce-a395-4aad-8904-5ba692022a6d",
   "metadata": {},
   "outputs": [],
   "source": []
  },
  {
   "cell_type": "code",
   "execution_count": null,
   "id": "55a84d5c-37d0-47c6-b138-9bb1eb9482bb",
   "metadata": {},
   "outputs": [],
   "source": []
  },
  {
   "cell_type": "code",
   "execution_count": null,
   "id": "7fb43547-fa05-40ce-bc1f-c68fef4dfd6b",
   "metadata": {},
   "outputs": [],
   "source": []
  }
 ],
 "metadata": {
  "kernelspec": {
   "display_name": "SageMath 10.6",
   "language": "sage",
   "name": "sagemath-10.6"
  },
  "language_info": {
   "codemirror_mode": {
    "name": "ipython",
    "version": 3
   },
   "file_extension": ".py",
   "mimetype": "text/x-python",
   "name": "python",
   "nbconvert_exporter": "python",
   "pygments_lexer": "ipython3",
   "version": "3.12.5"
  }
 },
 "nbformat": 4,
 "nbformat_minor": 5
}
