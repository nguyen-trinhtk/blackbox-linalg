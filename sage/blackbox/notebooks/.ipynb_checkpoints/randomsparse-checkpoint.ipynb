{
 "cells": [
  {
   "cell_type": "markdown",
   "id": "3dbdfcfb-2cdf-4860-8fdb-730b366060e3",
   "metadata": {},
   "source": [
    "- expectation: write example. do example sparse matrix. test with different types of matrices. check if minpoly of utaib is min poly of aib. check how many iterations needed to solve. "
   ]
  },
  {
   "cell_type": "code",
   "execution_count": 1,
   "id": "5eb2884e-0ec4-4fb9-9c24-0e857a9b7b80",
   "metadata": {},
   "outputs": [],
   "source": [
    "import sys\n",
    "import os\n",
    "modules_path = os.path.abspath(os.path.join(os.path.dirname(__file__), '..', 'modules'))\n",
    "if modules_path not in sys.path:\n",
    "    sys.path.insert(0, modules_path)\n",
    "from generators import *\n",
    "from wiedemann import *\n",
    "from random import random"
   ]
  },
  {
   "cell_type": "code",
   "execution_count": 2,
   "id": "b17924d3-bea2-43d2-b5fa-dee5c2eef1a3",
   "metadata": {},
   "outputs": [],
   "source": [
    "def test_random_matrices(num_tests):\n",
    "    i = 0\n",
    "    failed = 0\n",
    "    while i < num_tests:\n",
    "        i += 1\n",
    "        try:\n",
    "            print('---')\n",
    "            print(f'Case {i}...', end=' ')\n",
    "            sparsity = 0.85 + (0.95 - 0.85) * random() # Random sparsity in [0.85, 0.95]\n",
    "            A, b, dim, field = generate_linear_system(sparsity = sparsity)\n",
    "            wiedemann_timed_test(A, b, dim, field)\n",
    "        except Exception as e:\n",
    "            print(f'Failed: {e}')\n",
    "            failed += 1\n",
    "    print(f'Failed {failed} cases')"
   ]
  },
  {
   "cell_type": "code",
   "execution_count": 3,
   "id": "2a05b99c-3a59-4f13-89a9-9068c49569da",
   "metadata": {},
   "outputs": [],
   "source": [
    "test_random_matrices(30)"
   ]
  }
 ],
 "metadata": {
  "kernelspec": {
   "display_name": "SageMath 10.6",
   "language": "sage",
   "name": "sagemath-10.6"
  },
  "language_info": {
   "codemirror_mode": {
    "name": "ipython",
    "version": 3
   },
   "file_extension": ".py",
   "mimetype": "text/x-python",
   "name": "python",
   "nbconvert_exporter": "python",
   "pygments_lexer": "ipython3",
   "version": "3.12.5"
  }
 },
 "nbformat": 4,
 "nbformat_minor": 5
}
