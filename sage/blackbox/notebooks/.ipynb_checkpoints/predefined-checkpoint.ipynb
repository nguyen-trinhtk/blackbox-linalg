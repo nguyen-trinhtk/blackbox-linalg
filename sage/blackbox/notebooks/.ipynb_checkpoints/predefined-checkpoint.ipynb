{
 "cells": [
  {
   "cell_type": "markdown",
   "id": "a8f13f2a-5ad4-4ad5-b009-02c226bf5041",
   "metadata": {},
   "source": [
    "###### Handle imports"
   ]
  },
  {
   "cell_type": "code",
   "execution_count": 21,
   "id": "503551a5-b640-4660-9089-0cb2e4362afd",
   "metadata": {},
   "outputs": [],
   "source": [
    "import sys\n",
    "import os\n",
    "modules_path = os.path.abspath(os.path.join(os.getcwd(), '..', 'modules'))\n",
    "if modules_path not in sys.path:\n",
    "    sys.path.insert(0, modules_path)\n",
    "from wiedemann import wiedemann"
   ]
  },
  {
   "cell_type": "markdown",
   "id": "5e3d9ad6-1357-4860-8a99-0065d3da8c73",
   "metadata": {},
   "source": [
    "###### BlackBox class"
   ]
  },
  {
   "cell_type": "code",
   "execution_count": 22,
   "id": "2ed27ab2-5b06-4073-8341-4f25f312749c",
   "metadata": {},
   "outputs": [],
   "source": [
    "class BlackBox: \n",
    "    def __init__(self, matrix): \n",
    "        self.__matrix = matrix\n",
    "    def prod(self, vector):\n",
    "        return self.__matrix * vector\n",
    "    def get_matrix(self):\n",
    "        return self.__matrix"
   ]
  },
  {
   "cell_type": "markdown",
   "id": "d36d7563-35ce-4a09-8238-777c18cd7e6f",
   "metadata": {},
   "source": [
    "###### Timed test"
   ]
  },
  {
   "cell_type": "code",
   "execution_count": 23,
   "id": "8dbca1d6-b58d-4729-9751-501f23202f71",
   "metadata": {},
   "outputs": [],
   "source": [
    "import time\n",
    "def wiedemann_timed_test(A, b, dim, field, expected_x=None):\n",
    "    bbox_A = BlackBox(A)\n",
    "    start = time.time()\n",
    "    x, _ = wiedemann(bbox_A, b, dim, field)\n",
    "    end = time.time()\n",
    "    print(f\"Computed solution x: {x}\")\n",
    "    assert A * x == b, \"Failed: A*x != b\"\n",
    "    if expected_x is not None:\n",
    "        assert x == expected_x, \"Failed: solution does not match expected\"\n",
    "    print(f\"Test passed in {end - start:.4f} seconds!\")"
   ]
  },
  {
   "cell_type": "markdown",
   "id": "75bb06f7-f10e-4487-b8e8-ea00913c8929",
   "metadata": {},
   "source": [
    "###### Tests"
   ]
  },
  {
   "cell_type": "code",
   "execution_count": 28,
   "id": "e9f72286-b277-4a52-9d9a-d047c5b5f552",
   "metadata": {},
   "outputs": [
    {
     "name": "stdout",
     "output_type": "stream",
     "text": [
      "True\n",
      "Attempt 1 failed: polynomial degree 3 != 5\n",
      "Valid solution: attempt #2\n",
      "Computed solution x: (1, 3, 4, 0, 3)\n",
      "Test passed in 0.0020 seconds!\n"
     ]
    }
   ],
   "source": [
    "# Known matrix - unknown solution\n",
    "F1 = GF(7)\n",
    "n1 = 5\n",
    "A1 = Matrix(F1, [\n",
    "  [1, 0, 0, 2, 0],\n",
    "  [0, 3, 0, 0, 0],\n",
    "  [0, 0, 0, 0, 1],\n",
    "  [4, 0, 0, 0, 0],\n",
    "  [0, 0, 5, 0, 2]\n",
    "])\n",
    "print(A1.is_invertible())\n",
    "b1 = vector(F1, [1, 2, 3, 4, 5])\n",
    "wiedemann_timed_test(A1, b1, n1, F1)"
   ]
  },
  {
   "cell_type": "code",
   "execution_count": 29,
   "id": "5e1163ef-9a96-49b4-b184-16427eaa9420",
   "metadata": {},
   "outputs": [
    {
     "name": "stdout",
     "output_type": "stream",
     "text": [
      "Valid solution: attempt #1\n",
      "Computed solution x: (5, 3, 9, 9, 3, 9, 10, 11, 12, 6)\n",
      "Test passed in 0.0015 seconds!\n"
     ]
    }
   ],
   "source": [
    "# Random sparse matrix\n",
    "n2 = 10\n",
    "F2 = GF(13)\n",
    "density = 0.1\n",
    "A2 = random_matrix(F2, n2, n2, density=density)\n",
    "while not A2.is_invertible():\n",
    "    A2 = random_matrix(F2, n2, n2, density=density)\n",
    "b2 = random_vector(F2, n2)\n",
    "wiedemann_timed_test(A2, b2, n2, F2)"
   ]
  },
  {
   "cell_type": "code",
   "execution_count": 30,
   "id": "23b7dafa-981d-4df7-b515-211e229bf8a4",
   "metadata": {},
   "outputs": [
    {
     "name": "stdout",
     "output_type": "stream",
     "text": [
      "Attempt 1 failed: polynomial degree 5 != 6\n",
      "Valid solution: attempt #2\n",
      "Computed solution x: (1, 2, 3, 4, 5, 6)\n",
      "Test passed in 0.0010 seconds!\n"
     ]
    }
   ],
   "source": [
    "# Known matrix - Known solution\n",
    "F3 = GF(13)\n",
    "n3 = 6\n",
    "diag_entries = [2, 3, 5, 7, 11, 1]\n",
    "A3 = diagonal_matrix(F3, diag_entries)\n",
    "x_true = vector(F3, [1, 2, 3, 4, 5, 6])\n",
    "b3 = A3 * x_true\n",
    "wiedemann_timed_test(A3, b3, n3, F3, expected_x=x_true)"
   ]
  },
  {
   "cell_type": "code",
   "execution_count": 31,
   "id": "d5336a54-62d9-4622-8a44-4c757faf1f62",
   "metadata": {},
   "outputs": [
    {
     "name": "stdout",
     "output_type": "stream",
     "text": [
      "Valid solution: attempt #1\n",
      "Computed solution x: (1, 2, 3, 4, 5)\n",
      "Test passed in 0.0025 seconds!\n"
     ]
    }
   ],
   "source": [
    "# Diagonal matrix\n",
    "F45 = GF(13)\n",
    "n45 = 5\n",
    "diag_entries = [2, 3, 5, 7, 11]\n",
    "A4 = diagonal_matrix(F45, diag_entries)\n",
    "x_true_45 = vector(F45, [1, 2, 3, 4, 5])\n",
    "b4 = A4 * x_true_45\n",
    "wiedemann_timed_test(A4, b4, n45, F45, expected_x=x_true_45)"
   ]
  },
  {
   "cell_type": "code",
   "execution_count": 34,
   "id": "8676baa7-bd96-464e-9524-23249ef92254",
   "metadata": {},
   "outputs": [
    {
     "name": "stdout",
     "output_type": "stream",
     "text": [
      "True\n",
      "Attempt 1 failed: polynomial degree 1 != 5\n",
      "Attempt 2 failed: polynomial degree 1 != 5\n",
      "Attempt 3 failed: polynomial degree 1 != 5\n",
      "Attempt 4 failed: polynomial degree 1 != 5\n",
      "Attempt 5 failed: polynomial degree 1 != 5\n",
      "Attempt 6 failed: polynomial degree 1 != 5\n",
      "Attempt 7 failed: polynomial degree 1 != 5\n",
      "Attempt 8 failed: polynomial degree 1 != 5\n",
      "Attempt 9 failed: polynomial degree 1 != 5\n",
      "Attempt 10 failed: polynomial degree 1 != 5\n",
      "Attempt 11 failed: polynomial degree 1 != 5\n",
      "Max attempts failed\n",
      "Failure: A = [4 0 0 0 0]\n",
      "[0 4 0 0 0]\n",
      "[0 0 4 0 0]\n",
      "[0 0 0 4 0]\n",
      "[0 0 0 0 4]\n",
      "Failure: b = (4, 8, 12, 3, 7)\n"
     ]
    },
    {
     "ename": "RuntimeError",
     "evalue": "Wiedemann failed after max attempts",
     "output_type": "error",
     "traceback": [
      "\u001b[31m---------------------------------------------------------------------------\u001b[39m",
      "\u001b[31mRuntimeError\u001b[39m                              Traceback (most recent call last)",
      "\u001b[36mCell\u001b[39m\u001b[36m \u001b[39m\u001b[32mIn[34]\u001b[39m\u001b[32m, line 6\u001b[39m\n\u001b[32m      4\u001b[39m b5 = A5 * x_true_45\n\u001b[32m      5\u001b[39m \u001b[38;5;28mprint\u001b[39m(A5.is_invertible())\n\u001b[32m----> \u001b[39m\u001b[32m6\u001b[39m \u001b[43mwiedemann_timed_test\u001b[49m\u001b[43m(\u001b[49m\u001b[43mA5\u001b[49m\u001b[43m,\u001b[49m\u001b[43m \u001b[49m\u001b[43mb5\u001b[49m\u001b[43m,\u001b[49m\u001b[43m \u001b[49m\u001b[43mn45\u001b[49m\u001b[43m,\u001b[49m\u001b[43m \u001b[49m\u001b[43mF45\u001b[49m\u001b[43m,\u001b[49m\u001b[43m \u001b[49m\u001b[43mexpected_x\u001b[49m\u001b[43m=\u001b[49m\u001b[43mx_true_45\u001b[49m\u001b[43m)\u001b[49m\n",
      "\u001b[36mCell\u001b[39m\u001b[36m \u001b[39m\u001b[32mIn[23]\u001b[39m\u001b[32m, line 5\u001b[39m, in \u001b[36mwiedemann_timed_test\u001b[39m\u001b[34m(A, b, dim, field, expected_x)\u001b[39m\n\u001b[32m      3\u001b[39m bbox_A = BlackBox(A)\n\u001b[32m      4\u001b[39m start = time.time()\n\u001b[32m----> \u001b[39m\u001b[32m5\u001b[39m x, _ = \u001b[43mwiedemann\u001b[49m\u001b[43m(\u001b[49m\u001b[43mbbox_A\u001b[49m\u001b[43m,\u001b[49m\u001b[43m \u001b[49m\u001b[43mb\u001b[49m\u001b[43m,\u001b[49m\u001b[43m \u001b[49m\u001b[43mdim\u001b[49m\u001b[43m,\u001b[49m\u001b[43m \u001b[49m\u001b[43mfield\u001b[49m\u001b[43m)\u001b[49m\n\u001b[32m      6\u001b[39m end = time.time()\n\u001b[32m      7\u001b[39m \u001b[38;5;28mprint\u001b[39m(\u001b[33mf\u001b[39m\u001b[33m\"\u001b[39m\u001b[33mComputed solution x: \u001b[39m\u001b[38;5;132;01m{\u001b[39;00mx\u001b[38;5;132;01m}\u001b[39;00m\u001b[33m\"\u001b[39m)\n",
      "\u001b[36mFile \u001b[39m\u001b[32m~/Documents/GitHub/blackbox-linear-algebra/sage/blackbox/modules/wiedemann.py:66\u001b[39m, in \u001b[36mwiedemann\u001b[39m\u001b[34m(black_box, b, dim, field)\u001b[39m\n\u001b[32m     64\u001b[39m \u001b[38;5;28mprint\u001b[39m(\u001b[33mf\u001b[39m\u001b[33m\"\u001b[39m\u001b[33mFailure: A = \u001b[39m\u001b[38;5;132;01m{\u001b[39;00mblack_box.get_matrix()\u001b[38;5;132;01m}\u001b[39;00m\u001b[33m\"\u001b[39m)\n\u001b[32m     65\u001b[39m \u001b[38;5;28mprint\u001b[39m(\u001b[33mf\u001b[39m\u001b[33m\"\u001b[39m\u001b[33mFailure: b = \u001b[39m\u001b[38;5;132;01m{\u001b[39;00mb\u001b[38;5;132;01m}\u001b[39;00m\u001b[33m\"\u001b[39m)\n\u001b[32m---> \u001b[39m\u001b[32m66\u001b[39m \u001b[38;5;28;01mraise\u001b[39;00m \u001b[38;5;167;01mRuntimeError\u001b[39;00m(\u001b[33m\"\u001b[39m\u001b[33mWiedemann failed after max attempts\u001b[39m\u001b[33m\"\u001b[39m)\n",
      "\u001b[31mRuntimeError\u001b[39m: Wiedemann failed after max attempts"
     ]
    }
   ],
   "source": [
    "# Scalar matrix\n",
    "scalar_val = F45(4)\n",
    "A5 = scalar_val * identity_matrix(F45, 5)\n",
    "b5 = A5 * x_true_45\n",
    "print(A5.is_invertible())\n",
    "wiedemann_timed_test(A5, b5, n45, F45, expected_x=x_true_45)"
   ]
  },
  {
   "cell_type": "code",
   "execution_count": 17,
   "id": "9764129d-f412-4c93-8423-b2eef25b76cd",
   "metadata": {},
   "outputs": [
    {
     "name": "stdout",
     "output_type": "stream",
     "text": [
      "Valid solution: attempt #1\n",
      "Computed solution x: (1, 2, 3, 4, 5)\n",
      "Test passed in 0.0019 seconds!\n"
     ]
    }
   ],
   "source": [
    "# Block diagonal\n",
    "F6 = GF(11)\n",
    "n6 = 5\n",
    "# Block diagonal matrix with two invertible blocks (2x2 and 3x3)\n",
    "B1 = matrix(F6, [[2, 1], [1, 3]])\n",
    "B2 = matrix(F6, [[4, 0, 1], [0, 5, 2], [1, 0, 6]])\n",
    "A6 = block_diagonal_matrix([B1, B2])\n",
    "x_true_6 = vector(F6, [1, 2, 3, 4, 5])\n",
    "b6 = A6 * x_true_6\n",
    "wiedemann_timed_test(A6, b6, n6, F6, expected_x=x_true_6)"
   ]
  },
  {
   "cell_type": "code",
   "execution_count": 18,
   "id": "b72ef051-ed5a-4c09-a5bb-466f4cc17da1",
   "metadata": {},
   "outputs": [
    {
     "name": "stdout",
     "output_type": "stream",
     "text": [
      "Valid solution: attempt #1\n",
      "Computed solution x: (1, 0, 1, 0, 1)\n",
      "Test passed in 0.0030 seconds!\n",
      "Valid solution: attempt #1\n",
      "Computed solution x: (10, 20, 30, 40, 50)\n",
      "Test passed in 0.0011 seconds!\n"
     ]
    }
   ],
   "source": [
    "# Over different GF\n",
    "F2 = GF(2)\n",
    "A2 = random_matrix(F2, 5, 5)\n",
    "while not A2.is_invertible():\n",
    "    A2 = random_matrix(F2, 5, 5)\n",
    "x_true_2 = vector(F2, [1, 0, 1, 0, 1])\n",
    "b2 = A2 * x_true_2\n",
    "wiedemann_timed_test(A2, b2, 5, F2, expected_x=x_true_2)\n",
    "# GF(101)\n",
    "F101 = GF(101)\n",
    "A101 = random_matrix(F101, 5, 5)\n",
    "while not A101.is_invertible():\n",
    "    A101 = random_matrix(F101, 5, 5)\n",
    "x_true101 = vector(F101, [10, 20, 30, 40, 50])\n",
    "b101 = A101 * x_true101\n",
    "wiedemann_timed_test(A101, b101, 5, F101, expected_x=x_true101)\n"
   ]
  },
  {
   "cell_type": "code",
   "execution_count": 9,
   "id": "f21cc0f0-5d31-4758-b298-1776eab5dabb",
   "metadata": {},
   "outputs": [
    {
     "name": "stdout",
     "output_type": "stream",
     "text": [
      "Valid solution: attempt #1\n",
      "Computed solution x: (1, 0, 0)\n",
      "Test passed in 0.0035 seconds!\n"
     ]
    }
   ],
   "source": [
    "# Known min \n",
    "F = GF(7)\n",
    "J = matrix(F, [\n",
    "    [2, 1, 0],\n",
    "    [0, 2, 1],\n",
    "    [0, 0, 2]\n",
    "])\n",
    "x_true = vector(F, [1, 0, 0])\n",
    "b = J * x_true\n",
    "wiedemann_timed_test(J, b, 3, F, expected_x=x_true)"
   ]
  },
  {
   "cell_type": "code",
   "execution_count": 10,
   "id": "1d2397e1-0ae8-4049-b130-6784f403e698",
   "metadata": {},
   "outputs": [
    {
     "name": "stdout",
     "output_type": "stream",
     "text": [
      "Valid solution: attempt #1\n",
      "Computed solution x: (7)\n",
      "Test passed in 0.0039 seconds!\n"
     ]
    }
   ],
   "source": [
    "# 1x1 matrix\n",
    "F = GF(13)\n",
    "A_1x1 = matrix(F, [[5]])\n",
    "x_true_1x1 = vector(F, [7])\n",
    "b_1x1 = A_1x1 * x_true_1x1\n",
    "wiedemann_timed_test(A_1x1, b_1x1, 1, F, expected_x=x_true_1x1)"
   ]
  },
  {
   "cell_type": "code",
   "execution_count": 11,
   "id": "4246e15e-9eda-40fb-8a40-0824d81d6add",
   "metadata": {},
   "outputs": [
    {
     "name": "stdout",
     "output_type": "stream",
     "text": [
      "Valid solution: attempt #1\n",
      "Computed solution x: (3, 6, 9, 12)\n",
      "Test passed in 0.0021 seconds!\n"
     ]
    }
   ],
   "source": [
    "# Identity\n",
    "F = GF(17)\n",
    "A_id = identity_matrix(F, 4)\n",
    "x_true_id = vector(F, [3, 6, 9, 12])\n",
    "b_id = A_id * x_true_id\n",
    "wiedemann_timed_test(A_id, b_id, 4, F, expected_x=x_true_id)"
   ]
  }
 ],
 "metadata": {
  "kernelspec": {
   "display_name": "SageMath 10.6",
   "language": "sage",
   "name": "sagemath-10.6"
  },
  "language_info": {
   "codemirror_mode": {
    "name": "ipython",
    "version": 3
   },
   "file_extension": ".py",
   "mimetype": "text/x-python",
   "name": "python",
   "nbconvert_exporter": "python",
   "pygments_lexer": "ipython3",
   "version": "3.12.5"
  }
 },
 "nbformat": 4,
 "nbformat_minor": 5
}
