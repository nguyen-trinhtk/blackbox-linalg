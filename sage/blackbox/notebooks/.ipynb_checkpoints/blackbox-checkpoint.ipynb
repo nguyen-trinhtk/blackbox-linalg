{
 "cells": [
  {
   "cell_type": "markdown",
   "id": "3dbdfcfb-2cdf-4860-8fdb-730b366060e3",
   "metadata": {},
   "source": [
    "- expectation: write example. do example sparse matrix. test with different types of matrices. check if minpoly of utaib is min poly of aib. check how many iterations needed to solve. "
   ]
  },
  {
   "cell_type": "markdown",
   "id": "73e16e40-244c-4f40-9ce5-f3ab3e72564a",
   "metadata": {},
   "source": [
    "### Black-box set up"
   ]
  },
  {
   "cell_type": "code",
   "execution_count": 76,
   "id": "5eb2884e-0ec4-4fb9-9c24-0e857a9b7b80",
   "metadata": {},
   "outputs": [],
   "source": [
    "def generate_nonsingular_square_matrix(field, dim, sparsity):\n",
    "    invertible = False\n",
    "    while not invertible: \n",
    "        A = random_matrix(field, dim, dim, density=(1 - sparsity), sparse=True)\n",
    "        invertible = A.is_invertible()\n",
    "    return A"
   ]
  },
  {
   "cell_type": "code",
   "execution_count": 77,
   "id": "2a05b99c-3a59-4f13-89a9-9068c49569da",
   "metadata": {},
   "outputs": [],
   "source": [
    "def generate_vector(field, dim):\n",
    "    return vector(field, [field.random_element() for _ in range(dim)])"
   ]
  },
  {
   "cell_type": "code",
   "execution_count": 78,
   "id": "e926adc0-84e5-41aa-9c1f-8d5992707221",
   "metadata": {},
   "outputs": [],
   "source": [
    "def generate_linear_system(field = None, dim = None, sparsity = 0.8):\n",
    "    if not dim: \n",
    "        dim = randrange(100)\n",
    "    if not field:\n",
    "        field = GF(random_prime(57))\n",
    "    A = generate_nonsingular_square_matrix(field, dim, sparsity)\n",
    "    b = generate_vector(field, dim)\n",
    "    return A, b, dim, field"
   ]
  },
  {
   "cell_type": "code",
   "execution_count": 79,
   "id": "09c9176f-2c73-47a6-b423-756508cd6c31",
   "metadata": {},
   "outputs": [],
   "source": [
    "class BlackBox: \n",
    "    def __init__(self, matrix): \n",
    "        self.__matrix = matrix\n",
    "    def prod(self, vector):\n",
    "        return self.__matrix * vector"
   ]
  },
  {
   "cell_type": "code",
   "execution_count": 80,
   "id": "b94e7ebf-ba67-4ee4-a348-de3d782db813",
   "metadata": {},
   "outputs": [],
   "source": [
    "def krylov(black_box, b, order, u=None):\n",
    "    krylov_seq = []\n",
    "    v = b\n",
    "    for i in range(order):\n",
    "        if u is not None:\n",
    "            krylov_seq.append(u.dot_product(v))\n",
    "        else:\n",
    "            krylov_seq.append(v)\n",
    "        v = black_box.prod(v)\n",
    "    return krylov_seq"
   ]
  },
  {
   "cell_type": "code",
   "execution_count": 81,
   "id": "143e01fd-7c6e-451d-a94b-85541aa0e1e4",
   "metadata": {},
   "outputs": [],
   "source": [
    "from sage.matrix.berlekamp_massey import berlekamp_massey\n",
    "\n",
    "def wiedemann(black_box, b, dim, field): \n",
    "    sol = None\n",
    "    R = PolynomialRing(field, 'x')\n",
    "    x = R.gen()\n",
    "    iterations = 0\n",
    "    while not sol:\n",
    "        iterations += 1\n",
    "        u = generate_vector(field, dim)\n",
    "        krylov_sequence = krylov(black_box, b, 2 * dim, u)\n",
    "        m_poly = berlekamp_massey(krylov_sequence)\n",
    "        try: \n",
    "            print(m_poly)\n",
    "            print(m_poly[0], m_poly[-1])\n",
    "            return 0\n",
    "            # h = - (m_poly - m_poly[-1]) / (m_poly[-1] * x)\n",
    "            # sol = h(A) * b\n",
    "            # if A*sol == b: \n",
    "            #     return vector(list(sol)), iterations\n",
    "        except Exception: \n",
    "            continue"
   ]
  },
  {
   "cell_type": "code",
   "execution_count": 82,
   "id": "92fac213-fc03-4e71-9dc6-a964a6c4c822",
   "metadata": {},
   "outputs": [],
   "source": [
    "def main():\n",
    "    A, b, dim, field = generate_linear_system()\n",
    "    bbox_A = BlackBox(A)\n",
    "    wiedemann(bbox_A, b, dim, field)"
   ]
  },
  {
   "cell_type": "code",
   "execution_count": null,
   "id": "4170ab7d-db88-40b4-a596-ae08400feb03",
   "metadata": {},
   "outputs": [],
   "source": [
    "main()"
   ]
  },
  {
   "cell_type": "code",
   "execution_count": null,
   "id": "b6f1602c-ab9d-4675-9dd8-d399504bdd84",
   "metadata": {},
   "outputs": [],
   "source": []
  },
  {
   "cell_type": "code",
   "execution_count": null,
   "id": "15a83443-7dfd-40ab-af7d-4933b142bdb0",
   "metadata": {},
   "outputs": [],
   "source": []
  },
  {
   "cell_type": "code",
   "execution_count": null,
   "id": "7cb40a92-a4f4-421f-b819-a1a76e22c4d5",
   "metadata": {},
   "outputs": [],
   "source": []
  },
  {
   "cell_type": "code",
   "execution_count": null,
   "id": "bd450141-e172-4e55-9b2e-0057a5cb1675",
   "metadata": {},
   "outputs": [],
   "source": []
  },
  {
   "cell_type": "code",
   "execution_count": null,
   "id": "d3afe282-c604-4db1-92b8-36e93ce57697",
   "metadata": {},
   "outputs": [],
   "source": []
  },
  {
   "cell_type": "code",
   "execution_count": null,
   "id": "32542087-ed3b-4da5-8a20-871a9b464399",
   "metadata": {},
   "outputs": [],
   "source": []
  },
  {
   "cell_type": "code",
   "execution_count": null,
   "id": "4fec9eb0-5dea-4152-a72e-5a390bdffa80",
   "metadata": {},
   "outputs": [],
   "source": []
  },
  {
   "cell_type": "code",
   "execution_count": null,
   "id": "c57498ce-a395-4aad-8904-5ba692022a6d",
   "metadata": {},
   "outputs": [],
   "source": []
  },
  {
   "cell_type": "code",
   "execution_count": null,
   "id": "55a84d5c-37d0-47c6-b138-9bb1eb9482bb",
   "metadata": {},
   "outputs": [],
   "source": []
  },
  {
   "cell_type": "code",
   "execution_count": null,
   "id": "7fb43547-fa05-40ce-bc1f-c68fef4dfd6b",
   "metadata": {},
   "outputs": [],
   "source": []
  }
 ],
 "metadata": {
  "kernelspec": {
   "display_name": "SageMath 10.6",
   "language": "sage",
   "name": "sagemath-10.6"
  },
  "language_info": {
   "codemirror_mode": {
    "name": "ipython",
    "version": 3
   },
   "file_extension": ".py",
   "mimetype": "text/x-python",
   "name": "python",
   "nbconvert_exporter": "python",
   "pygments_lexer": "ipython3",
   "version": "3.12.5"
  }
 },
 "nbformat": 4,
 "nbformat_minor": 5
}
