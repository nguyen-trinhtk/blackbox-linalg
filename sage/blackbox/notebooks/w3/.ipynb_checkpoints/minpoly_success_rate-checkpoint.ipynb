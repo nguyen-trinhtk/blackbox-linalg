{
 "cells": [
  {
   "cell_type": "markdown",
   "id": "38eb92af-130e-4eb7-908c-92d7918825f3",
   "metadata": {},
   "source": [
    "### Pre: Vector Generation"
   ]
  },
  {
   "cell_type": "code",
   "execution_count": 9,
   "id": "e9c067e1-8249-4bb6-ba6b-8532ef579468",
   "metadata": {},
   "outputs": [],
   "source": [
    "from sage.matrix.berlekamp_massey import berlekamp_massey\n",
    "import random\n",
    "from matplotlib import pyplot as plt"
   ]
  },
  {
   "cell_type": "code",
   "execution_count": 10,
   "id": "db6b6b44-d7a8-47cb-9c31-c8bd768f1dd8",
   "metadata": {},
   "outputs": [],
   "source": [
    "def random_vector(n, f):\n",
    "    return vector(f, [f.random_element() for _ in range(n)])\n",
    "\n",
    "def sparse_vector(k, n, f):\n",
    "    # k is number of non-zero elements\n",
    "    indices = random.sample(range(n), k)\n",
    "    v = [f(0)] * n\n",
    "    for i in indices:\n",
    "        v[i] = f.random_element()\n",
    "    return vector(f, v)\n",
    "\n",
    "def structured_vector(n, f):\n",
    "    return vector(f, [1]*n) \n",
    "\n",
    "def generate_vectors(category, n, f):\n",
    "    if category == \"Random\":\n",
    "        return random_vector(n, f), random_vector(n, f)\n",
    "    elif category == \"Sparse\":\n",
    "        return sparse_vector(1, n, f), sparse_vector(1, n, f)\n",
    "    elif category == \"Structured\":\n",
    "        return structured_vector(n, f), structured_vector(n, f)\n",
    "    else:\n",
    "        raise ValueError(\"Unknown category\")"
   ]
  },
  {
   "cell_type": "code",
   "execution_count": 11,
   "id": "56bc2b24-e22a-4214-8522-d4e397a1ad32",
   "metadata": {},
   "outputs": [],
   "source": [
    "def minpoly_recovery_success(A, f, trials=1000):\n",
    "    n = A.nrows() # dimension of A\n",
    "    success_rates = {\"Random\" : 0, \n",
    "                    \"Sparse\" : 0, \n",
    "                    \"Structured\" : 0 }\n",
    "    min_poly = A.minpoly() # actual min poly\n",
    "    for category in success_rates.keys():\n",
    "        succeeded = 0\n",
    "        for _ in range(trials):\n",
    "            u, v = generate_vectors(category, n, f)\n",
    "            kappa = [u.dot_product((A^i)*v) for i in range(2*n)] # krylov sequence\n",
    "            mu = berlekamp_massey(kappa) \n",
    "            if mu == min_poly: \n",
    "                succeeded += 1\n",
    "        success_rates[category] = f'{float(succeeded * 100/trials):.2f}%'\n",
    "    return success_rates"
   ]
  },
  {
   "cell_type": "code",
   "execution_count": 12,
   "id": "8e625eba-06e8-4690-a9a4-f44d5a61d714",
   "metadata": {},
   "outputs": [],
   "source": [
    "def plot(title):\n",
    "    labels = list(test_data.keys())\n",
    "    random_vals = [float(test_data[label]['Random'].strip('%')) for label in labels]\n",
    "    bars = plt.bar(labels, random_vals, color='steelblue')\n",
    "    plt.ylabel('Random Vectors\\' Success Rate (%)')\n",
    "    plt.title(title)\n",
    "    plt.ylim(0, 110)\n",
    "    for bar in bars:\n",
    "        height = bar.get_height()\n",
    "        plt.text(bar.get_x() + bar.get_width() / 2, height + 2, f'{height:.1f}%', \n",
    "                 ha='center', va='bottom', fontsize=9)\n",
    "    plt.tight_layout()\n",
    "    plt.show()"
   ]
  },
  {
   "cell_type": "markdown",
   "id": "41b59151-cc46-47c7-88a2-68e34084dea4",
   "metadata": {},
   "source": [
    "### 1. Varying matrix size\n",
    "Fixed:\n",
    "- Field: GF(31)\n",
    "- Matrix type: diagonal\n",
    "\n",
    "Varied:\n",
    "- Case 1: all distinct eigenvalues, case 2: all same eigenvalues\n",
    "- Matrix dimension: 3, 15, 30\n",
    "- Vector types: random, sparse, structured"
   ]
  },
  {
   "cell_type": "code",
   "execution_count": 13,
   "id": "74c335b5-12e4-49ed-887e-38bf006ad841",
   "metadata": {},
   "outputs": [],
   "source": [
    "# Test 1: Varying field size (n)\n",
    "test_data = {}\n",
    "t1_dims = [2, 16, 30]\n",
    "def test10(n):\n",
    "    test_name = f'{n}x{n} matrix'\n",
    "    f = GF(31) # Fixed field\n",
    "    A = diagonal_matrix(f, [i for i in range(1, n + 1)])\n",
    "    success_rates = minpoly_recovery_success(A, f)\n",
    "    test_data.update({test_name : success_rates})\n",
    "    return test_data[test_name]\n",
    "for n in t1_dims:\n",
    "    test10(n)\n",
    "# print(test_data)"
   ]
  },
  {
   "cell_type": "code",
   "execution_count": null,
   "id": "14b86993-26b0-49ba-bd32-ca9218859183",
   "metadata": {},
   "outputs": [],
   "source": [
    "plot('MinPoly Recovery: Diagonal Matrices with Distinct Eigenvalues & Varying Dimensions')"
   ]
  },
  {
   "cell_type": "code",
   "execution_count": null,
   "id": "7f90cb40-2b55-4071-a70d-776dfce21797",
   "metadata": {},
   "outputs": [],
   "source": [
    "test_data = {}\n",
    "def test11(n):\n",
    "    test_name = f'{n}x{n} matrix'\n",
    "    f = GF(31) # Fixed field\n",
    "    A = diagonal_matrix(f, [1] * (n // 2) + [2] * (n // 2))\n",
    "    success_rates = minpoly_recovery_success(A, f)\n",
    "    test_data.update({test_name : success_rates})\n",
    "    return test_data[test_name]\n",
    "for n in t1_dims:\n",
    "    test11(n)\n",
    "# print(test_data)"
   ]
  },
  {
   "cell_type": "code",
   "execution_count": null,
   "id": "45ef55e4-70b7-43fa-88e2-6df2d0c97540",
   "metadata": {},
   "outputs": [],
   "source": [
    "plot('MinPoly Recovery vs. Matrix Dimension (Diagonal Matrices with Repeated Eigenvalues)')"
   ]
  },
  {
   "cell_type": "markdown",
   "id": "530ff82c-43b0-4bdc-8ebe-ba926ec2d044",
   "metadata": {},
   "source": [
    "{1003: {'Random': '81.30%', 'Sparse': '0.00%', 'Structured': '100.00%'}, 1015: {'Random': '37.70%', 'Sparse': '0.00%', 'Structured': '100.00%'}, 1030: {'Random': '14.40%', 'Sparse': '0.00%', 'Structured': '100.00%'}, 1103: {'Random': '96.00%', 'Sparse': '31.70%', 'Structured': '100.00%'}, 1115: {'Random': '97.90%', 'Sparse': '5.80%', 'Structured': '100.00%'}, 1130: {'Random': '96.40%', 'Sparse': '3.20%', 'Structured': '100.00%'}}\n",
    "\n",
    "- More distinct eigenvalues -> less success rate\n",
    "- Success rate seems to be independent from matrix size"
   ]
  },
  {
   "cell_type": "markdown",
   "id": "aced8134-7d3c-4668-9aba-4b0e1e1c9467",
   "metadata": {},
   "source": [
    "### 2. Varying duplicities\n",
    "Fixed:\n",
    "- Field: GF(31)\n",
    "- Matrix type: diagonal\n",
    "- Matrix dimension: 10\n",
    "\n",
    "Varied:\n",
    "- Case 1: m duplicities, the rest distinct (m <= 10)\n",
    "- Case 2: m duplicities of $\\lambda_1$, 10 - m duplicities of $\\lambda_2$\n",
    "- Vector types: random, sparse, structured"
   ]
  },
  {
   "cell_type": "code",
   "execution_count": 16,
   "id": "04895a4b-568c-4b67-bec7-68c81a46095e",
   "metadata": {},
   "outputs": [
    {
     "name": "stdout",
     "output_type": "stream",
     "text": [
      "{2001: {'Random': '50.50%', 'Sparse': '0.00%', 'Structured': '100.00%'}, 2002: {'Random': '56.20%', 'Sparse': '0.00%', 'Structured': '100.00%'}, 2003: {'Random': '61.50%', 'Sparse': '0.00%', 'Structured': '100.00%'}, 2004: {'Random': '64.60%', 'Sparse': '0.00%', 'Structured': '100.00%'}, 2005: {'Random': '69.70%', 'Sparse': '0.00%', 'Structured': '100.00%'}, 2006: {'Random': '75.10%', 'Sparse': '0.00%', 'Structured': '100.00%'}, 2007: {'Random': '78.90%', 'Sparse': '0.00%', 'Structured': '100.00%'}, 2008: {'Random': '84.40%', 'Sparse': '0.00%', 'Structured': '100.00%'}, 2009: {'Random': '90.20%', 'Sparse': '0.00%', 'Structured': '100.00%'}, 2010: {'Random': '96.10%', 'Sparse': '8.30%', 'Structured': '100.00%'}, 2105: {'Random': '93.00%', 'Sparse': '0.00%', 'Structured': '100.00%'}, 2106: {'Random': '93.00%', 'Sparse': '0.00%', 'Structured': '100.00%'}, 2107: {'Random': '94.40%', 'Sparse': '0.00%', 'Structured': '100.00%'}, 2108: {'Random': '94.40%', 'Sparse': '0.00%', 'Structured': '100.00%'}, 2109: {'Random': '88.10%', 'Sparse': '0.00%', 'Structured': '100.00%'}, 2110: {'Random': '95.30%', 'Sparse': '8.10%', 'Structured': '100.00%'}}\n"
     ]
    }
   ],
   "source": [
    "# Test 2\n",
    "test_data = {}\n",
    "def test20(n):\n",
    "    test_id = 2000 + n\n",
    "    f = GF(31) # Fixed field\n",
    "    A = diagonal_matrix(f, [1] * n + [i for i in range(2, 12 - n)])\n",
    "    # print(A)\n",
    "    success_rates = minpoly_recovery_success(A, f)\n",
    "    test_data.update({test_id : success_rates})\n",
    "    return test_data[test_id]\n",
    "def test21(n):\n",
    "    test_id = 2100 + n\n",
    "    f = GF(31) # Fixed field\n",
    "    A = diagonal_matrix(f, [1] * n + [2] * (10 - n))\n",
    "    # print(A)\n",
    "    success_rates = minpoly_recovery_success(A, f)\n",
    "    test_data.update({test_id : success_rates})\n",
    "    return test_data[test_id]\n",
    "for n in range(1, 11): \n",
    "    test20(n)\n",
    "for n in range(5, 11):\n",
    "    test21(n)\n",
    "print(test_data)"
   ]
  },
  {
   "cell_type": "code",
   "execution_count": null,
   "id": "c100fee7-8ba7-41b5-bdc9-80c488876ba9",
   "metadata": {},
   "outputs": [],
   "source": []
  },
  {
   "cell_type": "markdown",
   "id": "21141fdc-d9b3-4640-97b8-de286e7ae158",
   "metadata": {},
   "source": [
    "### 3. Different eigenvalue ranges\n",
    "Fixed:\n",
    "- Field: GF(31)\n",
    "- Matrix type: diagonal\n",
    "- Matrix dimension: 15\n",
    "\n",
    "Varied:\n",
    "- Range: 1 -> 15, 16 -> 30\n",
    "- Vector types: random, sparse, structured"
   ]
  },
  {
   "cell_type": "code",
   "execution_count": 17,
   "id": "6634129b-e57c-44c1-9607-f6e9055f4a09",
   "metadata": {},
   "outputs": [
    {
     "name": "stdout",
     "output_type": "stream",
     "text": [
      "{3001: {'Random': '37.80%', 'Sparse': '0.00%', 'Structured': '100.00%'}, 3016: {'Random': '36.30%', 'Sparse': '0.00%', 'Structured': '100.00%'}}\n"
     ]
    }
   ],
   "source": [
    "# Test 3\n",
    "test_data = {}\n",
    "def test30(start):\n",
    "    test_id = 3000 + start\n",
    "    f = GF(31) # Fixed field\n",
    "    A = diagonal_matrix(f, [i for i in range(start, 15 + start)])\n",
    "    success_rates = minpoly_recovery_success(A, f)\n",
    "    test_data.update({test_id : success_rates})\n",
    "    return test_data[test_id]\n",
    "test30(1)\n",
    "test30(16)\n",
    "print(test_data)"
   ]
  },
  {
   "cell_type": "markdown",
   "id": "114adbba-c6e8-4dbf-adac-125b8b357531",
   "metadata": {},
   "source": [
    "### 4. Varying field size\n",
    "Fixed:\n",
    "- Matrix: diag(1, 2, 3, 4, 5, 6, 7, 8, 9, 10)\n",
    "\n",
    "Varied:\n",
    "- Field: GF(2), GF(7), GF(31), GF(997)\n",
    "- Vector types: random, sparse, structured"
   ]
  },
  {
   "cell_type": "code",
   "execution_count": 18,
   "id": "858bec75-ae34-4470-97a3-8949ce8a3575",
   "metadata": {},
   "outputs": [
    {
     "name": "stdout",
     "output_type": "stream",
     "text": [
      "{4002: {'Random': '0.00%', 'Sparse': '0.00%', 'Structured': '0.00%'}, 4007: {'Random': '0.00%', 'Sparse': '0.00%', 'Structured': '0.00%'}, 4031: {'Random': '51.10%', 'Sparse': '0.00%', 'Structured': '100.00%'}, 4109: {'Random': '83.70%', 'Sparse': '0.00%', 'Structured': '100.00%'}, 4997: {'Random': '97.30%', 'Sparse': '0.00%', 'Structured': '100.00%'}}\n"
     ]
    }
   ],
   "source": [
    "field_orders = [2, 7, 31, 109, 997]\n",
    "test_data = {}\n",
    "def test40(order):\n",
    "    test_id = 4000 + order\n",
    "    f = GF(order)\n",
    "    A = diagonal_matrix(f, [i for i in range(1, 11)])\n",
    "    success_rates = minpoly_recovery_success(A, f)\n",
    "    test_data.update({test_id : success_rates})\n",
    "    return test_data[test_id]\n",
    "for order in field_orders:\n",
    "    test40(order)\n",
    "print(test_data)"
   ]
  }
 ],
 "metadata": {
  "kernelspec": {
   "display_name": "SageMath 10.6",
   "language": "sage",
   "name": "sagemath-10.6"
  },
  "language_info": {
   "codemirror_mode": {
    "name": "ipython",
    "version": 3
   },
   "file_extension": ".py",
   "mimetype": "text/x-python",
   "name": "python",
   "nbconvert_exporter": "python",
   "pygments_lexer": "ipython3",
   "version": "3.12.5"
  }
 },
 "nbformat": 4,
 "nbformat_minor": 5
}
