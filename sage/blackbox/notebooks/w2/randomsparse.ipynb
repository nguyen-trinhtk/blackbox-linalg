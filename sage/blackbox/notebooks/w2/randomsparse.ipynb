{
 "cells": [
  {
   "cell_type": "code",
   "execution_count": 14,
   "id": "5eb2884e-0ec4-4fb9-9c24-0e857a9b7b80",
   "metadata": {},
   "outputs": [],
   "source": [
    "import sys\n",
    "import os\n",
    "modules_path = os.path.abspath(os.path.join(os.getcwd(), '..', 'modules'))\n",
    "if modules_path not in sys.path:\n",
    "    sys.path.insert(0, modules_path)\n",
    "from generators import *\n",
    "from wiedemann import *\n",
    "from random import random"
   ]
  },
  {
   "cell_type": "code",
   "execution_count": 16,
   "id": "b17924d3-bea2-43d2-b5fa-dee5c2eef1a3",
   "metadata": {},
   "outputs": [],
   "source": [
    "def test_random_matrices(num_tests):\n",
    "    i = 0\n",
    "    failed = 0\n",
    "    while i < num_tests:\n",
    "        i += 1\n",
    "        try:\n",
    "            print('---')\n",
    "            print(f'Case {i}...', end=' ')\n",
    "            sparsity = 0.85 + (0.95 - 0.85) * random() # Random sparsity in [0.85, 0.95]\n",
    "            A, b, dim, field = generate_linear_system(sparsity = sparsity)\n",
    "            wiedemann_timed_test(A, b, dim, field)\n",
    "        except Exception as e:\n",
    "            print(f'Failed: {e}')\n",
    "            failed += 1\n",
    "    print('===')\n",
    "    print(f'Failed {failed} cases')"
   ]
  },
  {
   "cell_type": "code",
   "execution_count": 18,
   "id": "2a05b99c-3a59-4f13-89a9-9068c49569da",
   "metadata": {},
   "outputs": [
    {
     "name": "stdout",
     "output_type": "stream",
     "text": [
      "---\n",
      "Case 1... Valid solution: attempt #1\n",
      "Finished Wiedemann in 0.297s (1 attempt)\n",
      "Solution verified against Sage built-in solver (0.004s)\n",
      "Wiedemann generated min poly is correct\n",
      "---\n",
      "Case 2... Valid solution: attempt #1\n",
      "Finished Wiedemann in 1.888s (1 attempt)\n",
      "Solution verified against Sage built-in solver (0.018s)\n",
      "Wiedemann generated min poly is correct\n",
      "---\n",
      "Case 3... Valid solution: attempt #1\n",
      "Finished Wiedemann in 0.577s (1 attempt)\n",
      "Solution verified against Sage built-in solver (0.007s)\n",
      "Wiedemann generated min poly is correct\n",
      "---\n",
      "Case 4... Valid solution: attempt #1\n",
      "Finished Wiedemann in 0.320s (1 attempt)\n",
      "Solution verified against Sage built-in solver (0.005s)\n",
      "Wiedemann generated min poly is correct\n",
      "---\n",
      "Case 5... Valid solution: attempt #1\n",
      "Finished Wiedemann in 1.249s (1 attempt)\n",
      "Solution verified against Sage built-in solver (0.016s)\n",
      "Wiedemann generated min poly is correct\n",
      "---\n",
      "Case 6... Valid solution: attempt #1\n",
      "Finished Wiedemann in 1.458s (1 attempt)\n",
      "Solution verified against Sage built-in solver (0.015s)\n",
      "Wiedemann generated min poly is correct\n",
      "---\n",
      "Case 7... Valid solution: attempt #1\n",
      "Finished Wiedemann in 4.428s (1 attempt)\n",
      "Solution verified against Sage built-in solver (0.041s)\n",
      "Wiedemann generated min poly is correct\n",
      "---\n",
      "Case 8... Valid solution: attempt #1\n",
      "Finished Wiedemann in 0.884s (1 attempt)\n",
      "Solution verified against Sage built-in solver (0.011s)\n",
      "Wiedemann generated min poly is correct\n",
      "---\n",
      "Case 9... Valid solution: attempt #1\n",
      "Finished Wiedemann in 0.460s (1 attempt)\n",
      "Solution verified against Sage built-in solver (0.006s)\n",
      "Wiedemann generated min poly is correct\n",
      "---\n",
      "Case 10... Valid solution: attempt #1\n",
      "Finished Wiedemann in 1.039s (1 attempt)\n",
      "Solution verified against Sage built-in solver (0.012s)\n",
      "Wiedemann generated min poly is correct\n",
      "===\n",
      "Failed 0 cases\n"
     ]
    }
   ],
   "source": [
    "# test_random_matrices(30)\n",
    "test_random_matrices(10)"
   ]
  },
  {
   "cell_type": "code",
   "execution_count": null,
   "id": "949a81a4-4f77-4aa6-a186-61eaf21306bf",
   "metadata": {},
   "outputs": [],
   "source": []
  },
  {
   "cell_type": "code",
   "execution_count": null,
   "id": "db9059e0-5d4d-472f-835f-a7003f57f1d8",
   "metadata": {},
   "outputs": [],
   "source": []
  },
  {
   "cell_type": "code",
   "execution_count": null,
   "id": "92f60549-ddcd-4c99-b6e2-d6a4022482e5",
   "metadata": {},
   "outputs": [],
   "source": []
  }
 ],
 "metadata": {
  "kernelspec": {
   "display_name": "SageMath 10.6",
   "language": "sage",
   "name": "sagemath-10.6"
  },
  "language_info": {
   "codemirror_mode": {
    "name": "ipython",
    "version": 3
   },
   "file_extension": ".py",
   "mimetype": "text/x-python",
   "name": "python",
   "nbconvert_exporter": "python",
   "pygments_lexer": "ipython3",
   "version": "3.12.5"
  }
 },
 "nbformat": 4,
 "nbformat_minor": 5
}
