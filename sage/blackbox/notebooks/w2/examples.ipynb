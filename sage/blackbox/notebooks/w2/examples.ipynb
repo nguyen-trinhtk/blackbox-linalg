{
 "cells": [
  {
   "cell_type": "markdown",
   "id": "a8f13f2a-5ad4-4ad5-b009-02c226bf5041",
   "metadata": {},
   "source": [
    "### Wiedemann's algorithm over predefined tests"
   ]
  },
  {
   "cell_type": "code",
   "execution_count": 282,
   "id": "503551a5-b640-4660-9089-0cb2e4362afd",
   "metadata": {},
   "outputs": [],
   "source": [
    "import sys\n",
    "import os\n",
    "modules_path = os.path.abspath(os.path.join(os.getcwd(), '..', 'modules'))\n",
    "if modules_path not in sys.path:\n",
    "    sys.path.insert(0, modules_path)\n",
    "from wiedemann import *"
   ]
  },
  {
   "cell_type": "markdown",
   "id": "75bb06f7-f10e-4487-b8e8-ea00913c8929",
   "metadata": {},
   "source": [
    "#### Tests"
   ]
  },
  {
   "cell_type": "code",
   "execution_count": 292,
   "id": "e9f72286-b277-4a52-9d9a-d047c5b5f552",
   "metadata": {},
   "outputs": [
    {
     "name": "stdout",
     "output_type": "stream",
     "text": [
      "True\n",
      "Valid solution: attempt #1\n",
      "Finished Wiedemann in 0.001s (1 attempt)\n",
      "Solution verified against Sage built-in solver (0.000s)\n",
      "Wiedemann generated min poly is correct\n"
     ]
    },
    {
     "data": {
      "text/plain": [
       "1"
      ]
     },
     "execution_count": 292,
     "metadata": {},
     "output_type": "execute_result"
    }
   ],
   "source": [
    "# Known matrix - unknown solution\n",
    "F1 = GF(7)\n",
    "n1 = 5\n",
    "A1 = Matrix(F1, [\n",
    "  [1, 0, 0, 2, 0],\n",
    "  [0, 3, 0, 0, 0],\n",
    "  [0, 0, 0, 0, 1],\n",
    "  [4, 0, 0, 0, 0],\n",
    "  [0, 0, 5, 0, 2]\n",
    "])\n",
    "print(A1.is_invertible())\n",
    "b1 = vector(F1, [1, 2, 3, 4, 5])\n",
    "wiedemann_timed_test(A1, b1, n1, F1)"
   ]
  },
  {
   "cell_type": "code",
   "execution_count": 333,
   "id": "2978bc22-31a2-477f-8f0c-86acde14d6cc",
   "metadata": {},
   "outputs": [
    {
     "name": "stdout",
     "output_type": "stream",
     "text": [
      "True\n",
      "A1's actual min poly: x^5 + x^4 + 5*x^3 + 5*x^2 + 5*x + 6\n",
      "67.08%\n"
     ]
    }
   ],
   "source": [
    "F1 = GF(7)\n",
    "n1 = 5\n",
    "A1 = Matrix(F1, [\n",
    "  [1, 0, 0, 2, 0],\n",
    "  [0, 3, 0, 0, 0],\n",
    "  [0, 0, 0, 0, 1],\n",
    "  [4, 0, 0, 0, 0],\n",
    "  [0, 0, 5, 0, 2]\n",
    "])\n",
    "print(A1.is_invertible())\n",
    "a1_minpoly = A1.minpoly()\n",
    "print(f\"A1's actual min poly: {a1_minpoly}\")\n",
    "trials = 10000\n",
    "cnt = 0\n",
    "for i in range(trials):\n",
    "    u = generate_vector(F1, n1)\n",
    "    v = generate_vector(F1, n1)\n",
    "    # print(u, v)\n",
    "    krylov_sequence = [u.dot_product((A1^i)*v) for i in range(10)]\n",
    "    bm_minpoly = berlekamp_massey(krylov_sequence)\n",
    "    # print(f\"BM min poly: {bm_minpoly}\")\n",
    "    if (a1_minpoly.quo_rem(bm_minpoly)[0]==1):\n",
    "        cnt += 1\n",
    "print(f'{float((cnt/trials)*100)}%')\n"
   ]
  },
  {
   "cell_type": "code",
   "execution_count": null,
   "id": "6d79d666-9684-475b-ba49-7af9feaed191",
   "metadata": {},
   "outputs": [],
   "source": [
    "# Identity matrix\n",
    "n1 = 20\n",
    "A1 = identity_matrix(n1)\n",
    "# print(A1.is_invertible())\n",
    "a1_minpoly = A1.minpoly()\n",
    "# print(f\"A1's actual min poly: {a1_minpoly}\")\n",
    "trials = 10000\n",
    "cnt = 0\n",
    "for i in range(trials):\n",
    "    u = generate_vector(F1, n1)\n",
    "    v = generate_vector(F1, n1)  \n",
    "    # print(u, v)\n",
    "    krylov_sequence = [u.dot_product((A1^i)*v) for i in range(2 * n1)] # finding u, v leading to bad min poly generation (BM)\n",
    "    bm_minpoly = berlekamp_massey(krylov_sequence)\n",
    "    # print(f\"BM min poly: {bm_minpoly}\")\n",
    "    if (a1_minpoly.quo_rem(bm_minpoly)[0]==1):\n",
    "        cnt += 1\n",
    "print(f'{float((cnt/trials)*100)}%')"
   ]
  },
  {
   "cell_type": "markdown",
   "id": "087aed90-66af-4860-8e0e-eed19fb6d777",
   "metadata": {},
   "source": [
    "- min poly -> char poly\n",
    "1. generate poly | min poly\n",
    "2. random matrices -> varying field, varying dimensions\n",
    "3. check early min poly generation for krylov\n",
    "4. calculate determinants & experiments\n",
    "- graph\n",
    "- literature results for prob an.\n",
    "- "
   ]
  },
  {
   "cell_type": "code",
   "execution_count": 340,
   "id": "5e1163ef-9a96-49b4-b184-16427eaa9420",
   "metadata": {},
   "outputs": [
    {
     "name": "stdout",
     "output_type": "stream",
     "text": [
      "Valid solution: attempt #1\n",
      "Finished Wiedemann in 0.001s (1 attempt)\n",
      "Solution verified against Sage built-in solver (0.000s)\n",
      "Wiedemann generated min poly is correct\n"
     ]
    },
    {
     "data": {
      "text/plain": [
       "1"
      ]
     },
     "execution_count": 340,
     "metadata": {},
     "output_type": "execute_result"
    }
   ],
   "source": [
    "# Random sparse matrix\n",
    "n2 = 10\n",
    "F2 = GF(13)\n",
    "density = 0.1\n",
    "A2 = random_matrix(F2, n2, n2, density=density)\n",
    "while not A2.is_invertible():\n",
    "    A2 = random_matrix(F2, n2, n2, density=density)\n",
    "b2 = random_vector(F2, n2)\n",
    "wiedemann_timed_test(A2, b2, n2, F2)"
   ]
  },
  {
   "cell_type": "code",
   "execution_count": 294,
   "id": "23b7dafa-981d-4df7-b515-211e229bf8a4",
   "metadata": {},
   "outputs": [
    {
     "name": "stdout",
     "output_type": "stream",
     "text": [
      "Valid solution: attempt #1\n",
      "Finished Wiedemann in 0.002s (1 attempt)\n",
      "Solution verified against Sage built-in solver (0.000s)\n",
      "Wiedemann generated min poly is correct\n"
     ]
    },
    {
     "data": {
      "text/plain": [
       "1"
      ]
     },
     "execution_count": 294,
     "metadata": {},
     "output_type": "execute_result"
    }
   ],
   "source": [
    "# Known matrix - Known solution\n",
    "F3 = GF(13)\n",
    "n3 = 6\n",
    "diag_entries = [2, 3, 5, 7, 11, 1]\n",
    "A3 = diagonal_matrix(F3, diag_entries)\n",
    "b3 = vector(F3, [1, 3, 6, 2, 11, 3])\n",
    "wiedemann_timed_test(A3, b3, n3, F3)"
   ]
  },
  {
   "cell_type": "code",
   "execution_count": 295,
   "id": "d5336a54-62d9-4622-8a44-4c757faf1f62",
   "metadata": {},
   "outputs": [
    {
     "name": "stdout",
     "output_type": "stream",
     "text": [
      "Attempt 1 failed...\n",
      "Valid solution: attempt #2\n",
      "Finished Wiedemann in 0.004s (2 attempts)\n",
      "Solution verified against Sage built-in solver (0.001s)\n",
      "Wiedemann generated min poly is correct\n"
     ]
    },
    {
     "data": {
      "text/plain": [
       "2"
      ]
     },
     "execution_count": 295,
     "metadata": {},
     "output_type": "execute_result"
    }
   ],
   "source": [
    "# Diagonal matrix\n",
    "F45 = GF(13)\n",
    "n45 = 5\n",
    "diag_entries = [2, 3, 5, 7, 11]\n",
    "A4 = diagonal_matrix(F45, diag_entries)\n",
    "b4 = vector(F45, [1, 2, 3, 4, 5])\n",
    "wiedemann_timed_test(A4, b4, n45, F45)"
   ]
  },
  {
   "cell_type": "code",
   "execution_count": 296,
   "id": "8676baa7-bd96-464e-9524-23249ef92254",
   "metadata": {},
   "outputs": [
    {
     "name": "stdout",
     "output_type": "stream",
     "text": [
      "Valid solution: attempt #1\n",
      "Finished Wiedemann in 0.001s (1 attempt)\n",
      "Solution verified against Sage built-in solver (0.000s)\n",
      "Wiedemann generated min poly is correct\n"
     ]
    },
    {
     "data": {
      "text/plain": [
       "1"
      ]
     },
     "execution_count": 296,
     "metadata": {},
     "output_type": "execute_result"
    }
   ],
   "source": [
    "# Scalar matrix\n",
    "scalar_val = F45(4)\n",
    "A5 = scalar_val * identity_matrix(F45, 5)\n",
    "b5 = vector(F45, [1, 12, 5, 2, 4])\n",
    "wiedemann_timed_test(A5, b5, n45, F45)"
   ]
  },
  {
   "cell_type": "code",
   "execution_count": 297,
   "id": "9764129d-f412-4c93-8423-b2eef25b76cd",
   "metadata": {},
   "outputs": [
    {
     "name": "stdout",
     "output_type": "stream",
     "text": [
      "Valid solution: attempt #1\n",
      "Finished Wiedemann in 0.002s (1 attempt)\n",
      "Solution verified against Sage built-in solver (0.000s)\n",
      "Wiedemann generated min poly is correct\n"
     ]
    },
    {
     "data": {
      "text/plain": [
       "1"
      ]
     },
     "execution_count": 297,
     "metadata": {},
     "output_type": "execute_result"
    }
   ],
   "source": [
    "# Block diagonal\n",
    "F6 = GF(11)\n",
    "n6 = 5\n",
    "# Block diagonal matrix with two invertible blocks (2x2 and 3x3)\n",
    "block1 = matrix(F6, [[2, 1], [1, 3]])\n",
    "block2 = matrix(F6, [[4, 0, 1], [0, 5, 2], [1, 0, 6]])\n",
    "A6 = block_diagonal_matrix([block1, block2])\n",
    "b6 = vector(F6, [1, 2, 3, 4, 5])\n",
    "wiedemann_timed_test(A6, b6, n6, F6)"
   ]
  },
  {
   "cell_type": "code",
   "execution_count": 298,
   "id": "fad0e284-e91b-499e-88df-9f63d11222ca",
   "metadata": {},
   "outputs": [
    {
     "name": "stdout",
     "output_type": "stream",
     "text": [
      "Valid solution: attempt #1\n",
      "Finished Wiedemann in 0.002s (1 attempt)\n",
      "Solution verified against Sage built-in solver (0.000s)\n",
      "Wiedemann generated min poly is correct\n"
     ]
    },
    {
     "data": {
      "text/plain": [
       "1"
      ]
     },
     "execution_count": 298,
     "metadata": {},
     "output_type": "execute_result"
    }
   ],
   "source": [
    "# Over GF(101)\n",
    "F101 = GF(101)\n",
    "A101 = random_matrix(F101, 5, 5)\n",
    "while not A101.is_invertible():\n",
    "    A101 = random_matrix(F101, 5, 5)\n",
    "b101 = A101 * vector(F101, [10, 20, 30, 40, 50])\n",
    "wiedemann_timed_test(A101, b101, 5, F101)"
   ]
  },
  {
   "cell_type": "code",
   "execution_count": 299,
   "id": "1d2397e1-0ae8-4049-b130-6784f403e698",
   "metadata": {},
   "outputs": [
    {
     "name": "stdout",
     "output_type": "stream",
     "text": [
      "Valid solution: attempt #1\n",
      "Finished Wiedemann in 0.001s (1 attempt)\n",
      "Solution verified against Sage built-in solver (0.000s)\n",
      "Wiedemann generated min poly is correct\n"
     ]
    },
    {
     "data": {
      "text/plain": [
       "1"
      ]
     },
     "execution_count": 299,
     "metadata": {},
     "output_type": "execute_result"
    }
   ],
   "source": [
    "# 1x1 matrix\n",
    "F = GF(13)\n",
    "A_1x1 = matrix(F, [[5]])\n",
    "b_1x1 = vector(F, [7])\n",
    "wiedemann_timed_test(A_1x1, b_1x1, 1, F)"
   ]
  },
  {
   "cell_type": "code",
   "execution_count": 300,
   "id": "4246e15e-9eda-40fb-8a40-0824d81d6add",
   "metadata": {},
   "outputs": [
    {
     "name": "stdout",
     "output_type": "stream",
     "text": [
      "Valid solution: attempt #1\n",
      "Finished Wiedemann in 0.001s (1 attempt)\n",
      "Solution verified against Sage built-in solver (0.000s)\n",
      "Wiedemann generated min poly is correct\n"
     ]
    },
    {
     "data": {
      "text/plain": [
       "1"
      ]
     },
     "execution_count": 300,
     "metadata": {},
     "output_type": "execute_result"
    }
   ],
   "source": [
    "# Identity\n",
    "F = GF(17)\n",
    "A_id = identity_matrix(F, 4)\n",
    "x_true_id = vector(F, [3, 6, 9, 12])\n",
    "b_id = vector(F, [3, 6, 9, 12])\n",
    "wiedemann_timed_test(A_id, b_id, 4, F)"
   ]
  },
  {
   "cell_type": "code",
   "execution_count": null,
   "id": "1e8847af-1d04-45a8-8c1d-c7615922f218",
   "metadata": {},
   "outputs": [],
   "source": []
  },
  {
   "cell_type": "code",
   "execution_count": null,
   "id": "a758866f-9c3e-455d-9e96-fe1ef0768f3e",
   "metadata": {},
   "outputs": [],
   "source": []
  },
  {
   "cell_type": "code",
   "execution_count": null,
   "id": "a0c1d182-ad63-4d85-be7c-5b248ac0d29d",
   "metadata": {},
   "outputs": [],
   "source": []
  },
  {
   "cell_type": "code",
   "execution_count": null,
   "id": "242f4cd3-9842-4ce1-a155-e383c123cde4",
   "metadata": {},
   "outputs": [],
   "source": []
  }
 ],
 "metadata": {
  "kernelspec": {
   "display_name": "SageMath 10.6",
   "language": "sage",
   "name": "sagemath-10.6"
  },
  "language_info": {
   "codemirror_mode": {
    "name": "ipython",
    "version": 3
   },
   "file_extension": ".py",
   "mimetype": "text/x-python",
   "name": "python",
   "nbconvert_exporter": "python",
   "pygments_lexer": "ipython3",
   "version": "3.12.5"
  }
 },
 "nbformat": 4,
 "nbformat_minor": 5
}
