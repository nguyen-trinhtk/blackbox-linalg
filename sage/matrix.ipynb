{
 "cells": [
  {
   "cell_type": "markdown",
   "id": "314fa4ce-746a-47ab-b9e3-332065c32900",
   "metadata": {},
   "source": [
    "## Matrix\n",
    "### 1. Matrix Definitions & Constructions\n",
    "#### Definitions: \n",
    "- $n \\times m$ matrix: rectangular table with $n$ rows, $m$ columns\n",
    "- **Dimension:** $n \\times m$\n",
    "- $A_{i, j}$: **entry** of $A$ in row $i$ and column $j$\n",
    "#### Special Matrices: \n",
    "- **Square matrix:** $A_{n \\times n}$\n",
    "- **Diagonal matrix:** square matrix with off-diagonal entries = 0\n",
    "- **Identity:** $I_n: n \\times n$ matrix where $I_{i, j} = \\left\\{\n",
    "\\begin{aligned}\n",
    "  & 1 : i = j \\\\\n",
    "  & 0 : i = i\n",
    "\\end{aligned}\n",
    "\\right.\n",
    "$  (i.e. diagonal matrix with diagonal entries = 0)\n",
    "- **Triangular matrix:**\n",
    "    - Upper (right): $R_{i, j} = 0$ for all $i > j$\n",
    "    - Lower (left): $L_{i, j} = 0$ for all $i < j$\n",
    "- **Orthogonal matrix:** square matrix with orthonormal columns (or rows) $\\rightarrow Q^TQ = I$ or $Q^T = Q^{-1}$\n",
    "- **Permutation matrix:** square matrix with only $0$ and $1$, such that every row/column has exactly one $1$\n",
    "- **Elementary matrix:** $E = I - \\alpha u v^T$\n",
    "\n",
    "  (where $\\alpha$ is a scalar, $u, v$ is vector with $dim(u) = dim(v)$\n",
    "\n",
    "#### Matrix Constructions in Sage"
   ]
  },
  {
   "cell_type": "markdown",
   "id": "5f46f12a-ebef-4920-b164-a9164934afdc",
   "metadata": {},
   "source": [
    "##### Over the integers"
   ]
  },
  {
   "cell_type": "code",
   "execution_count": 1,
   "id": "9bd715ae-afd9-4ee7-b641-a481a8d8cf9f",
   "metadata": {},
   "outputs": [
    {
     "data": {
      "text/html": [
       "<html>\\(\\displaystyle \\left(\\begin{array}{rr}\n",
       "1 & 2 \\\\\n",
       "3 & 4 \\\\\n",
       "5 & 6\n",
       "\\end{array}\\right)\\)</html>"
      ],
      "text/latex": [
       "$\\displaystyle \\left(\\begin{array}{rr}\n",
       "1 & 2 \\\\\n",
       "3 & 4 \\\\\n",
       "5 & 6\n",
       "\\end{array}\\right)$"
      ],
      "text/plain": [
       "[1 2]\n",
       "[3 4]\n",
       "[5 6]"
      ]
     },
     "metadata": {},
     "output_type": "display_data"
    }
   ],
   "source": [
    "A = matrix(ZZ, [[1, 2], [3, 4], [5, 6]])\n",
    "show(A)"
   ]
  },
  {
   "cell_type": "markdown",
   "id": "e47e8a63-187f-427c-86f4-8012e67dfad6",
   "metadata": {},
   "source": [
    "##### From a list & known number of rows"
   ]
  },
  {
   "cell_type": "code",
   "execution_count": 2,
   "id": "2f1d88f8-efb9-45b9-959a-c080c86ea6a8",
   "metadata": {},
   "outputs": [
    {
     "data": {
      "text/html": [
       "<html>\\(\\displaystyle \\left(\\begin{array}{rrr}\n",
       "1 & 2 & 3 \\\\\n",
       "4 & 5 & 6\n",
       "\\end{array}\\right)\\)</html>"
      ],
      "text/latex": [
       "$\\displaystyle \\left(\\begin{array}{rrr}\n",
       "1 & 2 & 3 \\\\\n",
       "4 & 5 & 6\n",
       "\\end{array}\\right)$"
      ],
      "text/plain": [
       "[1 2 3]\n",
       "[4 5 6]"
      ]
     },
     "metadata": {},
     "output_type": "display_data"
    }
   ],
   "source": [
    "B = matrix(QQ, 2, [1, 2, 3, 4, 5, 6]) # 2 rows\n",
    "show(B)"
   ]
  },
  {
   "cell_type": "markdown",
   "id": "fbaeb5c1-a292-4dfb-9798-59be2e3fa697",
   "metadata": {},
   "source": [
    "##### Zero matrix"
   ]
  },
  {
   "cell_type": "code",
   "execution_count": 3,
   "id": "fa03009d-287e-4136-9397-31768ae89ccd",
   "metadata": {},
   "outputs": [
    {
     "data": {
      "text/html": [
       "<html>\\(\\displaystyle \\left(\\begin{array}{rr}\n",
       "0 & 0 \\\\\n",
       "0 & 0\n",
       "\\end{array}\\right)\\)</html>"
      ],
      "text/latex": [
       "$\\displaystyle \\left(\\begin{array}{rr}\n",
       "0 & 0 \\\\\n",
       "0 & 0\n",
       "\\end{array}\\right)$"
      ],
      "text/plain": [
       "[0 0]\n",
       "[0 0]"
      ]
     },
     "metadata": {},
     "output_type": "display_data"
    }
   ],
   "source": [
    "Z = matrix(QQ, 2, 2, 0)\n",
    "show(Z)"
   ]
  },
  {
   "cell_type": "markdown",
   "id": "caad9a65-f519-4cbb-baf2-be38f999f246",
   "metadata": {},
   "source": [
    "##### Diagonal matrix"
   ]
  },
  {
   "cell_type": "code",
   "execution_count": 4,
   "id": "4bc88c7f-ee42-4129-aa16-7caa93a1f9c6",
   "metadata": {},
   "outputs": [
    {
     "data": {
      "text/html": [
       "<html>\\(\\displaystyle \\left(\\begin{array}{rr}\n",
       "8 & 0 \\\\\n",
       "0 & 8\n",
       "\\end{array}\\right)\\)</html>"
      ],
      "text/latex": [
       "$\\displaystyle \\left(\\begin{array}{rr}\n",
       "8 & 0 \\\\\n",
       "0 & 8\n",
       "\\end{array}\\right)$"
      ],
      "text/plain": [
       "[8 0]\n",
       "[0 8]"
      ]
     },
     "metadata": {},
     "output_type": "display_data"
    }
   ],
   "source": [
    "D = matrix(QQ, 2, 2, 8)\n",
    "show(D)"
   ]
  },
  {
   "cell_type": "markdown",
   "id": "0db1feba-d23a-48ab-9c73-88bbd4b9a645",
   "metadata": {},
   "source": [
    "##### Identity matrix"
   ]
  },
  {
   "cell_type": "code",
   "execution_count": 5,
   "id": "3bda47b9-2ea9-486e-9240-47df94eb306f",
   "metadata": {},
   "outputs": [
    {
     "data": {
      "text/html": [
       "<html>\\(\\displaystyle \\left(\\begin{array}{rrrrr}\n",
       "1 & 0 & 0 & 0 & 0 \\\\\n",
       "0 & 1 & 0 & 0 & 0 \\\\\n",
       "0 & 0 & 1 & 0 & 0 \\\\\n",
       "0 & 0 & 0 & 1 & 0 \\\\\n",
       "0 & 0 & 0 & 0 & 1\n",
       "\\end{array}\\right)\\)</html>"
      ],
      "text/latex": [
       "$\\displaystyle \\left(\\begin{array}{rrrrr}\n",
       "1 & 0 & 0 & 0 & 0 \\\\\n",
       "0 & 1 & 0 & 0 & 0 \\\\\n",
       "0 & 0 & 1 & 0 & 0 \\\\\n",
       "0 & 0 & 0 & 1 & 0 \\\\\n",
       "0 & 0 & 0 & 0 & 1\n",
       "\\end{array}\\right)$"
      ],
      "text/plain": [
       "[1 0 0 0 0]\n",
       "[0 1 0 0 0]\n",
       "[0 0 1 0 0]\n",
       "[0 0 0 1 0]\n",
       "[0 0 0 0 1]"
      ]
     },
     "metadata": {},
     "output_type": "display_data"
    }
   ],
   "source": [
    "I = identity_matrix(5) # 5 x 5 identity matrix\n",
    "show(I)"
   ]
  },
  {
   "cell_type": "markdown",
   "id": "d52c5efd-6ee6-4a8f-abb5-7f477e7d2e8f",
   "metadata": {},
   "source": [
    "##### Jordan matrix"
   ]
  },
  {
   "cell_type": "code",
   "execution_count": 6,
   "id": "418d9eec-ec8e-47f7-a1e7-d3b23611a43c",
   "metadata": {},
   "outputs": [
    {
     "data": {
      "text/html": [
       "<html>\\(\\displaystyle \\left(\\begin{array}{rrr}\n",
       "-2 & 1 & 0 \\\\\n",
       "0 & -2 & 1 \\\\\n",
       "0 & 0 & -2\n",
       "\\end{array}\\right)\\)</html>"
      ],
      "text/latex": [
       "$\\displaystyle \\left(\\begin{array}{rrr}\n",
       "-2 & 1 & 0 \\\\\n",
       "0 & -2 & 1 \\\\\n",
       "0 & 0 & -2\n",
       "\\end{array}\\right)$"
      ],
      "text/plain": [
       "[-2  1  0]\n",
       "[ 0 -2  1]\n",
       "[ 0  0 -2]"
      ]
     },
     "metadata": {},
     "output_type": "display_data"
    }
   ],
   "source": [
    "J = jordan_block(-2, 3) # -2 on diagonal, 1's on super-diagonal\n",
    "show(J)"
   ]
  },
  {
   "cell_type": "markdown",
   "id": "03e6d4fe-9bca-4858-9a87-18d2cbbf4649",
   "metadata": {},
   "source": [
    "### 2. Matrix Operations\n",
    "#### Basic Operations & Properties\n",
    "##### Addition: \n",
    "$C = A + B \\to C_{i, j} = A_{i, j} + B_{i, j}$\n",
    "##### Multiplication: \n",
    "- **Definition:** Given $A_{m \\times n}$\n",
    "\t- **With $n$-vector $x$:** $(A_x)_i = \\sum^{n}_{j=1} A_{i, j} x_j$"
   ]
  },
  {
   "cell_type": "code",
   "execution_count": 7,
   "id": "a8ff6bac-615a-48d8-a27d-7da8fab5a69f",
   "metadata": {},
   "outputs": [],
   "source": [
    "u = vector(QQ, [1, 2, 3])\n",
    "v = vector(QQ, [1, 2])"
   ]
  },
  {
   "cell_type": "code",
   "execution_count": 8,
   "id": "3e0bddef-5318-40b3-8b8a-9ce9651aa043",
   "metadata": {},
   "outputs": [],
   "source": [
    "S = matrix(QQ, [[1, 2], [3, 4]])"
   ]
  },
  {
   "cell_type": "code",
   "execution_count": 9,
   "id": "65ea8209-a0f8-4a1c-a66c-f8539c0102c3",
   "metadata": {},
   "outputs": [
    {
     "data": {
      "text/html": [
       "<html>\\(\\displaystyle \\left(5,\\,11,\\,17\\right)\\)</html>"
      ],
      "text/latex": [
       "$\\displaystyle \\left(5,\\,11,\\,17\\right)$"
      ],
      "text/plain": [
       "(5, 11, 17)"
      ]
     },
     "metadata": {},
     "output_type": "display_data"
    }
   ],
   "source": [
    "show(A*v)"
   ]
  },
  {
   "cell_type": "code",
   "execution_count": 10,
   "id": "77cdf65f-04a1-4289-a07e-73867acc7da4",
   "metadata": {},
   "outputs": [
    {
     "data": {
      "text/html": [
       "<html>\\(\\displaystyle \\left(22,\\,28\\right)\\)</html>"
      ],
      "text/latex": [
       "$\\displaystyle \\left(22,\\,28\\right)$"
      ],
      "text/plain": [
       "(22, 28)"
      ]
     },
     "metadata": {},
     "output_type": "display_data"
    }
   ],
   "source": [
    "show(u*A)"
   ]
  },
  {
   "cell_type": "markdown",
   "id": "6e6fd57c-a779-4b67-85ec-6ed90fb8a34a",
   "metadata": {},
   "source": [
    "- **With $B_{n \\times p}$:**  $(AB_{i, j})= \\sum^{n}_{k = 1} A_{i, k} B_{k, j}$\n",
    "- **Column-row:**\n",
    "\t- $(AB_{i, j}) = A_{i, 1}B_{1, j} + A_{i, 2}B_{2, j} + ... + A_{i, m}B_{m, j}$\n",
    "\t- $AB = (row_iA \\cdot col_j B)$\n",
    "\t- $row_i(AB) = row_iA \\cdot B$\n",
    "\t- $col_j (AB) = A \\cdot col_jB$"
   ]
  },
  {
   "cell_type": "code",
   "execution_count": 11,
   "id": "95ac28e5-05b1-4903-a5c0-2a3e4c896710",
   "metadata": {},
   "outputs": [
    {
     "data": {
      "text/html": [
       "<html>\\(\\displaystyle \\left(\\begin{array}{rr}\n",
       "22 & 28 \\\\\n",
       "49 & 64\n",
       "\\end{array}\\right)\\)</html>"
      ],
      "text/latex": [
       "$\\displaystyle \\left(\\begin{array}{rr}\n",
       "22 & 28 \\\\\n",
       "49 & 64\n",
       "\\end{array}\\right)$"
      ],
      "text/plain": [
       "[22 28]\n",
       "[49 64]"
      ]
     },
     "metadata": {},
     "output_type": "display_data"
    }
   ],
   "source": [
    "show(B*A)"
   ]
  },
  {
   "cell_type": "markdown",
   "id": "c0f138ff-353f-454b-8eb8-f234f028efc8",
   "metadata": {},
   "source": [
    "For square matrix $A$, $A^x = AAA...A$ ($x$ times)"
   ]
  },
  {
   "cell_type": "code",
   "execution_count": 12,
   "id": "6bab1f53-5f80-4485-9cb8-e0b5ab011db2",
   "metadata": {},
   "outputs": [
    {
     "data": {
      "text/html": [
       "<html>\\(\\displaystyle \\left(\\begin{array}{rr}\n",
       "5743 & 8370 \\\\\n",
       "12555 & 18298\n",
       "\\end{array}\\right)\\)</html>"
      ],
      "text/latex": [
       "$\\displaystyle \\left(\\begin{array}{rr}\n",
       "5743 & 8370 \\\\\n",
       "12555 & 18298\n",
       "\\end{array}\\right)$"
      ],
      "text/plain": [
       "[ 5743  8370]\n",
       "[12555 18298]"
      ]
     },
     "metadata": {},
     "output_type": "display_data"
    }
   ],
   "source": [
    "show(S^6)"
   ]
  },
  {
   "cell_type": "markdown",
   "id": "98a0a077-93d8-4144-870f-1c9dd143080a",
   "metadata": {},
   "source": [
    "Computing $S^0v, S^1v, ..., S^6v$ "
   ]
  },
  {
   "cell_type": "code",
   "execution_count": 13,
   "id": "502f3713-e675-447b-838f-646b07303217",
   "metadata": {},
   "outputs": [
    {
     "data": {
      "text/html": [
       "<html>\\(\\displaystyle \\left(\\begin{array}{rr}\n",
       "1 & 2 \\\\\n",
       "7 & 10 \\\\\n",
       "37 & 54 \\\\\n",
       "199 & 290 \\\\\n",
       "1069 & 1558 \\\\\n",
       "5743 & 8370\n",
       "\\end{array}\\right)\\)</html>"
      ],
      "text/latex": [
       "$\\displaystyle \\left(\\begin{array}{rr}\n",
       "1 & 2 \\\\\n",
       "7 & 10 \\\\\n",
       "37 & 54 \\\\\n",
       "199 & 290 \\\\\n",
       "1069 & 1558 \\\\\n",
       "5743 & 8370\n",
       "\\end{array}\\right)$"
      ],
      "text/plain": [
       "[   1    2]\n",
       "[   7   10]\n",
       "[  37   54]\n",
       "[ 199  290]\n",
       "[1069 1558]\n",
       "[5743 8370]"
      ]
     },
     "metadata": {},
     "output_type": "display_data"
    }
   ],
   "source": [
    "show(S.iterates(v, 6)) # images of v under first 6 powers of B"
   ]
  },
  {
   "cell_type": "code",
   "execution_count": 14,
   "id": "ebaf8891-17b8-43d0-ba04-3d3397b66fa9",
   "metadata": {},
   "outputs": [
    {
     "data": {
      "text/html": [
       "<html>\\(\\displaystyle \\left(\\begin{array}{rr}\n",
       "15 & 20 \\\\\n",
       "30 & 45\n",
       "\\end{array}\\right)\\)</html>"
      ],
      "text/latex": [
       "$\\displaystyle \\left(\\begin{array}{rr}\n",
       "15 & 20 \\\\\n",
       "30 & 45\n",
       "\\end{array}\\right)$"
      ],
      "text/plain": [
       "[15 20]\n",
       "[30 45]"
      ]
     },
     "metadata": {},
     "output_type": "display_data"
    }
   ],
   "source": [
    "R.<x> = PolynomialRing(QQ)\n",
    "f = x^2 + 5*x + 3\n",
    "show(f(S))"
   ]
  },
  {
   "cell_type": "markdown",
   "id": "4d9fe45e-8d3a-4499-b7ae-9706678557d9",
   "metadata": {},
   "source": [
    "Properties:\n",
    "- Commutativity of addition: $A + B = B + A$\n",
    "- Associativity of addition: $A + (B + C) = (A + B) + C$\n",
    "- Scalar distributivity over addition: $\\lambda (A + B) = \\lambda A + \\lambda B$\n",
    "- Scalar associativity and distributivity: \n",
    "\t  - $\\lambda (\\mu A) = (\\lambda \\mu) A$\n",
    "\t  - $(\\lambda + \\mu) A = \\lambda A + \\mu A$\n",
    "- Multiplicative identity of scalars: $1A = A$\n",
    "- Left distributivity of multiplication: $A(B + C) = AB + AC$\n",
    "- Right distributivity of multiplication: $(A + B)C = AC + BC$\n",
    "- Scalar multiplication and matrix product compatibility: $\\lambda (AB) = (\\lambda A)B = A(\\lambda B)$\n",
    "- Associativity of multiplication: $A(BC) = (AB)C$"
   ]
  },
  {
   "cell_type": "markdown",
   "id": "0e9cd804-706f-4069-a386-1e16500c3eab",
   "metadata": {},
   "source": [
    "#### Matrix Transposition\n",
    "- **Definition:** The transpose of $n \\times m$ matrix $A$ is the $m \\times n$ matrix $(A_{j, i})_{1 \\le i \\le m, 1 \\le j \\le n}$\n",
    "- **Notation**: $A^T$\n",
    "- **Transpose of a matrix product:** $(AB)^T = B^T A^T$"
   ]
  },
  {
   "cell_type": "code",
   "execution_count": 15,
   "id": "8398709c-b431-4e02-88af-adfcd5b5b7d2",
   "metadata": {},
   "outputs": [
    {
     "data": {
      "text/html": [
       "<html>\\(\\displaystyle \\left(\\begin{array}{rr}\n",
       "1 & 2 \\\\\n",
       "3 & 4 \\\\\n",
       "5 & 6\n",
       "\\end{array}\\right)\\)</html>"
      ],
      "text/latex": [
       "$\\displaystyle \\left(\\begin{array}{rr}\n",
       "1 & 2 \\\\\n",
       "3 & 4 \\\\\n",
       "5 & 6\n",
       "\\end{array}\\right)$"
      ],
      "text/plain": [
       "[1 2]\n",
       "[3 4]\n",
       "[5 6]"
      ]
     },
     "metadata": {},
     "output_type": "display_data"
    },
    {
     "data": {
      "text/html": [
       "<html>\\(\\displaystyle \\left(\\begin{array}{rrr}\n",
       "1 & 3 & 5 \\\\\n",
       "2 & 4 & 6\n",
       "\\end{array}\\right)\\)</html>"
      ],
      "text/latex": [
       "$\\displaystyle \\left(\\begin{array}{rrr}\n",
       "1 & 3 & 5 \\\\\n",
       "2 & 4 & 6\n",
       "\\end{array}\\right)$"
      ],
      "text/plain": [
       "[1 3 5]\n",
       "[2 4 6]"
      ]
     },
     "metadata": {},
     "output_type": "display_data"
    }
   ],
   "source": [
    "show(A)\n",
    "show(A.transpose())"
   ]
  },
  {
   "cell_type": "markdown",
   "id": "90b0a256-df02-4bf6-9a70-a7b1ea06ed66",
   "metadata": {},
   "source": [
    "### 3. Gaussian Elimination\n",
    "#### Gaussian Row Operations\n",
    "Swap"
   ]
  },
  {
   "cell_type": "code",
   "execution_count": 16,
   "id": "b4aba8a0-5ab4-42c0-9db1-7b1c3f8e32e6",
   "metadata": {},
   "outputs": [
    {
     "data": {
      "text/html": [
       "<html>\\(\\displaystyle \\left(\\begin{array}{rrr}\n",
       "1 & 2 & 3 \\\\\n",
       "4 & 5 & 6\n",
       "\\end{array}\\right)\\)</html>"
      ],
      "text/latex": [
       "$\\displaystyle \\left(\\begin{array}{rrr}\n",
       "1 & 2 & 3 \\\\\n",
       "4 & 5 & 6\n",
       "\\end{array}\\right)$"
      ],
      "text/plain": [
       "[1 2 3]\n",
       "[4 5 6]"
      ]
     },
     "metadata": {},
     "output_type": "display_data"
    },
    {
     "data": {
      "text/html": [
       "<html>\\(\\displaystyle \\left(\\begin{array}{rrr}\n",
       "4 & 5 & 6 \\\\\n",
       "1 & 2 & 3\n",
       "\\end{array}\\right)\\)</html>"
      ],
      "text/latex": [
       "$\\displaystyle \\left(\\begin{array}{rrr}\n",
       "4 & 5 & 6 \\\\\n",
       "1 & 2 & 3\n",
       "\\end{array}\\right)$"
      ],
      "text/plain": [
       "[4 5 6]\n",
       "[1 2 3]"
      ]
     },
     "metadata": {},
     "output_type": "display_data"
    }
   ],
   "source": [
    "swap_mat = matrix([[1, 2, 3],[4, 5, 6]])\n",
    "show(swap_mat)\n",
    "swap_mat.swap_rows(0, 1) # (i, j) \n",
    "show(swap_mat)"
   ]
  },
  {
   "cell_type": "markdown",
   "id": "94d246a5-0169-40d9-9dbe-9fcc0eb6661c",
   "metadata": {},
   "source": [
    "Scaling (multiply with a nonzero scalar)"
   ]
  },
  {
   "cell_type": "code",
   "execution_count": 17,
   "id": "162af941-bb33-4800-a89b-df436a09b8cb",
   "metadata": {},
   "outputs": [
    {
     "data": {
      "text/html": [
       "<html>\\(\\displaystyle \\left(\\begin{array}{rrr}\n",
       "1 & 2 & 3 \\\\\n",
       "4 & 5 & 6\n",
       "\\end{array}\\right)\\)</html>"
      ],
      "text/latex": [
       "$\\displaystyle \\left(\\begin{array}{rrr}\n",
       "1 & 2 & 3 \\\\\n",
       "4 & 5 & 6\n",
       "\\end{array}\\right)$"
      ],
      "text/plain": [
       "[1 2 3]\n",
       "[4 5 6]"
      ]
     },
     "metadata": {},
     "output_type": "display_data"
    },
    {
     "data": {
      "text/html": [
       "<html>\\(\\displaystyle \\left(\\begin{array}{rrr}\n",
       "1 & 2 & 3 \\\\\n",
       "12 & 15 & 18\n",
       "\\end{array}\\right)\\)</html>"
      ],
      "text/latex": [
       "$\\displaystyle \\left(\\begin{array}{rrr}\n",
       "1 & 2 & 3 \\\\\n",
       "12 & 15 & 18\n",
       "\\end{array}\\right)$"
      ],
      "text/plain": [
       "[ 1  2  3]\n",
       "[12 15 18]"
      ]
     },
     "metadata": {},
     "output_type": "display_data"
    }
   ],
   "source": [
    "scale_mat = matrix([[1, 2, 3],[4, 5, 6]])\n",
    "show(scale_mat)\n",
    "scale_mat.rescale_row(1, 3) # (i, a) -> a * row i\n",
    "show(scale_mat)"
   ]
  },
  {
   "cell_type": "markdown",
   "id": "2fa4daf0-7a0e-4ac2-b845-5ec742046b39",
   "metadata": {},
   "source": [
    "Row combination"
   ]
  },
  {
   "cell_type": "code",
   "execution_count": 18,
   "id": "855411fb-4f7d-4070-930b-a63cef365690",
   "metadata": {},
   "outputs": [
    {
     "data": {
      "text/html": [
       "<html>\\(\\displaystyle \\left(\\begin{array}{rrr}\n",
       "1 & 2 & 3 \\\\\n",
       "4 & 5 & 6\n",
       "\\end{array}\\right)\\)</html>"
      ],
      "text/latex": [
       "$\\displaystyle \\left(\\begin{array}{rrr}\n",
       "1 & 2 & 3 \\\\\n",
       "4 & 5 & 6\n",
       "\\end{array}\\right)$"
      ],
      "text/plain": [
       "[1 2 3]\n",
       "[4 5 6]"
      ]
     },
     "metadata": {},
     "output_type": "display_data"
    }
   ],
   "source": [
    "rcomb_mat = matrix([[1, 2, 3],[4, 5, 6]])\n",
    "show(rcomb_mat)\n",
    "rcomb_mat.add_multiple_of_row(0, 1, 7) # (i, j, a) -> a * row j + row i"
   ]
  },
  {
   "cell_type": "markdown",
   "id": "6c2fce42-cfbf-4467-b93c-70c41818d5eb",
   "metadata": {},
   "source": [
    "- Gaussian operations preserve solutions, (R)REF\n",
    "- Leading variable: first nonzero variable in a row"
   ]
  },
  {
   "cell_type": "markdown",
   "id": "b3c2798d-815d-429d-aac2-38269164fa0d",
   "metadata": {},
   "source": [
    "##### Augmented matrix from matrix $S_{2 \\times 2}$ and vector $v_2 \\to (B | v)$ "
   ]
  },
  {
   "cell_type": "code",
   "execution_count": 19,
   "id": "c72158a1-c0f3-4383-9163-b4139800ac79",
   "metadata": {},
   "outputs": [
    {
     "data": {
      "text/html": [
       "<html>\\(\\displaystyle \\left(\\begin{array}{rrr}\n",
       "1 & 2 & 1 \\\\\n",
       "3 & 4 & 2\n",
       "\\end{array}\\right)\\)</html>"
      ],
      "text/latex": [
       "$\\displaystyle \\left(\\begin{array}{rrr}\n",
       "1 & 2 & 1 \\\\\n",
       "3 & 4 & 2\n",
       "\\end{array}\\right)$"
      ],
      "text/plain": [
       "[1 2 1]\n",
       "[3 4 2]"
      ]
     },
     "metadata": {},
     "output_type": "display_data"
    }
   ],
   "source": [
    "G = S.augment(v)\n",
    "show(G)"
   ]
  },
  {
   "cell_type": "markdown",
   "id": "50ca2626-ba7b-4b28-a59e-2464e017fcdc",
   "metadata": {},
   "source": [
    "##### (Reduced) Row Echelon Form\n",
    "- Row EF: Each leading var is to the right of the leading var in preceeding row, all zero rows at bottom\n",
    "- Reduced Row EF: EF, and each lead entry is the **one and only** nonzero in the column"
   ]
  },
  {
   "cell_type": "code",
   "execution_count": 20,
   "id": "9c3b23b8-6452-4042-b009-27aee5c8c85e",
   "metadata": {},
   "outputs": [
    {
     "data": {
      "text/html": [
       "<html>\\(\\displaystyle \\left(\\begin{array}{rrr}\n",
       "1 & 0 & 0 \\\\\n",
       "0 & 1 & \\frac{1}{2}\n",
       "\\end{array}\\right)\\)</html>"
      ],
      "text/latex": [
       "$\\displaystyle \\left(\\begin{array}{rrr}\n",
       "1 & 0 & 0 \\\\\n",
       "0 & 1 & \\frac{1}{2}\n",
       "\\end{array}\\right)$"
      ],
      "text/plain": [
       "[  1   0   0]\n",
       "[  0   1 1/2]"
      ]
     },
     "metadata": {},
     "output_type": "display_data"
    },
    {
     "data": {
      "text/html": [
       "<html>\\(\\displaystyle \\left(\\begin{array}{rrr}\n",
       "1 & 0 & 0 \\\\\n",
       "0 & 1 & \\frac{1}{2}\n",
       "\\end{array}\\right)\\)</html>"
      ],
      "text/latex": [
       "$\\displaystyle \\left(\\begin{array}{rrr}\n",
       "1 & 0 & 0 \\\\\n",
       "0 & 1 & \\frac{1}{2}\n",
       "\\end{array}\\right)$"
      ],
      "text/plain": [
       "[  1   0   0]\n",
       "[  0   1 1/2]"
      ]
     },
     "metadata": {},
     "output_type": "display_data"
    }
   ],
   "source": [
    "show(G.echelon_form()) # Row EF\n",
    "show(G.rref()) # Reduced Row EF (RREF)"
   ]
  },
  {
   "cell_type": "markdown",
   "id": "4201a01f-da4b-4539-88d1-76736cbb59ed",
   "metadata": {},
   "source": [
    "##### Pivot\n",
    "- Pivot position: location (index) of leading non-zero entry of row-vector\n",
    "- Pivot column: column containing pivot position\n",
    "- Use pivot element to eliminate entries below it"
   ]
  },
  {
   "cell_type": "code",
   "execution_count": 21,
   "id": "6149efa3-5520-430c-b8af-1e191e89dc92",
   "metadata": {},
   "outputs": [
    {
     "data": {
      "text/html": [
       "<html>\\(\\displaystyle \\left(0, 1\\right)\\)</html>"
      ],
      "text/latex": [
       "$\\displaystyle \\left(0, 1\\right)$"
      ],
      "text/plain": [
       "(0, 1)"
      ]
     },
     "metadata": {},
     "output_type": "display_data"
    },
    {
     "data": {
      "text/html": [
       "<html>\\(\\displaystyle \\left(0, 1\\right)\\)</html>"
      ],
      "text/latex": [
       "$\\displaystyle \\left(0, 1\\right)$"
      ],
      "text/plain": [
       "(0, 1)"
      ]
     },
     "metadata": {},
     "output_type": "display_data"
    }
   ],
   "source": [
    "show(G.pivots()) # indices of columns that span column space\n",
    "show(G.pivot_rows()) # indices of rows that span row space"
   ]
  },
  {
   "cell_type": "markdown",
   "id": "21c07b47-1098-4006-8536-6f109733b83a",
   "metadata": {},
   "source": [
    "### 4. Singular/Nonsingular, Inverse"
   ]
  },
  {
   "cell_type": "markdown",
   "id": "613c7070-79ed-4e8a-809d-733c62f79664",
   "metadata": {},
   "source": [
    "- Checks (non)singularity only for square matrices\n",
    "##### Nonsingular Matrices\n",
    "- **Definition:** square matrix $A_{n\\times n}$ with linearly independent columns\n",
    "- Nonsingular matrix $A$ is **invertible**\n",
    "- Inverse of $A$: $A^{-1}$ such that $A^{-1}A = I$\n",
    "- **Properties:**\n",
    "    - Column space spans $\\mathbb{R}^n$; null space (of itself & its tranpose): $\\{0\\}$\n",
    "    - $Ax = 0 \\Rightarrow x = 0$ ($A$ matrix, $x$ vector); $Ax = b$ has unique solution\n",
    "    - $A, B$ nonsingular $\\to (AB)$ nonsingular, $(AB)^{-1} = B^{-1}A^{-1}$\n",
    "    - $A^T$ also nonsingular, $(A^T)^{-1} = (A^{-1})^T$\n"
   ]
  },
  {
   "cell_type": "code",
   "execution_count": 22,
   "id": "689a3568-b7ff-4b34-bdb4-4666304de3b1",
   "metadata": {},
   "outputs": [
    {
     "data": {
      "text/html": [
       "<html>\\(\\displaystyle \\left(\\begin{array}{rr}\n",
       "1 & 2 \\\\\n",
       "3 & 4\n",
       "\\end{array}\\right)\\)</html>"
      ],
      "text/latex": [
       "$\\displaystyle \\left(\\begin{array}{rr}\n",
       "1 & 2 \\\\\n",
       "3 & 4\n",
       "\\end{array}\\right)$"
      ],
      "text/plain": [
       "[1 2]\n",
       "[3 4]"
      ]
     },
     "metadata": {},
     "output_type": "display_data"
    },
    {
     "data": {
      "text/html": [
       "<html>\\(\\displaystyle \\mathrm{False}\\)</html>"
      ],
      "text/latex": [
       "$\\displaystyle \\mathrm{False}$"
      ],
      "text/plain": [
       "False"
      ]
     },
     "metadata": {},
     "output_type": "display_data"
    },
    {
     "data": {
      "text/html": [
       "<html>\\(\\displaystyle \\mathrm{True}\\)</html>"
      ],
      "text/latex": [
       "$\\displaystyle \\mathrm{True}$"
      ],
      "text/plain": [
       "True"
      ]
     },
     "metadata": {},
     "output_type": "display_data"
    },
    {
     "data": {
      "text/html": [
       "<html>\\(\\displaystyle \\left(\\begin{array}{rr}\n",
       "-2 & 1 \\\\\n",
       "\\frac{3}{2} & -\\frac{1}{2}\n",
       "\\end{array}\\right)\\)</html>"
      ],
      "text/latex": [
       "$\\displaystyle \\left(\\begin{array}{rr}\n",
       "-2 & 1 \\\\\n",
       "\\frac{3}{2} & -\\frac{1}{2}\n",
       "\\end{array}\\right)$"
      ],
      "text/plain": [
       "[  -2    1]\n",
       "[ 3/2 -1/2]"
      ]
     },
     "metadata": {},
     "output_type": "display_data"
    }
   ],
   "source": [
    "show(S)\n",
    "show(S.is_singular())\n",
    "show(S.is_invertible())\n",
    "show(S.inverse())"
   ]
  },
  {
   "cell_type": "markdown",
   "id": "9b098240-d6c4-489b-b726-7d20773693af",
   "metadata": {},
   "source": [
    "##### Singular Matrices\n",
    "- **Definition:** matrices with linearly dependent columns\n",
    "- **Properties:**\n",
    "    - No inverse\n",
    "    - There exists $x \\neq 0$ such that $Ax = 0$\n",
    "    - If $Ax = b$ has a solution, it has infinitely many solutions"
   ]
  },
  {
   "cell_type": "code",
   "execution_count": 23,
   "id": "1977cdae-c536-42e1-93dd-0626b4002d99",
   "metadata": {},
   "outputs": [
    {
     "data": {
      "text/html": [
       "<html>\\(\\displaystyle \\mathrm{True}\\)</html>"
      ],
      "text/latex": [
       "$\\displaystyle \\mathrm{True}$"
      ],
      "text/plain": [
       "True"
      ]
     },
     "metadata": {},
     "output_type": "display_data"
    },
    {
     "data": {
      "text/html": [
       "<html>\\(\\displaystyle \\mathrm{False}\\)</html>"
      ],
      "text/latex": [
       "$\\displaystyle \\mathrm{False}$"
      ],
      "text/plain": [
       "False"
      ]
     },
     "metadata": {},
     "output_type": "display_data"
    }
   ],
   "source": [
    "R = matrix([[1, 2],[2, 4]])\n",
    "show(R.is_singular())\n",
    "show(R.is_invertible())\n",
    "# show(R.inverse()) will prompt error"
   ]
  },
  {
   "cell_type": "markdown",
   "id": "820d32a5-91a5-4813-9213-6bd60125ba20",
   "metadata": {},
   "source": [
    "### 5. Determinant, Adjugate, Laplace Expansion, Determinant of Matrix Product, Cauchy-Binet Expansion\n",
    "#### Determinants\n",
    "- For $1 \\times 1$ matrices: $det(a) = a$\n",
    "- For $2 \\times 2$ matrices: $det(\\begin{smallmatrix}a & b\\\\c & d\\\\ \\end{smallmatrix}) = ad - bc$\n",
    "- **Definition:** Determinants is a function $det: M_{n \\times n} \\rightarrow \\mathbb{R}$ with the following properties:\n",
    "$$ \n",
    "\\begin{align*}\n",
    "&\\det(I) = 1 \\\\\n",
    "&A \\xrightarrow{\\text{switch rows}} B \\quad \\Rightarrow \\quad \\det(B) = -\\det(A) \\\\\n",
    "&A \\xrightarrow{\\text{scale one row by } \\lambda} B \\quad \\Rightarrow \\quad \\det(B) = \\lambda \\cdot \\det(A) \\\\\n",
    "&A \\xrightarrow{\\text{add } \\lambda \\cdot \\text{(one row) to another}} B \\quad \\Rightarrow \\quad \\det(B) = \\det(A)\n",
    "\\end{align*}\n",
    "$$\n",
    "- Determinant is unique function for every $n$\n",
    "- Notation: $\\det(A) = |A|$\n",
    "- If $A$ has a zero (row/column) or has two identical (row/column), then $\\det(A) = 0$\n",
    "- $A$ is invertible $\\Rightarrow \\det(A) \\neq 0$\n",
    "- For any triangular (L/U) matrix $D$, $\\det(D) =$ product of diag. entries\n"
   ]
  },
  {
   "cell_type": "code",
   "execution_count": 24,
   "id": "ca9d2dac-1bcc-4683-ada5-a8b48fb3dbf7",
   "metadata": {},
   "outputs": [
    {
     "data": {
      "text/html": [
       "<html>\\(\\displaystyle \\left(\\begin{array}{rr}\n",
       "1 & 2 \\\\\n",
       "3 & 4\n",
       "\\end{array}\\right)\\)</html>"
      ],
      "text/latex": [
       "$\\displaystyle \\left(\\begin{array}{rr}\n",
       "1 & 2 \\\\\n",
       "3 & 4\n",
       "\\end{array}\\right)$"
      ],
      "text/plain": [
       "[1 2]\n",
       "[3 4]"
      ]
     },
     "metadata": {},
     "output_type": "display_data"
    },
    {
     "data": {
      "text/html": [
       "<html>\\(\\displaystyle -2\\)</html>"
      ],
      "text/latex": [
       "$\\displaystyle -2$"
      ],
      "text/plain": [
       "-2"
      ]
     },
     "metadata": {},
     "output_type": "display_data"
    }
   ],
   "source": [
    "show(S)\n",
    "show(S.determinant()) # or S.det()"
   ]
  },
  {
   "cell_type": "markdown",
   "id": "deb5e321-a04a-467a-b72b-74aa4678c06d",
   "metadata": {},
   "source": [
    "#### Adjugate\n",
    "Given $A_{n \\times n}$, let $A_{ \\sim j, \\sim i}$ be the $(n - 1) \\times (n - 1)$ matrix resulted from removing $i^{th}$ row and $j^{th}$ column of $A$\n",
    "- $(i, j)$ **cofactor** of $A$: $A_{ij} = (-1)^{i + j} \\det(A_{\\sim j, \\sim i})$\n",
    "- **Adjugate** of A: $adj A_{n \\times n} = ((-1)^{i + j}\\det(A_{\\sim j, \\sim i})$ (matrix of cofactors)\n",
    "\n",
    "$\\rightarrow A \\cdot adj A = adj A \\cdot A = \\det(A) \\cdot I_n$\n"
   ]
  },
  {
   "cell_type": "code",
   "execution_count": 25,
   "id": "05f96768-ef56-4e13-8375-a05459a12f58",
   "metadata": {},
   "outputs": [
    {
     "data": {
      "text/html": [
       "<html>\\(\\displaystyle \\left(\\begin{array}{rrr}\n",
       "-3 & 6 & -3 \\\\\n",
       "6 & -12 & 6 \\\\\n",
       "-3 & 6 & -3\n",
       "\\end{array}\\right)\\)</html>"
      ],
      "text/latex": [
       "$\\displaystyle \\left(\\begin{array}{rrr}\n",
       "-3 & 6 & -3 \\\\\n",
       "6 & -12 & 6 \\\\\n",
       "-3 & 6 & -3\n",
       "\\end{array}\\right)$"
      ],
      "text/plain": [
       "[ -3   6  -3]\n",
       "[  6 -12   6]\n",
       "[ -3   6  -3]"
      ]
     },
     "metadata": {},
     "output_type": "display_data"
    }
   ],
   "source": [
    "T = matrix([[1,2,3], [4, 5, 6], [7, 8, 9]])\n",
    "show(T.adjoint())"
   ]
  },
  {
   "cell_type": "markdown",
   "id": "38325945-693a-4a5a-b195-3ad4c06092b0",
   "metadata": {},
   "source": [
    "#### Laplace Expansion\n",
    "- **Along $p^{th}$ row:** $\\det(A) = \\sum_{q=1}^{n} (-1)^{p+j} A_{pq} \\cdot \\det(A_{\\sim p, \\sim q})$\n",
    "- **Along $q^{th}$ row:** $\\det(A) = \\sum_{p=1}^{n} (-1)^{i+q} A_{pq} \\cdot \\det(A_{\\sim p, \\sim q})$\n",
    "\n",
    "#### Determinant of a Matrix Product\n",
    "- **Product of square matrices:** $\\det(AB) = \\det(A) \\cdot \\det(B)$ ($A, B$ square matrices)\n",
    "- **Properties:** Let $A$ be an $n \\times n$ matrix; $\\lambda \\in \\mathbb{R}$; $S$ be an invertible matrix\n",
    "\t- $\\det(AB) = \\det(BA)$\n",
    "    - $\\det(\\lambda A) = \\lambda^n \\cdot \\det(A)$\n",
    "    - $\\det(S^{-1} = \\frac{1}{\\det(S)}$\n",
    "    - $\\det(SAS^{-1}) = \\det(A)$\n",
    "#### Cauchy-Binet Formula\n",
    "Let:\n",
    "- $A$ be an $m \\times n$ matrix and $B$ an $n \\times m$ matrix\n",
    "- $[n] = \\{1, \\dots, n\\}$: set of indices\n",
    "- ${\\tbinom{[n]}{m}}$: set of $m$-combinations of $[n]$ (subsets of size $m$)\n",
    "- For $S \\in {\\tbinom{[n]}{m}}$\n",
    "    - $A_{[m],S}$: $m \\times m$ matrix formed by the columns of $A$ indexed by $S$\n",
    "    - $B_{S,[m]}$: $m \\times m$ matrix formed by the rows of $B$ indexed by $S$.\n",
    "Then\n",
    "$$\\det(AB) = \\sum_{S \\in {\\tbinom{[n]}{m}}} \\det(A_{[m],S}) \\det(B_{S,[m]})$$\n"
   ]
  },
  {
   "cell_type": "code",
   "execution_count": 26,
   "id": "03664d02-7295-4b97-b76e-b760aebfa721",
   "metadata": {},
   "outputs": [
    {
     "name": "stdout",
     "output_type": "stream",
     "text": [
      "det(AB) = 36\n",
      "Cauchy-Binet sum = 36\n"
     ]
    }
   ],
   "source": [
    "from itertools import combinations\n",
    "A = Matrix(QQ, [[1, 2, 3], [4, 5, 6]])\n",
    "B = Matrix(QQ, [[7, 8], [9, 10], [11, 12]])\n",
    "print(\"det(AB) =\", (A * B).det())\n",
    "total = sum(\n",
    "    A.matrix_from_columns(S).det() * B.matrix_from_rows(S).det()\n",
    "    for S in combinations(range(3), 2)\n",
    ")\n",
    "print(\"Cauchy-Binet sum =\", total)\n"
   ]
  },
  {
   "cell_type": "markdown",
   "id": "a300e34d-9343-4a24-9dd0-2e3644f6148c",
   "metadata": {},
   "source": [
    "### 6. Matrix Decomposition (Incomplete)\n",
    "\n",
    "#### QR Decomposition\n",
    "- Any (real) square matrix $A$ can be decomposed as $A = QR$\n",
    "    - $Q$ is an orthogonal matrix\n",
    "    - $R$ is a right (upper) triangular matrix\n",
    "- 2 methods to compute: Gram-Schmidt and Householder reflection"
   ]
  }
 ],
 "metadata": {
  "kernelspec": {
   "display_name": "SageMath 10.6",
   "language": "sage",
   "name": "sagemath-10.6"
  },
  "language_info": {
   "codemirror_mode": {
    "name": "ipython",
    "version": 3
   },
   "file_extension": ".py",
   "mimetype": "text/x-python",
   "name": "python",
   "nbconvert_exporter": "python",
   "pygments_lexer": "ipython3",
   "version": "3.12.5"
  }
 },
 "nbformat": 4,
 "nbformat_minor": 5
}
